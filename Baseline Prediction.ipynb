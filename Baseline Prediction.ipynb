{
 "cells": [
  {
   "cell_type": "code",
   "execution_count": 1,
   "metadata": {},
   "outputs": [
    {
     "name": "stdout",
     "output_type": "stream",
     "text": [
      "Requirement already satisfied: fhnw-nlp-utils>=0.1.3 in /usr/local/lib/python3.6/dist-packages (0.1.6)\n",
      "Requirement already satisfied: pyarrow in /usr/local/lib/python3.6/dist-packages (5.0.0)\n",
      "Requirement already satisfied: fastparquet in /usr/local/lib/python3.6/dist-packages (0.7.1)\n",
      "Requirement already satisfied: pandas in /usr/local/lib/python3.6/dist-packages (from fhnw-nlp-utils>=0.1.3) (1.1.5)\n",
      "Requirement already satisfied: numpy in /usr/local/lib/python3.6/dist-packages (from fhnw-nlp-utils>=0.1.3) (1.19.5)\n",
      "Requirement already satisfied: scikit-learn in /usr/local/lib/python3.6/dist-packages (from fhnw-nlp-utils>=0.1.3) (0.24.2)\n",
      "Requirement already satisfied: psutil in /usr/local/lib/python3.6/dist-packages (from fhnw-nlp-utils>=0.1.3) (5.8.0)\n",
      "Requirement already satisfied: nltk in /usr/local/lib/python3.6/dist-packages (from fhnw-nlp-utils>=0.1.3) (3.6.5)\n",
      "Requirement already satisfied: matplotlib in /usr/local/lib/python3.6/dist-packages (from fhnw-nlp-utils>=0.1.3) (3.3.4)\n",
      "Requirement already satisfied: wordcloud in /usr/local/lib/python3.6/dist-packages (from fhnw-nlp-utils>=0.1.3) (1.8.1)\n",
      "Requirement already satisfied: gdown in /usr/local/lib/python3.6/dist-packages (from fhnw-nlp-utils>=0.1.3) (4.0.2)\n",
      "Requirement already satisfied: multiprocess in /usr/local/lib/python3.6/dist-packages (from fhnw-nlp-utils>=0.1.3) (0.70.12.2)\n",
      "Requirement already satisfied: wget in /usr/local/lib/python3.6/dist-packages (from fhnw-nlp-utils>=0.1.3) (3.2)\n",
      "Requirement already satisfied: thrift>=0.11.0 in /usr/local/lib/python3.6/dist-packages (from fastparquet) (0.15.0)\n",
      "Requirement already satisfied: cramjam>=2.3.0 in /usr/local/lib/python3.6/dist-packages (from fastparquet) (2.4.0)\n",
      "Requirement already satisfied: fsspec in /usr/local/lib/python3.6/dist-packages (from fastparquet) (2021.10.0)\n",
      "Requirement already satisfied: pytz>=2017.2 in /usr/local/lib/python3.6/dist-packages (from pandas->fhnw-nlp-utils>=0.1.3) (2021.3)\n",
      "Requirement already satisfied: python-dateutil>=2.7.3 in /usr/local/lib/python3.6/dist-packages (from pandas->fhnw-nlp-utils>=0.1.3) (2.8.2)\n",
      "Requirement already satisfied: scipy>=0.19.1 in /usr/local/lib/python3.6/dist-packages (from scikit-learn->fhnw-nlp-utils>=0.1.3) (1.5.4)\n",
      "Requirement already satisfied: joblib>=0.11 in /usr/local/lib/python3.6/dist-packages (from scikit-learn->fhnw-nlp-utils>=0.1.3) (1.1.0)\n",
      "Requirement already satisfied: threadpoolctl>=2.0.0 in /usr/local/lib/python3.6/dist-packages (from scikit-learn->fhnw-nlp-utils>=0.1.3) (3.0.0)\n",
      "Requirement already satisfied: tqdm in /usr/local/lib/python3.6/dist-packages (from nltk->fhnw-nlp-utils>=0.1.3) (4.62.3)\n",
      "Requirement already satisfied: click in /usr/local/lib/python3.6/dist-packages (from nltk->fhnw-nlp-utils>=0.1.3) (8.0.3)\n",
      "Requirement already satisfied: regex>=2021.8.3 in /usr/local/lib/python3.6/dist-packages (from nltk->fhnw-nlp-utils>=0.1.3) (2021.10.8)\n",
      "Requirement already satisfied: pyparsing!=2.0.4,!=2.1.2,!=2.1.6,>=2.0.3 in /usr/local/lib/python3.6/dist-packages (from matplotlib->fhnw-nlp-utils>=0.1.3) (2.4.7)\n",
      "Requirement already satisfied: kiwisolver>=1.0.1 in /usr/local/lib/python3.6/dist-packages (from matplotlib->fhnw-nlp-utils>=0.1.3) (1.3.1)\n",
      "Requirement already satisfied: pillow>=6.2.0 in /usr/local/lib/python3.6/dist-packages (from matplotlib->fhnw-nlp-utils>=0.1.3) (8.3.1)\n",
      "Requirement already satisfied: cycler>=0.10 in /usr/local/lib/python3.6/dist-packages (from matplotlib->fhnw-nlp-utils>=0.1.3) (0.10.0)\n",
      "Requirement already satisfied: requests[socks]>=2.12.0 in /usr/local/lib/python3.6/dist-packages (from gdown->fhnw-nlp-utils>=0.1.3) (2.26.0)\n",
      "Requirement already satisfied: filelock in /usr/local/lib/python3.6/dist-packages (from gdown->fhnw-nlp-utils>=0.1.3) (3.3.1)\n",
      "Requirement already satisfied: six in /usr/local/lib/python3.6/dist-packages (from gdown->fhnw-nlp-utils>=0.1.3) (1.15.0)\n",
      "Requirement already satisfied: dill>=0.3.4 in /usr/local/lib/python3.6/dist-packages (from multiprocess->fhnw-nlp-utils>=0.1.3) (0.3.4)\n",
      "Requirement already satisfied: importlib-metadata; python_version < \"3.8\" in /usr/local/lib/python3.6/dist-packages (from click->nltk->fhnw-nlp-utils>=0.1.3) (4.6.3)\n",
      "Requirement already satisfied: urllib3<1.27,>=1.21.1 in /usr/local/lib/python3.6/dist-packages (from requests[socks]>=2.12.0->gdown->fhnw-nlp-utils>=0.1.3) (1.26.6)\n",
      "Requirement already satisfied: idna<4,>=2.5; python_version >= \"3\" in /usr/lib/python3/dist-packages (from requests[socks]>=2.12.0->gdown->fhnw-nlp-utils>=0.1.3) (2.6)\n",
      "Requirement already satisfied: charset-normalizer~=2.0.0; python_version >= \"3\" in /usr/local/lib/python3.6/dist-packages (from requests[socks]>=2.12.0->gdown->fhnw-nlp-utils>=0.1.3) (2.0.4)\n",
      "Requirement already satisfied: certifi>=2017.4.17 in /usr/local/lib/python3.6/dist-packages (from requests[socks]>=2.12.0->gdown->fhnw-nlp-utils>=0.1.3) (2021.5.30)\n",
      "Requirement already satisfied: PySocks!=1.5.7,>=1.5.6; extra == \"socks\" in /usr/local/lib/python3.6/dist-packages (from requests[socks]>=2.12.0->gdown->fhnw-nlp-utils>=0.1.3) (1.7.1)\n",
      "Requirement already satisfied: zipp>=0.5 in /usr/local/lib/python3.6/dist-packages (from importlib-metadata; python_version < \"3.8\"->click->nltk->fhnw-nlp-utils>=0.1.3) (3.5.0)\n",
      "Requirement already satisfied: typing-extensions>=3.6.4; python_version < \"3.8\" in /usr/local/lib/python3.6/dist-packages (from importlib-metadata; python_version < \"3.8\"->click->nltk->fhnw-nlp-utils>=0.1.3) (3.7.4.3)\n",
      "\u001b[33mWARNING: You are using pip version 20.2.4; however, version 21.3 is available.\n",
      "You should consider upgrading via the '/usr/bin/python3 -m pip install --upgrade pip' command.\u001b[0m\n"
     ]
    }
   ],
   "source": [
    "!pip install 'fhnw-nlp-utils>=0.1.3' pyarrow fastparquet\n",
    "\n",
    "from fhnw.nlp.utils.processing import parallelize_dataframe\n",
    "from fhnw.nlp.utils.processing import is_iterable\n",
    "from fhnw.nlp.utils.storage import download\n",
    "from fhnw.nlp.utils.storage import save_dataframe\n",
    "from fhnw.nlp.utils.storage import load_dataframe\n",
    "\n",
    "import pandas as pd\n",
    "import numpy as np"
   ]
  },
  {
   "cell_type": "code",
   "execution_count": 2,
   "metadata": {},
   "outputs": [],
   "source": [
    "file = \"data/german_news_articles_original_train_and_test_tokenized.parq\"\n",
    "data_all = load_dataframe(file)"
   ]
  },
  {
   "cell_type": "code",
   "execution_count": 3,
   "metadata": {},
   "outputs": [
    {
     "data": {
      "text/html": [
       "<div>\n",
       "<style scoped>\n",
       "    .dataframe tbody tr th:only-of-type {\n",
       "        vertical-align: middle;\n",
       "    }\n",
       "\n",
       "    .dataframe tbody tr th {\n",
       "        vertical-align: top;\n",
       "    }\n",
       "\n",
       "    .dataframe thead th {\n",
       "        text-align: right;\n",
       "    }\n",
       "</style>\n",
       "<table border=\"1\" class=\"dataframe\">\n",
       "  <thead>\n",
       "    <tr style=\"text-align: right;\">\n",
       "      <th></th>\n",
       "      <th>text_original</th>\n",
       "      <th>label</th>\n",
       "      <th>split</th>\n",
       "      <th>text_clean</th>\n",
       "      <th>token_clean</th>\n",
       "      <th>token_stem</th>\n",
       "      <th>token_clean_stopwords</th>\n",
       "    </tr>\n",
       "  </thead>\n",
       "  <tbody>\n",
       "    <tr>\n",
       "      <th>863</th>\n",
       "      <td>Neue Aufnahmen der Nasa-Sonde New Horizons ent...</td>\n",
       "      <td>Wissenschaft</td>\n",
       "      <td>test</td>\n",
       "      <td>Neue Aufnahmen der Nasa Sonde New Horizons ent...</td>\n",
       "      <td>[neue, aufnahmen, nasa, sonde, new, horizons, ...</td>\n",
       "      <td>[neu, aufnahm, nasa, sond, new, horizon, enthu...</td>\n",
       "      <td>[neue, aufnahmen, nasa, sonde, new, horizons, ...</td>\n",
       "    </tr>\n",
       "    <tr>\n",
       "      <th>1638</th>\n",
       "      <td>\"Star Wars\", \"Assassin’s Creed\", \"Doctor Who\" ...</td>\n",
       "      <td>Etat</td>\n",
       "      <td>train</td>\n",
       "      <td>Star Wars Assassin Creed Doctor Who und jede ...</td>\n",
       "      <td>[star, wars, assassin, creed, doctor, who, men...</td>\n",
       "      <td>[star, war, assassin, creed, doctor, who, meng...</td>\n",
       "      <td>[star, wars, assassin, creed, doctor, who, men...</td>\n",
       "    </tr>\n",
       "    <tr>\n",
       "      <th>4183</th>\n",
       "      <td>Sollte der Oberste Gerichtshof Obamacare für v...</td>\n",
       "      <td>International</td>\n",
       "      <td>train</td>\n",
       "      <td>Sollte der Oberste Gerichtshof Obamacare für v...</td>\n",
       "      <td>[oberste, gerichtshof, obamacare, verfassungsw...</td>\n",
       "      <td>[oberst, gerichtshof, obamacar, verfassungswid...</td>\n",
       "      <td>[oberste, gerichtshof, obamacare, verfassungsw...</td>\n",
       "    </tr>\n",
       "    <tr>\n",
       "      <th>7442</th>\n",
       "      <td>Spanier egalisiert 0:2-Rückstand des Titelvert...</td>\n",
       "      <td>Sport</td>\n",
       "      <td>train</td>\n",
       "      <td>Spanier egalisiert Rückstand des Titelverteidi...</td>\n",
       "      <td>[spanier, egalisiert, rückstand, titelverteidi...</td>\n",
       "      <td>[spani, egalisiert, ruckstand, titelverteid, r...</td>\n",
       "      <td>[spanier, egalisiert, rückstand, titelverteidi...</td>\n",
       "    </tr>\n",
       "    <tr>\n",
       "      <th>8528</th>\n",
       "      <td>In Österreich sorgt nun ein Plan für Aufregung...</td>\n",
       "      <td>Wirtschaft</td>\n",
       "      <td>train</td>\n",
       "      <td>In Österreich sorgt nun ein Plan für Aufregung...</td>\n",
       "      <td>[österreich, sorgt, plan, aufregung, beimischu...</td>\n",
       "      <td>[osterreich, sorgt, plan, aufreg, beimisch, re...</td>\n",
       "      <td>[österreich, sorgt, plan, aufregung, beimischu...</td>\n",
       "    </tr>\n",
       "    <tr>\n",
       "      <th>1258</th>\n",
       "      <td>\"Beleidigung der patriotischen Gefühle\" – Demo...</td>\n",
       "      <td>Etat</td>\n",
       "      <td>train</td>\n",
       "      <td>Beleidigung der patriotischen Gefühle Demonst...</td>\n",
       "      <td>[beleidigung, patriotischen, gefühle, demonstr...</td>\n",
       "      <td>[beleid, patriot, gefuhl, demonstration, sendu...</td>\n",
       "      <td>[beleidigung, patriotischen, gefühle, demonstr...</td>\n",
       "    </tr>\n",
       "    <tr>\n",
       "      <th>7846</th>\n",
       "      <td>Erste Ergebnisse der Magnetospheric Multiscale...</td>\n",
       "      <td>Wissenschaft</td>\n",
       "      <td>train</td>\n",
       "      <td>Erste Ergebnisse der Magnetospheric Multiscale...</td>\n",
       "      <td>[erste, ergebnisse, magnetospheric, multiscale...</td>\n",
       "      <td>[erst, ergebnis, magnetospheric, multiscal, mi...</td>\n",
       "      <td>[erste, ergebnisse, magnetospheric, multiscale...</td>\n",
       "    </tr>\n",
       "    <tr>\n",
       "      <th>9193</th>\n",
       "      <td>Identität des Toten noch ungeklärt – Vier Poli...</td>\n",
       "      <td>International</td>\n",
       "      <td>train</td>\n",
       "      <td>Identität des Toten noch ungeklärt Vier Polizi...</td>\n",
       "      <td>[identität, toten, ungeklärt, vier, polizisten...</td>\n",
       "      <td>[identitat, tot, ungeklart, vier, polizist, wu...</td>\n",
       "      <td>[identität, toten, ungeklärt, vier, polizisten...</td>\n",
       "    </tr>\n",
       "    <tr>\n",
       "      <th>588</th>\n",
       "      <td>Abd Rabbo Mansour Hadi will in Aden eine Milit...</td>\n",
       "      <td>International</td>\n",
       "      <td>test</td>\n",
       "      <td>Abd Rabbo Mansour Hadi will in Aden eine Milit...</td>\n",
       "      <td>[abd, rabbo, mansour, hadi, aden, militäroffen...</td>\n",
       "      <td>[abd, rabbo, mansour, hadi, aden, militaroffen...</td>\n",
       "      <td>[abd, rabbo, mansour, hadi, aden, militäroffen...</td>\n",
       "    </tr>\n",
       "    <tr>\n",
       "      <th>1098</th>\n",
       "      <td>Testberichte der Fachmagazine falle überwiegen...</td>\n",
       "      <td>Web</td>\n",
       "      <td>train</td>\n",
       "      <td>Testberichte der Fachmagazine falle überwiegen...</td>\n",
       "      <td>[testberichte, fachmagazine, falle, überwiegen...</td>\n",
       "      <td>[testbericht, fachmagazin, fall, uberwieg, pos...</td>\n",
       "      <td>[testberichte, fachmagazine, falle, überwiegen...</td>\n",
       "    </tr>\n",
       "  </tbody>\n",
       "</table>\n",
       "</div>"
      ],
      "text/plain": [
       "                                          text_original          label  split  \\\n",
       "863   Neue Aufnahmen der Nasa-Sonde New Horizons ent...   Wissenschaft   test   \n",
       "1638  \"Star Wars\", \"Assassin’s Creed\", \"Doctor Who\" ...           Etat  train   \n",
       "4183  Sollte der Oberste Gerichtshof Obamacare für v...  International  train   \n",
       "7442  Spanier egalisiert 0:2-Rückstand des Titelvert...          Sport  train   \n",
       "8528  In Österreich sorgt nun ein Plan für Aufregung...     Wirtschaft  train   \n",
       "1258  \"Beleidigung der patriotischen Gefühle\" – Demo...           Etat  train   \n",
       "7846  Erste Ergebnisse der Magnetospheric Multiscale...   Wissenschaft  train   \n",
       "9193  Identität des Toten noch ungeklärt – Vier Poli...  International  train   \n",
       "588   Abd Rabbo Mansour Hadi will in Aden eine Milit...  International   test   \n",
       "1098  Testberichte der Fachmagazine falle überwiegen...            Web  train   \n",
       "\n",
       "                                             text_clean  \\\n",
       "863   Neue Aufnahmen der Nasa Sonde New Horizons ent...   \n",
       "1638   Star Wars Assassin Creed Doctor Who und jede ...   \n",
       "4183  Sollte der Oberste Gerichtshof Obamacare für v...   \n",
       "7442  Spanier egalisiert Rückstand des Titelverteidi...   \n",
       "8528  In Österreich sorgt nun ein Plan für Aufregung...   \n",
       "1258   Beleidigung der patriotischen Gefühle Demonst...   \n",
       "7846  Erste Ergebnisse der Magnetospheric Multiscale...   \n",
       "9193  Identität des Toten noch ungeklärt Vier Polizi...   \n",
       "588   Abd Rabbo Mansour Hadi will in Aden eine Milit...   \n",
       "1098  Testberichte der Fachmagazine falle überwiegen...   \n",
       "\n",
       "                                            token_clean  \\\n",
       "863   [neue, aufnahmen, nasa, sonde, new, horizons, ...   \n",
       "1638  [star, wars, assassin, creed, doctor, who, men...   \n",
       "4183  [oberste, gerichtshof, obamacare, verfassungsw...   \n",
       "7442  [spanier, egalisiert, rückstand, titelverteidi...   \n",
       "8528  [österreich, sorgt, plan, aufregung, beimischu...   \n",
       "1258  [beleidigung, patriotischen, gefühle, demonstr...   \n",
       "7846  [erste, ergebnisse, magnetospheric, multiscale...   \n",
       "9193  [identität, toten, ungeklärt, vier, polizisten...   \n",
       "588   [abd, rabbo, mansour, hadi, aden, militäroffen...   \n",
       "1098  [testberichte, fachmagazine, falle, überwiegen...   \n",
       "\n",
       "                                             token_stem  \\\n",
       "863   [neu, aufnahm, nasa, sond, new, horizon, enthu...   \n",
       "1638  [star, war, assassin, creed, doctor, who, meng...   \n",
       "4183  [oberst, gerichtshof, obamacar, verfassungswid...   \n",
       "7442  [spani, egalisiert, ruckstand, titelverteid, r...   \n",
       "8528  [osterreich, sorgt, plan, aufreg, beimisch, re...   \n",
       "1258  [beleid, patriot, gefuhl, demonstration, sendu...   \n",
       "7846  [erst, ergebnis, magnetospheric, multiscal, mi...   \n",
       "9193  [identitat, tot, ungeklart, vier, polizist, wu...   \n",
       "588   [abd, rabbo, mansour, hadi, aden, militaroffen...   \n",
       "1098  [testbericht, fachmagazin, fall, uberwieg, pos...   \n",
       "\n",
       "                                  token_clean_stopwords  \n",
       "863   [neue, aufnahmen, nasa, sonde, new, horizons, ...  \n",
       "1638  [star, wars, assassin, creed, doctor, who, men...  \n",
       "4183  [oberste, gerichtshof, obamacare, verfassungsw...  \n",
       "7442  [spanier, egalisiert, rückstand, titelverteidi...  \n",
       "8528  [österreich, sorgt, plan, aufregung, beimischu...  \n",
       "1258  [beleidigung, patriotischen, gefühle, demonstr...  \n",
       "7846  [erste, ergebnisse, magnetospheric, multiscale...  \n",
       "9193  [identität, toten, ungeklärt, vier, polizisten...  \n",
       "588   [abd, rabbo, mansour, hadi, aden, militäroffen...  \n",
       "1098  [testberichte, fachmagazine, falle, überwiegen...  "
      ]
     },
     "execution_count": 3,
     "metadata": {},
     "output_type": "execute_result"
    }
   ],
   "source": [
    "data_all.sample(10)"
   ]
  },
  {
   "cell_type": "code",
   "execution_count": 27,
   "metadata": {},
   "outputs": [
    {
     "name": "stdout",
     "output_type": "stream",
     "text": [
      "(10273, 7) (9245, 7) (1028, 7)\n"
     ]
    }
   ],
   "source": [
    "data_train = data_all.loc[(data_all[\"split\"] == \"train\")]\n",
    "data_test = data_all.loc[(data_all[\"split\"] == \"test\")]\n",
    "\n",
    "print(data_all.shape, data_train.shape, data_test.shape)\n",
    "\n",
    "\n",
    "X_train, y_train = data_train[\"token_stem\"], data_train[\"label\"]\n",
    "X_test, y_test = data_test[\"token_stem\"], data_test[\"label\"]"
   ]
  },
  {
   "cell_type": "code",
   "execution_count": 21,
   "metadata": {},
   "outputs": [],
   "source": [
    "y_train = y_train.reindex(np.random.permutation(y_train.index))\n",
    "y_test = y_test.reindex(np.random.permutation(y_test.index))"
   ]
  },
  {
   "cell_type": "code",
   "execution_count": 28,
   "metadata": {},
   "outputs": [
    {
     "name": "stdout",
     "output_type": "stream",
     "text": [
      "Etat             0.065025\n",
      "Inland           0.098803\n",
      "International    0.147085\n",
      "Kultur           0.052468\n",
      "Panorama         0.163341\n",
      "Sport            0.116908\n",
      "Web              0.163243\n",
      "Wirtschaft       0.137350\n",
      "Wissenschaft     0.055777\n",
      "Name: label, dtype: float64\n"
     ]
    },
    {
     "data": {
      "text/plain": [
       "<AxesSubplot:>"
      ]
     },
     "execution_count": 28,
     "metadata": {},
     "output_type": "execute_result"
    },
    {
     "data": {
      "image/png": "[encoded data removed]",
      "text/plain": [
       "<Figure size 432x288 with 1 Axes>"
      ]
     },
     "metadata": {
      "needs_background": "light"
     },
     "output_type": "display_data"
    }
   ],
   "source": [
    "val_counts = data_all[\"label\"].value_counts().sort_index()\n",
    "\n",
    "\n",
    "val_counts = val_counts / np.sum(val_counts)\n",
    "print(val_counts)\n",
    "val_counts.plot(kind='barh')"
   ]
  },
  {
   "cell_type": "code",
   "execution_count": 74,
   "metadata": {},
   "outputs": [
    {
     "name": "stdout",
     "output_type": "stream",
     "text": [
      "CPU times: user 2.48 s, sys: 4.85 s, total: 7.33 s\n",
      "Wall time: 1.17 s\n"
     ]
    },
    {
     "data": {
      "text/plain": [
       "Pipeline(steps=[('vec',\n",
       "                 CountVectorizer(preprocessor=<function <lambda> at 0x7fadd271de18>,\n",
       "                                 tokenizer=<function <lambda> at 0x7fadd40a3c80>)),\n",
       "                ('tfidf', TfidfTransformer()), ('clf', SGDClassifier())])"
      ]
     },
     "execution_count": 74,
     "metadata": {},
     "output_type": "execute_result"
    }
   ],
   "source": [
    "%%time\n",
    "\n",
    "from sklearn.feature_extraction.text import CountVectorizer\n",
    "from sklearn.feature_extraction.text import TfidfTransformer\n",
    "from sklearn.linear_model import SGDClassifier\n",
    "from sklearn.svm import LinearSVC\n",
    "from sklearn.pipeline import Pipeline\n",
    "\n",
    "pipe = Pipeline([\n",
    "         (\"vec\", CountVectorizer(tokenizer=lambda x: x,preprocessor=lambda x: x, stop_words=None)),\n",
    "         ('tfidf', TfidfTransformer()),\n",
    "         (\"clf\", SGDClassifier())\n",
    "        ])\n",
    "pipe.fit(X_train, y_train)"
   ]
  },
  {
   "cell_type": "code",
   "execution_count": 111,
   "metadata": {},
   "outputs": [
    {
     "name": "stdout",
     "output_type": "stream",
     "text": [
      "(2, 125929)\n"
     ]
    },
    {
     "data": {
      "text/plain": [
       "125929"
      ]
     },
     "execution_count": 111,
     "metadata": {},
     "output_type": "execute_result"
    }
   ],
   "source": [
    "print(pipe['vec'].transform(['merkel', 'gold']).shape)\n",
    "\n",
    "len(pipe['tfidf'].idf_)"
   ]
  },
  {
   "cell_type": "code",
   "execution_count": 75,
   "metadata": {},
   "outputs": [],
   "source": [
    "y_train_pred = pipe.predict(X_train)\n",
    "y_test_pred = pipe.predict(X_test)"
   ]
  },
  {
   "cell_type": "code",
   "execution_count": 12,
   "metadata": {},
   "outputs": [
    {
     "data": {
      "text/plain": [
       "array(['Wirtschaft', 'Sport', 'Web', ..., 'Sport', 'Sport', 'Web'],\n",
       "      dtype=object)"
      ]
     },
     "execution_count": 12,
     "metadata": {},
     "output_type": "execute_result"
    }
   ],
   "source": [
    "y_test_pred"
   ]
  },
  {
   "cell_type": "code",
   "execution_count": 54,
   "metadata": {},
   "outputs": [
    {
     "name": "stdout",
     "output_type": "stream",
     "text": [
      "Train:\n",
      "               precision    recall  f1-score   support\n",
      "\n",
      "         Etat       0.99      0.99      0.99       601\n",
      "       Inland       0.98      0.98      0.98       913\n",
      "International       0.99      0.98      0.99      1360\n",
      "       Kultur       1.00      1.00      1.00       485\n",
      "     Panorama       0.98      0.99      0.99      1510\n",
      "        Sport       1.00      1.00      1.00      1081\n",
      "          Web       0.99      0.99      0.99      1509\n",
      "   Wirtschaft       0.98      0.99      0.99      1270\n",
      " Wissenschaft       0.99      1.00      1.00       516\n",
      "\n",
      "     accuracy                           0.99      9245\n",
      "    macro avg       0.99      0.99      0.99      9245\n",
      " weighted avg       0.99      0.99      0.99      9245\n",
      "\n",
      "Test:\n",
      "               precision    recall  f1-score   support\n",
      "\n",
      "         Etat       0.90      0.84      0.87        67\n",
      "       Inland       0.87      0.82      0.84       102\n",
      "International       0.87      0.83      0.85       151\n",
      "       Kultur       0.87      0.85      0.86        54\n",
      "     Panorama       0.82      0.86      0.84       168\n",
      "        Sport       0.99      0.99      0.99       120\n",
      "          Web       0.93      0.92      0.93       168\n",
      "   Wirtschaft       0.83      0.87      0.85       141\n",
      " Wissenschaft       0.89      0.95      0.92        57\n",
      "\n",
      "     accuracy                           0.88      1028\n",
      "    macro avg       0.88      0.88      0.88      1028\n",
      " weighted avg       0.88      0.88      0.88      1028\n",
      "\n"
     ]
    }
   ],
   "source": [
    "from sklearn.metrics import classification_report\n",
    "\n",
    "report = classification_report(y_train, y_train_pred)\n",
    "print(\"Train:\")\n",
    "print(report)\n",
    "report = classification_report(y_test, y_test_pred)\n",
    "print(\"Test:\")\n",
    "print(report)"
   ]
  },
  {
   "cell_type": "code",
   "execution_count": 76,
   "metadata": {},
   "outputs": [
    {
     "name": "stdout",
     "output_type": "stream",
     "text": [
      "Set Population: 1028\n",
      "Accuracy: 0.8794\n"
     ]
    },
    {
     "data": {
      "image/png": "[encoded data removed]",
      "text/plain": [
       "<Figure size 720x576 with 2 Axes>"
      ]
     },
     "metadata": {
      "needs_background": "light"
     },
     "output_type": "display_data"
    }
   ],
   "source": [
    "from fhnw.nlp.utils.ploting import plot_confusion_matrix\n",
    "\n",
    "#plot_confusion_matrix(y_train, y_train_pred)\n",
    "plot_confusion_matrix(y_test, y_test_pred)"
   ]
  },
  {
   "cell_type": "code",
   "execution_count": 56,
   "metadata": {},
   "outputs": [
    {
     "data": {
      "text/plain": [
       "(text_original            Mehr als halbe Million Euro Bußgeld wegen Wett...\n",
       " label                                                           Wirtschaft\n",
       " split                                                                 test\n",
       " text_clean               Mehr als halbe Million Euro Bußgeld wegen Wett...\n",
       " token_clean              [mehr, halbe, million, bußgeld, wegen, wettbew...\n",
       " token_stem               [mehr, halb, million, bussgeld, weg, wettbewer...\n",
       " token_clean_stopwords    [mehr, halbe, million, bußgeld, wegen, wettbew...\n",
       " Name: 42, dtype: object,\n",
       " array(['mehr', 'halb', 'million', 'bussgeld', 'weg', 'wettbewerbsvergeh',\n",
       "        'marz', 'juli', 'traun', 'kartellgericht', 'pfeiff', 'handelsgmbh',\n",
       "        'der', 'tocht', 'zielpunkt', 'gmbh', 'geldbuss', 'hoh', 'verhangt',\n",
       "        'unternehm', 'verschied', 'lieferant', 'preis', 'abgesproch',\n",
       "        'teilt', 'heut', 'freitag', 'bundeswettbewerbsbehord', 'bwb',\n",
       "        'homepag', 'entscheid', 'kartellgericht', 'juli', 'rechtskraft',\n",
       "        'firm', 'funf', 'produktgrupp', 'verkaufspreis', 'einfluss',\n",
       "        'genomm', 'betroff', 'molkereiprodukt', 'fleisch', 'wurstprodukt',\n",
       "        'brauereiprodukt', 'nichtalkohol', 'getrank', 'muhlenprodukt',\n",
       "        'marz', 'juli', 'zielpunkt', 'demnach', 'lieferant',\n",
       "        'wiederverkaufspreis', 'aktionspreis', 'abgesproch', 'reih',\n",
       "        'fall', 'setzt', 'zielpunkt', 'gmbh', 'wiederverkaufspreis',\n",
       "        'tatsach', 'heisst', 'bwb', 'bericht', 'mildernd', 'berechn',\n",
       "        'strafausmass', 'wirkt', 'laut', 'bwb', 'damal', 'zeitraum',\n",
       "        'angespannt', 'finanziell', 'situation', 'zielpunkt', 'gering',\n",
       "        'marktanteil', 'beid', 'unternehm', 'osterreich',\n",
       "        'lebensmittelhandel', 'lieg', 'sieb', 'prozent', 'pfeiff',\n",
       "        'zielpunkt', 'gegensatz', 'mitbewerb', 'spar', 'prozent', 'rew',\n",
       "        'prozent', 'ebenfall', 'bereit', 'weg', 'unerlaubt',\n",
       "        'preisabsprach', 'visi', 'bwb', 'strafmildernd', 'kam', 'umfass',\n",
       "        'kooperation', 'behord', 'aufarbeit', 'wettbewerbsvergeh', 'hinzu',\n",
       "        'erich', 'schonleitn', 'geschaftsfuhr', 'pfeiff', 'handelsgmbh',\n",
       "        'verwi', 'gegenub', 'press', 'darauf', 'unternehm', 'erst',\n",
       "        'april', 'zielpunkt', 'beteiligt', 'haft', 'fehl', 'voreigentum',\n",
       "        'sei', 'erst', 'osterreich', 'complianc', 'schritt',\n",
       "        'preisabsprach', 'gesetzt', 'hatt', 'betrag', 'geldbuss', 'sei',\n",
       "        'voll', 'hoh', 'ruckstell', 'bilanz', 'gedeckt', 'schonleitn'],\n",
       "       dtype=object))"
      ]
     },
     "execution_count": 56,
     "metadata": {},
     "output_type": "execute_result"
    }
   ],
   "source": [
    "data_test.iloc[42], X_test.iloc[42]"
   ]
  },
  {
   "cell_type": "code",
   "execution_count": 77,
   "metadata": {},
   "outputs": [
    {
     "data": {
      "text/plain": [
       "array(['Sport'], dtype='<U13')"
      ]
     },
     "execution_count": 77,
     "metadata": {},
     "output_type": "execute_result"
    }
   ],
   "source": [
    "pipe.predict([['champion', 'leaque']])"
   ]
  },
  {
   "cell_type": "code",
   "execution_count": 104,
   "metadata": {},
   "outputs": [
    {
     "data": {
      "text/plain": [
       "array(['International'], dtype='<U13')"
      ]
     },
     "execution_count": 104,
     "metadata": {},
     "output_type": "execute_result"
    }
   ],
   "source": [
    "pipe.predict([['merkel', 'silber']])"
   ]
  },
  {
   "cell_type": "code",
   "execution_count": 100,
   "metadata": {},
   "outputs": [
    {
     "name": "stdout",
     "output_type": "stream",
     "text": [
      "text_original    Großeinsatz von Armee und Polizei in südöstlic...\n",
      "label                                                International\n",
      "Name: 167, dtype: object\n"
     ]
    },
    {
     "data": {
      "text/plain": [
       "array(['International'], dtype='<U13')"
      ]
     },
     "execution_count": 100,
     "metadata": {},
     "output_type": "execute_result"
    }
   ],
   "source": [
    "row = 167\n",
    "print(data_test.iloc[row, [0,1]])\n",
    "pipe.predict(X_test.iloc[row].reshape(1,-1))"
   ]
  }
 ],
 "metadata": {
  "kernelspec": {
   "display_name": "Python 3",
   "language": "python",
   "name": "python3"
  },
  "language_info": {
   "codemirror_mode": {
    "name": "ipython",
    "version": 3
   },
   "file_extension": ".py",
   "mimetype": "text/x-python",
   "name": "python",
   "nbconvert_exporter": "python",
   "pygments_lexer": "ipython3",
   "version": "3.6.9"
  }
 },
 "nbformat": 4,
 "nbformat_minor": 2
}
