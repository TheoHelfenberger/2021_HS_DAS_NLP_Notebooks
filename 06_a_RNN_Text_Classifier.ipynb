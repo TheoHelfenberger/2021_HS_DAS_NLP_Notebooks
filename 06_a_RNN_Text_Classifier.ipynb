{
 "cells": [
  {
   "cell_type": "markdown",
   "metadata": {},
   "source": [
    "<img align=\"right\" width=\"400\" src=\"https://www.fhnw.ch/de/++theme++web16theme/assets/media/img/fachhochschule-nordwestschweiz-fhnw-logo.svg\" alt=\"FHNW Logo\">\n",
    "\n",
    "\n",
    "# RNN Text Classifier\n",
    "\n",
    "by Fabian Märki\n",
    "\n",
    "## Summary\n",
    "The aim of this notebook is to program a RNN text classifier. Additionally, it sets the stage for a later hyperparameter tuning also allowing for model design optimization.\n",
    "\n",
    "<a href=\"https://colab.research.google.com/github/markif/2021_HS_DAS_NLP_Notebooks/blob/master/06_a_RNN_Text_Classifier.ipynb\">\n",
    "  <img align=\"left\" src=\"https://colab.research.google.com/assets/colab-badge.svg\" alt=\"Open In Colab\"/>\n",
    "</a>"
   ]
  },
  {
   "cell_type": "code",
   "execution_count": 1,
   "metadata": {},
   "outputs": [
    {
     "name": "stdout",
     "output_type": "stream",
     "text": [
      "Collecting fhnw-nlp-utils>=0.1.3\n",
      "  Downloading fhnw_nlp_utils-0.1.3-py3-none-any.whl (17 kB)\n",
      "Requirement already satisfied: pandas in /usr/local/lib/python3.6/dist-packages (from fhnw-nlp-utils>=0.1.3) (1.1.5)\n",
      "Requirement already satisfied: wordcloud in /usr/local/lib/python3.6/dist-packages (from fhnw-nlp-utils>=0.1.3) (1.8.1)\n",
      "Requirement already satisfied: psutil in /usr/local/lib/python3.6/dist-packages (from fhnw-nlp-utils>=0.1.3) (5.8.0)\n",
      "Requirement already satisfied: wget in /usr/local/lib/python3.6/dist-packages (from fhnw-nlp-utils>=0.1.3) (3.2)\n",
      "Requirement already satisfied: multiprocess in /usr/local/lib/python3.6/dist-packages (from fhnw-nlp-utils>=0.1.3) (0.70.12.2)\n",
      "Requirement already satisfied: numpy in /usr/local/lib/python3.6/dist-packages (from fhnw-nlp-utils>=0.1.3) (1.19.5)\n",
      "Requirement already satisfied: scikit-learn in /usr/local/lib/python3.6/dist-packages (from fhnw-nlp-utils>=0.1.3) (0.24.2)\n",
      "Requirement already satisfied: gdown in /usr/local/lib/python3.6/dist-packages (from fhnw-nlp-utils>=0.1.3) (3.13.1)\n",
      "Requirement already satisfied: matplotlib in /usr/local/lib/python3.6/dist-packages (from fhnw-nlp-utils>=0.1.3) (3.3.4)\n",
      "Requirement already satisfied: nltk in /usr/local/lib/python3.6/dist-packages (from fhnw-nlp-utils>=0.1.3) (3.6.2)\n",
      "Requirement already satisfied: pytz>=2017.2 in /usr/local/lib/python3.6/dist-packages (from pandas->fhnw-nlp-utils>=0.1.3) (2021.1)\n",
      "Requirement already satisfied: python-dateutil>=2.7.3 in /usr/local/lib/python3.6/dist-packages (from pandas->fhnw-nlp-utils>=0.1.3) (2.8.2)\n",
      "Requirement already satisfied: pillow in /usr/local/lib/python3.6/dist-packages (from wordcloud->fhnw-nlp-utils>=0.1.3) (8.3.1)\n",
      "Requirement already satisfied: dill>=0.3.4 in /usr/local/lib/python3.6/dist-packages (from multiprocess->fhnw-nlp-utils>=0.1.3) (0.3.4)\n",
      "Requirement already satisfied: scipy>=0.19.1 in /usr/local/lib/python3.6/dist-packages (from scikit-learn->fhnw-nlp-utils>=0.1.3) (1.5.4)\n",
      "Requirement already satisfied: joblib>=0.11 in /usr/local/lib/python3.6/dist-packages (from scikit-learn->fhnw-nlp-utils>=0.1.3) (1.0.1)\n",
      "Requirement already satisfied: threadpoolctl>=2.0.0 in /usr/local/lib/python3.6/dist-packages (from scikit-learn->fhnw-nlp-utils>=0.1.3) (2.2.0)\n",
      "Requirement already satisfied: requests[socks]>=2.12.0 in /usr/local/lib/python3.6/dist-packages (from gdown->fhnw-nlp-utils>=0.1.3) (2.26.0)\n",
      "Requirement already satisfied: tqdm in /usr/local/lib/python3.6/dist-packages (from gdown->fhnw-nlp-utils>=0.1.3) (4.62.2)\n",
      "Requirement already satisfied: filelock in /usr/local/lib/python3.6/dist-packages (from gdown->fhnw-nlp-utils>=0.1.3) (3.0.12)\n",
      "Requirement already satisfied: six in /usr/local/lib/python3.6/dist-packages (from gdown->fhnw-nlp-utils>=0.1.3) (1.15.0)\n",
      "Requirement already satisfied: kiwisolver>=1.0.1 in /usr/local/lib/python3.6/dist-packages (from matplotlib->fhnw-nlp-utils>=0.1.3) (1.3.1)\n",
      "Requirement already satisfied: cycler>=0.10 in /usr/local/lib/python3.6/dist-packages (from matplotlib->fhnw-nlp-utils>=0.1.3) (0.10.0)\n",
      "Requirement already satisfied: pyparsing!=2.0.4,!=2.1.2,!=2.1.6,>=2.0.3 in /usr/local/lib/python3.6/dist-packages (from matplotlib->fhnw-nlp-utils>=0.1.3) (2.4.7)\n",
      "Requirement already satisfied: click in /usr/local/lib/python3.6/dist-packages (from nltk->fhnw-nlp-utils>=0.1.3) (8.0.1)\n",
      "Requirement already satisfied: regex in /usr/local/lib/python3.6/dist-packages (from nltk->fhnw-nlp-utils>=0.1.3) (2021.8.28)\n",
      "Requirement already satisfied: urllib3<1.27,>=1.21.1 in /usr/local/lib/python3.6/dist-packages (from requests[socks]>=2.12.0->gdown->fhnw-nlp-utils>=0.1.3) (1.26.6)\n",
      "Requirement already satisfied: idna<4,>=2.5; python_version >= \"3\" in /usr/lib/python3/dist-packages (from requests[socks]>=2.12.0->gdown->fhnw-nlp-utils>=0.1.3) (2.6)\n",
      "Requirement already satisfied: charset-normalizer~=2.0.0; python_version >= \"3\" in /usr/local/lib/python3.6/dist-packages (from requests[socks]>=2.12.0->gdown->fhnw-nlp-utils>=0.1.3) (2.0.4)\n",
      "Requirement already satisfied: certifi>=2017.4.17 in /usr/local/lib/python3.6/dist-packages (from requests[socks]>=2.12.0->gdown->fhnw-nlp-utils>=0.1.3) (2021.5.30)\n",
      "Collecting PySocks!=1.5.7,>=1.5.6; extra == \"socks\"\n",
      "  Downloading PySocks-1.7.1-py3-none-any.whl (16 kB)\n",
      "Requirement already satisfied: importlib-metadata; python_version < \"3.8\" in /usr/local/lib/python3.6/dist-packages (from click->nltk->fhnw-nlp-utils>=0.1.3) (4.6.3)\n",
      "Requirement already satisfied: zipp>=0.5 in /usr/local/lib/python3.6/dist-packages (from importlib-metadata; python_version < \"3.8\"->click->nltk->fhnw-nlp-utils>=0.1.3) (3.5.0)\n",
      "Requirement already satisfied: typing-extensions>=3.6.4; python_version < \"3.8\" in /usr/local/lib/python3.6/dist-packages (from importlib-metadata; python_version < \"3.8\"->click->nltk->fhnw-nlp-utils>=0.1.3) (3.7.4.3)\n",
      "Installing collected packages: fhnw-nlp-utils, PySocks\n",
      "  Attempting uninstall: fhnw-nlp-utils\n",
      "    Found existing installation: fhnw-nlp-utils 0.1.1\n",
      "    Uninstalling fhnw-nlp-utils-0.1.1:\n",
      "      Successfully uninstalled fhnw-nlp-utils-0.1.1\n",
      "Successfully installed PySocks-1.7.1 fhnw-nlp-utils-0.1.3\n",
      "\u001b[33mWARNING: You are using pip version 20.2.4; however, version 21.2.4 is available.\n",
      "You should consider upgrading via the '/usr/bin/python3 -m pip install --upgrade pip' command.\u001b[0m\n",
      "Tensorflow version: 2.5.1\n",
      "GPU is available\n"
     ]
    }
   ],
   "source": [
    "!pip install 'fhnw-nlp-utils>=0.1.3'\n",
    "\n",
    "from fhnw.nlp.utils.storage import load_dataframe\n",
    "from fhnw.nlp.utils.storage import download\n",
    "from fhnw.nlp.utils.colab import runs_on_colab\n",
    "\n",
    "import numpy as np\n",
    "import pandas as pd\n",
    "\n",
    "import tensorflow as tf\n",
    "\n",
    "print(\"Tensorflow version:\", tf.__version__)\n",
    "\n",
    "#physical_devices = tf.config.list_physical_devices('GPU') \n",
    "#tf.config.experimental.set_memory_growth(physical_devices[0], True)\n",
    "gpu_devices = tf.config.experimental.list_physical_devices('GPU')\n",
    "for device in gpu_devices:\n",
    "    tf.config.experimental.set_memory_growth(device, True)\n",
    "\n",
    "print(\"GPU is\", \"available\" if tf.config.list_physical_devices(\"GPU\") else \"NOT AVAILABLE\")"
   ]
  },
  {
   "cell_type": "code",
   "execution_count": 2,
   "metadata": {},
   "outputs": [
    {
     "name": "stdout",
     "output_type": "stream",
     "text": [
      "CPU times: user 15.6 s, sys: 2.71 s, total: 18.3 s\n",
      "Wall time: 9.67 s\n"
     ]
    }
   ],
   "source": [
    "%%time\n",
    "download(\"https://drive.google.com/uc?id=19AFeVnOfX8WXU4_3rM7OFoNTWWog_sb_\", \"data/german_doctor_reviews_tokenized.parq\")\n",
    "data = load_dataframe(\"data/german_doctor_reviews_tokenized.parq\")\n",
    "\n",
    "download(\"https://drive.google.com/uc?id=1tT2dj70GLi2bJYg4j3g1MIglGXTDAugI\", \"data/german_doctor_reviews_augmented_tokenized.parq\")\n",
    "data_aug = load_dataframe(\"data/german_doctor_reviews_augmented_tokenized.parq\")"
   ]
  },
  {
   "cell_type": "code",
   "execution_count": 3,
   "metadata": {},
   "outputs": [
    {
     "data": {
      "text/plain": [
       "(331187, 10)"
      ]
     },
     "execution_count": 3,
     "metadata": {},
     "output_type": "execute_result"
    }
   ],
   "source": [
    "# remove all neutral sentimens\n",
    "data = data.loc[(data[\"label\"] != \"neutral\")]\n",
    "data.shape"
   ]
  },
  {
   "cell_type": "code",
   "execution_count": 4,
   "metadata": {},
   "outputs": [
    {
     "data": {
      "text/html": [
       "<div>\n",
       "<style scoped>\n",
       "    .dataframe tbody tr th:only-of-type {\n",
       "        vertical-align: middle;\n",
       "    }\n",
       "\n",
       "    .dataframe tbody tr th {\n",
       "        vertical-align: top;\n",
       "    }\n",
       "\n",
       "    .dataframe thead th {\n",
       "        text-align: right;\n",
       "    }\n",
       "</style>\n",
       "<table border=\"1\" class=\"dataframe\">\n",
       "  <thead>\n",
       "    <tr style=\"text-align: right;\">\n",
       "      <th></th>\n",
       "      <th>text_original</th>\n",
       "      <th>rating</th>\n",
       "      <th>text</th>\n",
       "      <th>label</th>\n",
       "      <th>sentiment</th>\n",
       "      <th>token_clean</th>\n",
       "      <th>text_clean</th>\n",
       "      <th>token_lemma</th>\n",
       "      <th>token_stem</th>\n",
       "      <th>token_clean_stopwords</th>\n",
       "    </tr>\n",
       "  </thead>\n",
       "  <tbody>\n",
       "    <tr>\n",
       "      <th>0</th>\n",
       "      <td>Ich bin franzose und bin seit ein paar Wochen ...</td>\n",
       "      <td>2.0</td>\n",
       "      <td>Ich bin franzose und bin seit ein paar Wochen ...</td>\n",
       "      <td>positive</td>\n",
       "      <td>1</td>\n",
       "      <td>[ich, bin, franzose, und, bin, seit, ein, paar...</td>\n",
       "      <td>ich bin franzose und bin seit ein paar wochen ...</td>\n",
       "      <td>[franzose, seit, paar, wochen, muenchen, zahn,...</td>\n",
       "      <td>[franzos, seit, paar, woch, muench, ., zahn, s...</td>\n",
       "      <td>[franzose, seit, paar, wochen, muenchen, ., za...</td>\n",
       "    </tr>\n",
       "    <tr>\n",
       "      <th>1</th>\n",
       "      <td>Dieser Arzt ist das unmöglichste was mir in me...</td>\n",
       "      <td>6.0</td>\n",
       "      <td>Dieser Arzt ist das unmöglichste was mir in me...</td>\n",
       "      <td>negative</td>\n",
       "      <td>-1</td>\n",
       "      <td>[dieser, arzt, ist, das, unmöglichste, was, mi...</td>\n",
       "      <td>dieser arzt ist das unmöglichste was mir in me...</td>\n",
       "      <td>[arzt, unmöglichste, leben, je, begegnen, unfr...</td>\n",
       "      <td>[arzt, unmog, leb, je, begegnet, unfreund, ,, ...</td>\n",
       "      <td>[arzt, unmöglichste, leben, je, begegnet, unfr...</td>\n",
       "    </tr>\n",
       "    <tr>\n",
       "      <th>2</th>\n",
       "      <td>Hatte akute Beschwerden am Rücken. Herr Magura...</td>\n",
       "      <td>1.0</td>\n",
       "      <td>Hatte akute Beschwerden am Rücken. Herr Magura...</td>\n",
       "      <td>positive</td>\n",
       "      <td>1</td>\n",
       "      <td>[hatte, akute, beschwerden, am, rücken, ., her...</td>\n",
       "      <td>hatte akute beschwerden am rücken . herr magur...</td>\n",
       "      <td>[akut, beschwerden, rücken, magura, erste, arz...</td>\n",
       "      <td>[akut, beschwerd, ruck, ., magura, erst, arzt,...</td>\n",
       "      <td>[akute, beschwerden, rücken, ., magura, erste,...</td>\n",
       "    </tr>\n",
       "  </tbody>\n",
       "</table>\n",
       "</div>"
      ],
      "text/plain": [
       "                                       text_original  rating  \\\n",
       "0  Ich bin franzose und bin seit ein paar Wochen ...     2.0   \n",
       "1  Dieser Arzt ist das unmöglichste was mir in me...     6.0   \n",
       "2  Hatte akute Beschwerden am Rücken. Herr Magura...     1.0   \n",
       "\n",
       "                                                text     label  sentiment  \\\n",
       "0  Ich bin franzose und bin seit ein paar Wochen ...  positive          1   \n",
       "1  Dieser Arzt ist das unmöglichste was mir in me...  negative         -1   \n",
       "2  Hatte akute Beschwerden am Rücken. Herr Magura...  positive          1   \n",
       "\n",
       "                                         token_clean  \\\n",
       "0  [ich, bin, franzose, und, bin, seit, ein, paar...   \n",
       "1  [dieser, arzt, ist, das, unmöglichste, was, mi...   \n",
       "2  [hatte, akute, beschwerden, am, rücken, ., her...   \n",
       "\n",
       "                                          text_clean  \\\n",
       "0  ich bin franzose und bin seit ein paar wochen ...   \n",
       "1  dieser arzt ist das unmöglichste was mir in me...   \n",
       "2  hatte akute beschwerden am rücken . herr magur...   \n",
       "\n",
       "                                         token_lemma  \\\n",
       "0  [franzose, seit, paar, wochen, muenchen, zahn,...   \n",
       "1  [arzt, unmöglichste, leben, je, begegnen, unfr...   \n",
       "2  [akut, beschwerden, rücken, magura, erste, arz...   \n",
       "\n",
       "                                          token_stem  \\\n",
       "0  [franzos, seit, paar, woch, muench, ., zahn, s...   \n",
       "1  [arzt, unmog, leb, je, begegnet, unfreund, ,, ...   \n",
       "2  [akut, beschwerd, ruck, ., magura, erst, arzt,...   \n",
       "\n",
       "                               token_clean_stopwords  \n",
       "0  [franzose, seit, paar, wochen, muenchen, ., za...  \n",
       "1  [arzt, unmöglichste, leben, je, begegnet, unfr...  \n",
       "2  [akute, beschwerden, rücken, ., magura, erste,...  "
      ]
     },
     "execution_count": 4,
     "metadata": {},
     "output_type": "execute_result"
    }
   ],
   "source": [
    "data.head(3)"
   ]
  },
  {
   "cell_type": "code",
   "execution_count": 5,
   "metadata": {},
   "outputs": [
    {
     "data": {
      "text/html": [
       "<div>\n",
       "<style scoped>\n",
       "    .dataframe tbody tr th:only-of-type {\n",
       "        vertical-align: middle;\n",
       "    }\n",
       "\n",
       "    .dataframe tbody tr th {\n",
       "        vertical-align: top;\n",
       "    }\n",
       "\n",
       "    .dataframe thead th {\n",
       "        text-align: right;\n",
       "    }\n",
       "</style>\n",
       "<table border=\"1\" class=\"dataframe\">\n",
       "  <thead>\n",
       "    <tr style=\"text-align: right;\">\n",
       "      <th></th>\n",
       "      <th>text_original</th>\n",
       "      <th>rating</th>\n",
       "      <th>sentiment</th>\n",
       "      <th>text</th>\n",
       "      <th>label</th>\n",
       "      <th>token_clean</th>\n",
       "      <th>text_clean</th>\n",
       "      <th>token_lemma</th>\n",
       "      <th>token_stem</th>\n",
       "      <th>token_clean_stopwords</th>\n",
       "    </tr>\n",
       "  </thead>\n",
       "  <tbody>\n",
       "    <tr>\n",
       "      <th>1</th>\n",
       "      <td>Dieser Arzt ist das unmöglichste was mir in me...</td>\n",
       "      <td>6.0</td>\n",
       "      <td>-1</td>\n",
       "      <td>Dieser Arzt ist das unmöglichste was mir in me...</td>\n",
       "      <td>negative</td>\n",
       "      <td>[dieser, arzt, ist, das, unmöglichste, was, mi...</td>\n",
       "      <td>dieser arzt ist das unmöglichste was mir in me...</td>\n",
       "      <td>[arzt, unmöglichste, leben, je, begegnen, unfr...</td>\n",
       "      <td>[arzt, unmog, leb, je, begegnet, unfreund, ,, ...</td>\n",
       "      <td>[arzt, unmöglichste, leben, je, begegnet, unfr...</td>\n",
       "    </tr>\n",
       "    <tr>\n",
       "      <th>1</th>\n",
       "      <td>Dieser Arzt ist das unmöglichste was mir in me...</td>\n",
       "      <td>6.0</td>\n",
       "      <td>-1</td>\n",
       "      <td>Dieser Arzt ist das unmöglichste was mir in me...</td>\n",
       "      <td>negative</td>\n",
       "      <td>[dieser, arzt, ist, das, unmöglichste, was, mi...</td>\n",
       "      <td>dieser arzt ist das unmöglichste was mir in me...</td>\n",
       "      <td>[arzt, unmöglichste, leben, je, begegnen, unfr...</td>\n",
       "      <td>[arzt, unmog, leb, je, begegnet, unfreund, ,, ...</td>\n",
       "      <td>[arzt, unmöglichste, leben, je, begegnet, unfr...</td>\n",
       "    </tr>\n",
       "    <tr>\n",
       "      <th>1</th>\n",
       "      <td>Dieser Arzt ist das unmöglichste was mir in me...</td>\n",
       "      <td>6.0</td>\n",
       "      <td>-1</td>\n",
       "      <td>Dieser Arzt ist das unmöglichste was mir in me...</td>\n",
       "      <td>negative</td>\n",
       "      <td>[dieser, arzt, ist, das, unmöglichste, was, mi...</td>\n",
       "      <td>dieser arzt ist das unmöglichste was mir in me...</td>\n",
       "      <td>[arzt, unmöglichste, leben, je, begegnen, unfr...</td>\n",
       "      <td>[arzt, unmog, leb, je, begegnet, unfreund, ,, ...</td>\n",
       "      <td>[arzt, unmöglichste, leben, je, begegnet, unfr...</td>\n",
       "    </tr>\n",
       "  </tbody>\n",
       "</table>\n",
       "</div>"
      ],
      "text/plain": [
       "                                       text_original  rating  sentiment  \\\n",
       "1  Dieser Arzt ist das unmöglichste was mir in me...     6.0         -1   \n",
       "1  Dieser Arzt ist das unmöglichste was mir in me...     6.0         -1   \n",
       "1  Dieser Arzt ist das unmöglichste was mir in me...     6.0         -1   \n",
       "\n",
       "                                                text     label  \\\n",
       "1  Dieser Arzt ist das unmöglichste was mir in me...  negative   \n",
       "1  Dieser Arzt ist das unmöglichste was mir in me...  negative   \n",
       "1  Dieser Arzt ist das unmöglichste was mir in me...  negative   \n",
       "\n",
       "                                         token_clean  \\\n",
       "1  [dieser, arzt, ist, das, unmöglichste, was, mi...   \n",
       "1  [dieser, arzt, ist, das, unmöglichste, was, mi...   \n",
       "1  [dieser, arzt, ist, das, unmöglichste, was, mi...   \n",
       "\n",
       "                                          text_clean  \\\n",
       "1  dieser arzt ist das unmöglichste was mir in me...   \n",
       "1  dieser arzt ist das unmöglichste was mir in me...   \n",
       "1  dieser arzt ist das unmöglichste was mir in me...   \n",
       "\n",
       "                                         token_lemma  \\\n",
       "1  [arzt, unmöglichste, leben, je, begegnen, unfr...   \n",
       "1  [arzt, unmöglichste, leben, je, begegnen, unfr...   \n",
       "1  [arzt, unmöglichste, leben, je, begegnen, unfr...   \n",
       "\n",
       "                                          token_stem  \\\n",
       "1  [arzt, unmog, leb, je, begegnet, unfreund, ,, ...   \n",
       "1  [arzt, unmog, leb, je, begegnet, unfreund, ,, ...   \n",
       "1  [arzt, unmog, leb, je, begegnet, unfreund, ,, ...   \n",
       "\n",
       "                               token_clean_stopwords  \n",
       "1  [arzt, unmöglichste, leben, je, begegnet, unfr...  \n",
       "1  [arzt, unmöglichste, leben, je, begegnet, unfr...  \n",
       "1  [arzt, unmöglichste, leben, je, begegnet, unfr...  "
      ]
     },
     "execution_count": 5,
     "metadata": {},
     "output_type": "execute_result"
    }
   ],
   "source": [
    "data_aug.head(3)"
   ]
  },
  {
   "cell_type": "code",
   "execution_count": null,
   "metadata": {},
   "outputs": [],
   "source": []
  },
  {
   "cell_type": "code",
   "execution_count": 6,
   "metadata": {},
   "outputs": [],
   "source": [
    "from fhnw.nlp.utils.ploting import plot_history\n",
    "\n",
    "from fhnw.nlp.utils.params import build_model_cnn\n",
    "from fhnw.nlp.utils.params import build_model_rnn\n",
    "from fhnw.nlp.utils.params import compile_model\n",
    "from fhnw.nlp.utils.params import create_label_binarizer_and_set\n",
    "from fhnw.nlp.utils.params import dataframe_to_dataset\n",
    "from fhnw.nlp.utils.params import extract_embedding_layer_and_set\n",
    "from fhnw.nlp.utils.params import extract_text_vectorization_and_set\n",
    "from fhnw.nlp.utils.params import extract_vocabulary_and_set\n",
    "from fhnw.nlp.utils.params import get_train_test_split\n",
    "from fhnw.nlp.utils.params import re_compile_model\n",
    "from fhnw.nlp.utils.params import save_model\n",
    "from fhnw.nlp.utils.params import train_model"
   ]
  },
  {
   "cell_type": "code",
   "execution_count": 7,
   "metadata": {},
   "outputs": [],
   "source": [
    "params = {\n",
    "    \"verbose\": True,\n",
    "    \"shuffle\": True,\n",
    "    \"batch_size\": 128,\n",
    "    \"X_column_name\": \"text_clean\",\n",
    "    \"y_column_name\": \"label\",\n",
    "    \"embedding_type\": \"fasttext\",\n",
    "    #\"embedding_type\": \"bytepair\",\n",
    "    \"embedding_dim\": 300,\n",
    "    \"embedding_mask_zero\": True,\n",
    "    \"embedding_trainable\": False,\n",
    "    #\"embedding_input_sequence_length\": output_sequence_length if 'output_sequence_length' in locals() or 'output_sequence_length' in globals() else None,\n",
    "    \"embedding_fasttext_model\": \"cc.de.300.bin\",\n",
    "    \"embedding_word2vec_model_url\": \"https://cloud.devmount.de/d2bc5672c523b086/german.model\",\n",
    "    \"embedding_spacy_model\": \"de_core_news_md\",\n",
    "    \"embedding_tensorflow_hub_url\": \"https://tfhub.dev/google/nnlm-de-dim128-with-normalization/2\",\n",
    "    \"model_type\": \"rnn\",\n",
    "}\n",
    "\n",
    "if runs_on_colab() and params[\"embedding_type\"] == \"fasttext\":\n",
    "    # colab as problems handling such large files\n",
    "    model_name = \"cc.de.50.bin\"\n",
    "    download(\"https://drive.google.com/uc?id=1iqw8UPEEVmzQQGmI5FkRJH8B5SkZCgXG\", model_name)\n",
    "    params[\"embedding_dim\"] = 50\n",
    "    params[\"embedding_fasttext_model\"] = model_name\n",
    "    "
   ]
  },
  {
   "cell_type": "code",
   "execution_count": 8,
   "metadata": {},
   "outputs": [],
   "source": [
    "all_data = pd.concat([data, data_aug])\n",
    "#all_data = data"
   ]
  },
  {
   "cell_type": "code",
   "execution_count": 9,
   "metadata": {},
   "outputs": [
    {
     "name": "stdout",
     "output_type": "stream",
     "text": [
      "Inferred classification type: binary\n",
      "Median sequence length: 58\n",
      "Percentil (0.98) cutoff sequence length: 301\n",
      "Max sequence length: 408\n",
      "Used embedding sequence length: 301\n"
     ]
    }
   ],
   "source": [
    "create_label_binarizer_and_set(params, all_data)\n",
    "extract_vocabulary_and_set(params, all_data)"
   ]
  },
  {
   "cell_type": "code",
   "execution_count": 10,
   "metadata": {},
   "outputs": [
    {
     "name": "stdout",
     "output_type": "stream",
     "text": [
      "Vocabulary length: 205493\n"
     ]
    }
   ],
   "source": [
    "extract_text_vectorization_and_set(params)"
   ]
  },
  {
   "cell_type": "code",
   "execution_count": 11,
   "metadata": {},
   "outputs": [
    {
     "name": "stderr",
     "output_type": "stream",
     "text": [
      "Warning : `load_model` does not return WordVectorModel or SupervisedModel any more, but a `FastText` object which is very similar.\n"
     ]
    },
    {
     "name": "stdout",
     "output_type": "stream",
     "text": [
      "Number of null word embeddings:  14\n",
      "Words not found in total:  14\n",
      "Words without embedding (14/14): ['äk', \"''\", '', \"'t\", 'wã', 'öz', 'èn', 'öä', \"'s\", 'úm', 'jé', 'üw', '``', 'ìn']\n",
      "CPU times: user 6.84 s, sys: 3.72 s, total: 10.6 s\n",
      "Wall time: 11.2 s\n"
     ]
    }
   ],
   "source": [
    "%%time\n",
    "\n",
    "extract_embedding_layer_and_set(params)"
   ]
  },
  {
   "cell_type": "markdown",
   "metadata": {},
   "source": [
    "Prepare the training/test/validation data"
   ]
  },
  {
   "cell_type": "code",
   "execution_count": 12,
   "metadata": {},
   "outputs": [
    {
     "name": "stdout",
     "output_type": "stream",
     "text": [
      "264949 train examples\n",
      "66238 test examples\n",
      "449506 train examples\n",
      "112377 test examples\n"
     ]
    }
   ],
   "source": [
    "data_train, data_test = get_train_test_split(params, data)\n",
    "data_train = pd.concat([data_train, data_aug])\n",
    "data_train, data_val = get_train_test_split(params, data_train)\n",
    "\n",
    "dataset_train = dataframe_to_dataset(params, data_train)\n",
    "dataset_test = dataframe_to_dataset(params, data_test)\n",
    "dataset_val = dataframe_to_dataset(params, data_val)"
   ]
  },
  {
   "cell_type": "code",
   "execution_count": 13,
   "metadata": {},
   "outputs": [
    {
     "name": "stdout",
     "output_type": "stream",
     "text": [
      "{'text_clean': <tf.Tensor: shape=(128,), dtype=string, numpy=\n",
      "array([b'die sprechstundenhilfe hat meine am . . vergebenen termine f\\xc3\\xbcr den . . und . . nicht ins system eingetragen . als ich am . . dann , wie abgesprochen dort war , hie\\xc3\\x9f es , dass ich einen neuen termin fr\\xc3\\xbchestens im november bekommen k\\xc3\\xb6nnte .',\n",
      "       b'frau dr. pape ist eine sehr gute , erfahrene urologin , die mich auch sehr gut betreut . man kommt auch bei schmerzen ohne termin dran . sie nimmt einem auch die angst vor op .',\n",
      "       b'ich habe gro\\xc3\\x9fes vertrauen in die arbeit von hr . heiler . schon nach ein paar terminen habe ich positive fortschritte gemerkt . ich bin noch beim neurofeedback training und es hilft mir immer sehr .',\n",
      "       b'ich war lange auf der suche nach einem zahnarzt , der auf meine probleme eingeht , mir zuh\\xc3\\xb6rt , gut ber\\xc3\\xa4t und mir bei mein zahnproblemen hilft . dr. rahimzei hat dies begriffen und mir das gef\\xc3\\xbchl gegeben verstanden worden zu sein . durch die einf\\xc3\\xbchlsamkeit , die dr. rahimzei einem entgegen bringt , hat er mir gut vermittelt , dass es auch gute zahn\\xc3\\xa4rzte gibt . f\\xc3\\xbcr die zukunft , werde ich nur zu dr. rahimzei gehen und auch die praxis jeden weiter empfehlen .',\n",
      "       b'in dieser praxis braucht man keine angst vor dem zahnarzt haben . sehr empfehlenswert .',\n",
      "       b'\\xc3\\xbcber meinen arztbesuch bei dr. meyer kann ich nichts positives berichten . ab dem ersten moment der untersuchung hat er ein desinteresse an den tag gelegt , das sich bis zum ende durchgezogen hat . meine diagnose war ein fortgeschrittener meniskussriss , doch mir wurde keinerlei therapie verschreiben geschweige denn \\xc3\\xbcber m\\xc3\\xb6gliche therapien gesprochen . das nenne ich verantwortungslos . zudem hat er sich beleidigend verhalten und sich keine zeit genommen f\\xc3\\xbcr meine fragen . mir hat er kein st\\xc3\\xbcck weitergeholfen , im gegenteil mit dem hammer kam in seiner aussage das knie ist kaputt .',\n",
      "       b'das f\\xc3\\xa4llt in die kategorie ich muss ihn nicht m\\xc3\\xb6gen . super orthop\\xc3\\xa4de , wirklich top . aber chemisch ist das so eine sache wir m\\xc3\\xb6gen uns leider nicht so besonders , geben uns aber beide m\\xc3\\xbche . wirklich schade , aber das hat auf seine fachliche kompetenz ja keinen einfluss . top arzt , habe ich schon mehrfach aus vollem herzen weiterempfohlen . die sprechstundenhilfe k\\xc3\\xb6nnte etwas netter sein . aber wie gesagt , geigt mit ihm und mir auch nicht so , daher kann dieses urteil gef\\xc3\\xa4rbt sein',\n",
      "       b'ich war mit meinem sohn bei dr roloff . ich bin absolut fassungslos raus gegangen . wartebereich und die empfangsdamen waren super , kurze wartezeit , termin gab es schnell . im arztzimmer war alles von einem kindgerechten umgang entfernt abfragungen von assistentinnen schlaue tipps die meinen sohn immer mehr einsch\\xc3\\xbcchterten \\xc3\\xa4rztin kam vermittelte sofort das gef\\xc3\\xbchl das alles schnell gehen muss es wurde fast gar nicht mit ihm kommuniziert . mein sohn wollte sich nicht behandeln lassen ein gl\\xc3\\xbcck ! !',\n",
      "       b'empfehlenswert ! ich wurde als neue patientin aufgenommen und habe sofort einen termin erhalten . der arzt macht einen sehr kompetenten und freundlichen eindruck .',\n",
      "       b'herr dr. postma nahm sich gen\\xc3\\xbcgend zeit mir den psa test ausagekraft f\\xc3\\xbcr den arzt zu erkl\\xc3\\xa4ren . das ergebnis wird von ihm pers\\xc3\\xb6hnlich in einem folgetermin nochmal besprochen .',\n",
      "       b'sehr schnell sprechend , r\\xc3\\xbcckfragen werden nicht beantwortet oder nur sehr unzufriedenstellend , geht wenig auf das eigene schicksal ein , versteht ihr handwerk vergisst den patienten',\n",
      "       b'das einzig positive beim arzt ist keine wartezeit , sonst ist es nicht zu empfehlen .',\n",
      "       b'anreise mit \\xc3\\xb6ffentlichen vekehrsmitteln ratsam .sehr guter arzt , leider aber immer sehr lange wartezeiten .',\n",
      "       b'ich muss gestehen dass ich die hier zu lesenden positiven bewertungen nicht nachvollziehen kann . leider ist herr dr. specovius in meinen augen kein arzt den ich bei ernsthaften krankheiten empfehlen w\\xc3\\xbcrde . auf mich pers\\xc3\\xb6nlich macht er den eindruck den job machen zu m\\xc3\\xbcssen ist absolut nicht mit herz und seele dabei was sehr schade ist . fachliche kompetenz ist defintiv ausbauf\\xc3\\xa4hig , genauso wie einf\\xc3\\xbchlungsverm\\xc3\\xb6gen und struktur . er wirkt gelangweilt und unfreundlich .',\n",
      "       b'das ganze team ist sehr freundlich und man f\\xc3\\xbchlt sich gut aufgehoben . die praxis ist modern eingerichtet und sehr freundlich gestylt , wirkt frisch und angenehm . die wartezeit ist auf ein minumum reduziert , meist kann man gleich ins behandlungszimmer durchgehen . auch die aufkl\\xc3\\xa4rung bzgl . kosten alternativen ist ehrlich .',\n",
      "       b'hatte eine infektion in der geb\\xc3\\xa4rmutter in der schwangerschaft damit war frau doru \\xc3\\xbcberfordert und kannte sich nicht aus ihre aussage sie m\\xc3\\xbcsste erst im internet lesen was man da tun kann . bin darauf hin ins krankenhaus und die haben mir sehr gut weitergeholfen . erneut bei dr. doru einen termin zum abstrich als ich auf ihren stuhl lag und sie mir den abstrich machte war sie sehr grob mit den ger\\xc3\\xa4ten sodass ich blutete . sie war sehr erbost das ich mir die meinung vom kh geholt hab',\n",
      "       b'ich war bei der frau dymke zum ersten mal und als ich mit der assistentin im r\\xc3\\xb6ntgenraum war , sah ich eine maus unter meinen f\\xc3\\xbc\\xc3\\x9fen ! ich war erschrocken und habe geschrien bis die zahn\\xc3\\xa4rztin kam und die maus in einem box gelegt hat . merkw\\xc3\\xbcrdigeweise , hat niemand sich daf\\xc3\\xbcr entschuldigt und haben so gehandelt , als ob es normal war , eine maus in der klink zu sehen ! ! !',\n",
      "       b'hat sich zeit f\\xc3\\xbcr die pers\\xc3\\xb6nlichen bed\\xc3\\xbcrfnisse genommen',\n",
      "       b'wir mussten notgedrungen zu dieser \\xc3\\xa4rztin , weil unser ka im urlaub war . unser j\\xc3\\xa4hriger sohn hatte seit einigen tagen hohes fieber und starken husten . frau fuchs hat nur mit einem abhorchen eine lungenentz\\xc3\\xbcndung diagnostiziert und ein antibiotikum verschrieben , obwohl kein bakterieller infekt festgestellt werden konnte . das ab solle pr\\xc3\\xa4ventiv eingenommen werden . einige tage sp\\xc3\\xa4ter meinte sie dann noch unbedingt ven\\xc3\\xb6s blut abnehmen zu m\\xc3\\xbcssen . das sei unbedingt notwendig . sie hat uns solche panik gemacht . letzte rettung war dann unsere heilpraktikerin , die das fieber gesenkt hat und seitdem ging es unserem sohn bestens . der husten wurde weniger und das ab haben wir ihm nat\\xc3\\xbcrlich auch nicht gegeben . frau fuchs bestand noch auf eine . blutabnahme lediglich zur kontrolle ! diese haben wir abgelehnt , weil wir unserem j\\xc3\\xa4hrigen kind so eine prozedur , welche nur zur kontrolle dienen soll , ersparen wollten . als sie dann noch erfahren hat , dass unser sohn das ab nicht bekommen hat , war frau fuchs derart in ihrer eitelkeit verletzt , dass sie meinte , wir m\\xc3\\xb6gen doch bitte wieder zu unserem eigenen ka gehen , wenn wir nicht ihre empfehlungen umsetzen w\\xc3\\xbcrden . f\\xc3\\xbcr uns zeugt das von inkompetenz und vor allen dingen unprofessionalit\\xc3\\xa4t . wir als eltern m\\xc3\\xbcssen gott sei dank nicht zu allem ja und amen sagen , was der arzt vorschl\\xc3\\xa4gt . wir tragen die alleinige verantwortung f\\xc3\\xbcr unser kind , und das ist auch gut so . wir haben ihr dann mitgeteilt , dass wir ohnehin nicht mehr zu ihr gegangen w\\xc3\\xa4ren . einige tage sp\\xc3\\xa4ter sind war dann zu unserem eigenen ka zur kontrolle und er hat uns auch best\\xc3\\xa4tigt , dass kein ab zu geben richtig war . das fieber war ein viraler infekt . nicht mehr und nicht weniger .',\n",
      "       b'da ich nach hamburg gezogen bin , musste ich mich notgedrungen auf die suche nach einem neuen gyn\\xc3\\xa4kologen begeben , woraufhin mir eine bekannte dr. schuh empfahl , bei dem ich mich nun seit ca . jahren in behandlung befinde und nach wie vor nichts zu bem\\xc3\\xa4ngeln habe . dr. schuh nimmt sich zeit , die sprechstundenzeiten sind relativ flexibel , man f\\xc3\\xbchlt sich in guten h\\xc3\\xa4nden aufgehoben . auch als kurzfristig probleme mit meiner spirale auftraten , reichte ein anruf , um sp\\xc3\\xa4t nachmittags einen termin zu erhalten . ich kann hrn . dr. schuh w\\xc3\\xa4rmstens empfehlen !',\n",
      "       b'die praxis ist notorisch unterbesetzt , da offenbar sowohl \\xc3\\xa4rzte als auch helfer ausgefallen sind . auch das praxisteam scheint st\\xc3\\xa4ndig desorientiert . die \\xc3\\xa4rztliche untersuchung ist v\\xc3\\xb6llig unzureichend ! bei mir kein r\\xc3\\xb6ntgen oder mrt . w\\xc3\\xa4hrend der therapie eines anf\\xc3\\xa4nglich in min . d\\xc3\\xacagnostizierten empingementsyndroms trat eine dramatische verschlechterung ein . die stark fortgeschrittene kalkschulter wurde nicht erkannt . trotz starker schmerzen und totaler bewegungseinschr\\xc3\\xa4nkung ! ! ! fatal !',\n",
      "       b'schade leider keine \\xc3\\xa4rztin f\\xc3\\xbcr kinder unter zwei jahren obwohl fachlich bestimmt gut sollte vielleicht in der internetseite aufgenommen werden .... kleinkinder m\\xc3\\xbcssen drau\\xc3\\x9fen bleiben',\n",
      "       b'nach f\\xc3\\xbcnf vorherigen \\xc3\\xa4rzten , nahm sich herr dr. ditzler zeit die ursachen meiner krankheit zu kl\\xc3\\xa4ren und zu erkl\\xc3\\xa4ren . was mir bei noch keinem arzt passiert ist , ich wurde sogar nach meinem impfbuch gefragt . meine krankheit ist leider schwierig und langwierig aber die ersten schritte zur besserung sind get\\xc3\\xa4tigt ! trotz sehr offener worte , bin ich sehr dankbar !',\n",
      "       b'h\\xc3\\xa4lt sich gar nicht an vereinbarte hausbesuchertermine , ber\\xc3\\xa4t nicht und spricht auch keine empfehlungungen oder hilfestellen an . das ist der schlimmste arzt , den wir je als arzt hatten ! !',\n",
      "       b'wir sind nun seit \\xc3\\xbcber jahren mit kinder bei frau birkhofer . sie hat uns bei allen kinderkrankheiten , grippewellen und impfungen sehr gut informiert , sodass wir die f\\xc3\\xbcr uns richtige entscheidung treffen k\\xc3\\xb6nnen . sie weiss was sie tut und wenn eine behandlung notwendig ist , weisst sie darauf hin , um umgekehrten fall auch . sie ist immer gut erreichbar , im notfall auch am handy am wochenende . wir sind sehr zufrieden und unsere kinder vertrauen ihr auch sehr und gehen , obwohl ja ein arztbesuch oft mit krankheit verbunden ist , gerne zu ihr .',\n",
      "       b'ich war bei herrn dr. scherer um einen backenzahn ziehen zu lassen . der zahn machte seit jahren probleme , jedoch sah man nicht wirklich die ursache auf dem r\\xc3\\xb6ntgenbild . deshalb entschied ich nicht f\\xc3\\xbcr das ziehen . er versicherte sich gewissenhaft bei meinen behandelnden zahn\\xc3\\xa4rzten mehrmals ab . ebenso war die behandlung wirklich kurz und schmerzlos . im nachhinein war die behandlung notwendig und er erkl\\xc3\\xa4rte mir genau das problem , das die schmerzen verursachte . auch das personal am empfang top',\n",
      "       b'bin extra zu dr hojabri gewechselt als mein vorherige arzt die hyperermesis nicht ernst nahm hatte schon kilo abgenommen aber bei dr hojabri war es gleich viel besser ! dr hojabri team k\\xc3\\xbcmmerte sich sofort um mich , ich bekam vor ort eine infusion und wurde mit medikamente erstmal aufgepeppelt ich wurde aufgekl\\xc3\\xa4rt und er guckte lange nach was man mir alternativ geben k\\xc3\\xb6nne etc . keine weiteren kh aufenthalte n\\xc3\\xb6tig und ich wurde endlich von der arbeit frei gestellt ! moderne praxis',\n",
      "       b'dieser arzt ist einfach eine katastrophe ! beschwerden werden abgewiesen , es finden keine untersuchungen statt . die erste frage ist normalerweise eine arbeitsunf\\xc3\\xa4higkeitsbescheinigung , wenn sie also einen gelben attest brauchen , ohne krank zu sein , sind sie bei diesem arzt in guten h\\xc3\\xa4nden ! ich selbst arbeite im medizinischen bereich und kann sehr gut beurteilen , wie diese frau arbeitet und es ist wirklich gef\\xc3\\xa4hrlich ! sie diagnostizierte mir k\\xc3\\xbcrzlich gastritis , indem sie mir fragen stellte , nachdem ich bei einem echten arzt war , es stellte sich heraus , dass ich eine schwere entz\\xc3\\xbcndung der bauchspeicheldr\\xc3\\xbcse hatte ! kein wunder , wenn sie ihre patienten nicht untersuchen , eine labordiagnose stellen und die patienten mit einem gelben attest nach hause schicken ! nie wieder !',\n",
      "       b'mehr geht nicht , \\xc3\\xa4rztliche kompetenz , freundliches und hilfsbereites team .',\n",
      "       b'dr. b\\xc3\\xbcrkle erkl\\xc3\\xa4rt verst\\xc3\\xa4ndlich um umfassend und zeigt sofern m\\xc3\\xb6glich verschiedenen behandlungsmethoden auf . ich habe ihn schon mehrfach in meinem bekanntenkreis weiterempfohlen und bekomme stets gute r\\xc3\\xbcckmeldungen .',\n",
      "       b'wir sind seid einigen jahren in der praxis , wegen prophylaxe und kieferchirugie . sehr kompetente beratung durch die \\xc3\\xa4rzte und sehr zufriedene kleine patienten . keine angst vorm zahnarzt , sehr geschultes personal , sehr nette und sehr kompetente \\xc3\\xa4rtztin . unsere kinder hatten bis jetzt , weder karies noch l\\xc3\\xb6cher in den z\\xc3\\xa4hnen , durch die gute vorsorge . kann ich nur empfehlen ! ! !',\n",
      "       b'ich kann herrn dr. duschel und sein gesamtes praxisteam voll und ganz weiterempfehlen ! ! eine schnelle terminvergabe , es wurde sich viel zeit f\\xc3\\xbcr den patient genommen und eine herzliche betreuung von den schwestern . blasenspiegelung top . ich bin sehr dankbar diese praxis gefunden zu haben ! !',\n",
      "       b'ich kann nicht behaupten , dass ich fr\\xc3\\xbcher gerne zum zahnarzt gegangen bin und das lag nicht an meinen z\\xc3\\xa4hnen . und schon gar nicht trug mein zahnarzt die bezeichnung lieblingszahnarzt . doch dank frau dr. steinbach und ihrem team ist alles anders geworden . ich k\\xc3\\xb6nnte hier nicht nur einzelne dinge nennen , denn das w\\xc3\\xbcrde dem nicht gerecht werden . es ist das gesamtpaket ! frau dr. steinbach ist eine tolle und fachlich sehr kompetente \\xc3\\xa4rztin , sie nimmt sich zeit und hat immer ein offenes ohr f\\xc3\\xbcr meine belange , die atmosph\\xc3\\xa4re in der praxis ist ebenfalls sehr angenehm , die positive chemie untereinander \\xc3\\xbcbertr\\xc3\\xa4gt sich auf einen selbst und nach einer zahnbehandlung kommt man selbst wieder ganz entspannt aus der praxis . fazit ich w\\xc3\\xbcrde sie jederzeit weiterempfehlen , was ich auch schon getan habe .',\n",
      "       b'patienten brauchen nicht genug zeit . alles muss schnell gehen .',\n",
      "       b'die arzthelferinnen waren sehr freundlich . die wartezeit in ordnung . jedoch der pers\\xc3\\xb6nliche umgang mit herrn dr. k\\xc3\\xb6hl war eine komplette katastrophe . mir wurden immer wieder pers\\xc3\\xb6nliche kritik und unf\\xc3\\xa4higkeit meine symptome beschreiben zu k\\xc3\\xb6nnen , vorgeworfen . ich habe die praxis ohne dringend notwendiges medikament verlassen , da ich die behandlung nicht weiter aushalten konnte .',\n",
      "       b'habe seit eine gelenkendoprothese am linken knie . durch einen heftigen sturz im dezember mit dem gesamten k\\xc3\\xb6rpergewicht in die prothese war das knie defekt und nicht mehr belastbar . mehrere besuche bei dr. br\\xc3\\xa4ndlein erbrachten immer die beurteilung sie haben nichts , sie bilden sich nur was ein . das ging so seit fast anderthalb jahren . eine zweite meinung im h\\xc3\\xb6chster kh ergab einen defekt am kniegelenk . eine \\xc3\\xbcberweisung f\\xc3\\xbcr eine von h\\xc3\\xb6chst zus\\xc3\\xa4tzlich vorgeschlagene erforderliche szintigraphie wurde von dr br\\xc3\\xa4ndlein verweigert mit der begr\\xc3\\xbcndung er w\\xc3\\xa4re nicht der hanswurst der h\\xc3\\xb6chster kollegen , er w\\xc3\\xa4re selbst ein deutschlandweit bekannter orthop\\xc3\\xa4de und er w\\xc3\\xbcrde mir schon lange sagen , dass das knie nichts hat . ich m\\xc3\\xb6ge mir meine \\xc3\\xbcberweisung holen wo ich wolle , er w\\xc3\\xbcrde mir diese nicht ausstellen . fazit das knie hatte einen defekt der am . . in der orthop\\xc3\\xa4dischen klinik in braunfels durch einen inlaywechsel behoben wurde . ich erfahre nach dieser op eine neue lebensquallit\\xc3\\xa4t die ich \\xc3\\xbcber ein jahr durch die fehldiagnose von einem selbstherrlichen orthop\\xc3\\xa4den schmerzlich vermisst habe . \\xc3\\xa4rztekammer bitte eingreifen ! ! !',\n",
      "       b'endlich mal jemand der sich zeit nimmt und auch \\xc3\\xbcber wechselwirkungen mit anderen medikamenten nachdenkt .',\n",
      "       b'dr jahn hat am anfang einen sehr professionellen eindruck hinterlassen , dennoch hat er die therapieziele nicht erreicht und das urspr\\xc3\\xbcngliche problem nicht l\\xc3\\xb6sen k\\xc3\\xb6nnen . er war w\\xc3\\xa4hrend der therapie sehr \\xc3\\xbcberzeugt von seiner meinung und methoden , dass er patienten feedback teilweise ignoriert hatte . nach der vorgesehenen therapiedauer und kosten zeigte er kaum interesse mehr , sich weiterhin um das weiterbleibende problem zu k\\xc3\\xbcmmern . er versp\\xc3\\xa4tete sich stets zu vereinbarten termine \\xc3\\xbcber minuten und schickte , obwohl monatlich vereinbart , unregelm\\xc3\\xa4\\xc3\\x9fige rechnungen mit gr\\xc3\\xb6\\xc3\\x9feren betr\\xc3\\xa4gen zu . h\\xc3\\xa4tte ich gewusst , dass meine probleme am ende unver\\xc3\\xa4ndert bleiben w\\xc3\\xbcrden , h\\xc3\\xa4tte ich mir eine schmerzhafte therapie \\xc3\\xbcber monaten mit kosten mehr als . euro gespart .',\n",
      "       b'detaillierte , kompetente , fundierte beratung . freundlich , nimmt sich zeit , erkl\\xc3\\xa4rt ausf\\xc3\\xbchrlich .',\n",
      "       b'dr. herold ist eine sehr sympathische und kompetente frau , dies kann ich auch von ihren mitarbeiterinnen sagen und freue mich endlich eine so gut strukturierte praxis mit einer sehr guten behandlung durch den arzt gefunden zu haben . dies ist heute leider nicht mehr selbstverst\\xc3\\xa4ndlich .',\n",
      "       b'empfehle gerne herrn bayram an kollegen , freunde und familienangeh\\xc3\\xb6rige . ein sehr netter arzt ! !',\n",
      "       b'sehr unfreundlich und herrisch , eigene recherchen werden nicht f\\xc3\\xbcr ernst genommen und abgew\\xc3\\xbcrgt , auf beschreibung der beschwerden wird nicht eingegangen , neue therapieansatzm\\xc3\\xb6glichkeiten nicht besprochen , heilmittel nicht verschrieben budgetfrage ? ? , es wird gedroht , therapien nicht weiter zu verschreiben , weil zu viele patienten genau dasselbe wollen wollen ? ? brauchen ! , man f\\xc3\\xbchlt sich , als ob man etwas verbotenes will , jedoch hat man sich die chronische krankheit nicht ausgesucht und ist nicht froh dar\\xc3\\xbcber regelm\\xc3\\xa4\\xc3\\x9fig zum doc zu fahren und therapien verordnet haben zu m\\xc3\\xbcssen .... nie wieder zu heidorn . andere \\xc3\\xa4rzte der praxis vielleicht besser .',\n",
      "       b'nachdem ich zuvor bei einem anderen zahnarzt einen hkp erhalten habe , machte dr peterke mir ein um knapp g\\xc3\\xbcnstiges angebot bei gleicher behandlung . mit dem ergebnis bin ich sehr zufrieden . meine enorme angst vor der behandlung konnte er mir weitestgehend nehmen . au\\xc3\\x9ferdem muss besonders hervorgehoben werden , wie schnell alles \\xc3\\xbcber die b\\xc3\\xbchne ging . fazit super \\xc3\\xa4rzte und ein freundliches praxis team',\n",
      "       b'tolle arztpraxis . auch f\\xc3\\xbcr kinder geiegnet . der arzt nimmt sich viel zeit f\\xc3\\xbcr den einzelnen patienten , auch wenn die prax\\xc3\\xads voll ist . auch mein sohn , der seit seinem . lebensjahr dort behandelt wird , f\\xc3\\xbchlt sich wohl und in guten h\\xc3\\xa4nden . kann ich nur empfehlen ! !',\n",
      "       b'ich habe mich bei frau dr. koschinski sehr gut aufgehoben gef\\xc3\\xbchlt . sie ist eine kompetente und freundliche \\xc3\\xa4rztin , die sich genug zeit f\\xc3\\xbcr den patienten nimmt , um auf alle fragen und beschwerden einzugehen . ich habe schnell einen termin bekommen und und war auch mit der behandlung h\\xc3\\xb6chst zufrieden .',\n",
      "       b'der beste zahnarzt den man sich nur vorstellen kann . fachlich und menschlich einfach top . dr. schardt hat mir alle meine \\xc3\\xa4ngste genommen . ich konnte mir nie vorstellen , einmal gerne zum zahnarzt zu gehen . nun kann ich nach langer zeit wieder lachen . ein arzt aus berufung und nicht auf profit aus . ich kann nur jedem empfehlen zu diesen zahnarzt zu gehen , es wird niemand bereuen .',\n",
      "       b'dr. peikert ist ein ganz besonderer arzt , der mich als ganzen menschen wahrnimmt und bisher f\\xc3\\xbcr jedes thema den richtigen therapieansatz ausgew\\xc3\\xa4hlt hat . sein praxiskonzept ist genial , weil er mit einem ausgesuchten team alles an moderner und naturwissenschaftlicher medizin abdeckt . ich bin so froh , dass ich in dr. peikert so etwas wie einen hausarzt und leibarzt gefunden habe , dem ich vertrauen kann , der sich k\\xc3\\xbcmmert , der alles im blick und immer eine gute idee hat . ein toller mediziner und mensch , den ich nur empfehlen kann .',\n",
      "       b'ich habe mich noch nie bei einem arzt so schlecht aufgehoben gef\\xc3\\xbchlt . zwar konnte er mir die vermutete endometriose diagnostizieren , hat aber auf nachfrage nach symptomen etc . desinteressiert gewirkt , mich keines blickes gew\\xc3\\xbcrdigt und mir das gef\\xc3\\xbchl gegeben nicht zuzuh\\xc3\\xb6ren . nach dem vaginalen ultraschall wurde mein bauch abgetastet , nach der frage ob ich schmerzen habe ich habe vor schmerz kein wort raus bekommen und tr\\xc3\\xa4nen in den augen gehabt wurde noch fester zugedr\\xc3\\xbcckt . nicht zu empfehlen !',\n",
      "       b'sehr netter und kompetenter arzt f\\xc3\\xbchle mich dort sehr gut aufgehoben immer sehr freundlich und nimmt sich zeit und wenn fragen sind werden auch die zu meiner vollsten zufriedenheit beantwortet tolle praxis toller arzt und ein top team an seiner seite wirklich tolle und immer freundliche m\\xc3\\xa4dels .',\n",
      "       b'termin telefonisch innerhalb der n\\xc3\\xa4chsten zwei wochen erhalten nach einer wartezeit von stunden wurde ich knappe minuten mit halben interesse , behandelt w\\xc3\\xa4hrend meiner behandlung wurden gleichzeitig informationen \\xc3\\xbcber eine andere patientin an eine arzthelferin durch gegeben , plus namen ! ! sehr schlechte betreuung , nur halbherzig dabei , h\\xc3\\xb6rt einem nicht zu und l\\xc3\\xa4sst einen auch gar nicht zu wort kommen , geht im r\\xc3\\xbcckw\\xc3\\xa4rtsgang zur t\\xc3\\xbcre und w\\xc3\\xbcnscht einem dahin geklekst gute besserung',\n",
      "       b'nach einer langen odyssee zu \\xc3\\xa4rzten , die angeblich mit angstpatienten gut umgehen k\\xc3\\xb6nnen , traf ich auf frau brock und ihr team . nach einer klaren diagnose folgten so super behandlungen , dass ich jetzt , jahre sp\\xc3\\xa4ter , fast gern zur behandlung gehe . so gro\\xc3\\x9fe fachliche und auch noch menschliche kompetenz findet man nicht oft . ich bin einfach sehr , sehr dankbar , der \\xc3\\xa4rztin und dem ganzen team. ,',\n",
      "       b'arzt hat mich als notfallpatienten , stunden in wartezimmer warten lassen , machte eine fehldiagnose meiner fraktur ohne seiner behandlungspflicht nachzugehen . daraufhin wurde ich im krankenhaus eingeliefert . aufgrund der groben fahrl\\xc3\\xa4ssigkeit des arztes pr\\xc3\\xbcft mein anwalt auf unterlassene hilfeleistung . w\\xc3\\xbcrde den arzt nicht weiterempfehlen .',\n",
      "       b'nach .diagnose basaliom am oberen lidrand . die recherchen in unikliniken und bei augen\\xc3\\xa4rzten verliefen f\\xc3\\xbcr mich allesamt mit dem ergebnis , dass ich dort so eine op nicht vornehmen lassen kann und will . zu meinem gro\\xc3\\x9fen gl\\xc3\\xbcck ist meine tochter im internet auf dr. aral gesto\\xc3\\x9fen . nach einem herzlichen empfang in seiner praxis durch seine liebe tochter und meinem ersten gespr\\xc3\\xa4ch mit dr. aral stand f\\xc3\\xbcr mich fest , das ist mein arzt zu dem ich vollstes vertrauen habe hier bin ich gut aufgehoben . die kompetente und menschliche art von dr. aral haben mich \\xc3\\xbcberzeugt . er ist ein meister auf dem gebiet der lidchirurgie . die zwei op , die narkose und die schockdiagnose kein basaliom , sondern ein aggressiv und schnell wachsender talgdr\\xc3\\xbcsenkrebs habe ich trotz meines hohen alters jahre gut \\xc3\\xbcberstanden . dr. aral musste des lides entfernen , da der tumor schon sehr gewachsen war . die lidkonstruktion wurde ohne hauttransplantation vorgenommen , was mir sehr gelegen kam . die betreuung in der klinik mo fr war sehr gut , das pflegepersonal sehr freundlich und f\\xc3\\xbcrsorglich . die op sind jetzt vier wochen her und es ist alles gut verlaufen . w\\xc3\\xa4hrend dieser zeit war dr. aral immer f\\xc3\\xbcr mich telefonisch erreichbar und hat selbst immer wieder bei mir angerufen und nachgefragt , wie es mir geht . alles in allem hat sich die lange anreise std . fahrtzeit f\\xc3\\xbcr mich mehr als gelohnt . in dr. aral habe ich nicht nur einen \\xc3\\xa4u\\xc3\\x9ferst kompetenten sondern auch einen sehr herzlichen und menschlichen arzt kennengelernt . daf\\xc3\\xbcr bin ich sehr dankbar und kann ihn nur weiterempfehlen .',\n",
      "       b'herr dr. klaus richard weing\\xc3\\xa4rtner hat sich sehr wenig zeit genommen , war schnell wieder verschwunden . diagnose nur unzureichend erkl\\xc3\\xa4rt . die behandlungen haben leider keinen langfristigen erfolg gehabt .',\n",
      "       b'nimmt gar keine zeit ! ! nach minuten war er fertig mit untersuchung ! hat nicht geholfen ! ! hat nur schmerztabletten angeboten ! nicht zu empfehlen ! !',\n",
      "       b'ich bin mit frau dr. blau und dem gesamten praxisteam sehr zufrieden . dank ihr habe ich meine erkrankungen colitis ulcerosa und prim\\xc3\\xa4r skleroisierende cholangitis momentan wirklich gut im griff und habe trotz dieser krankheiten in meinem alltag keine einschr\\xc3\\xa4nkungen . auch sport spiele vereinsfu\\xc3\\x9fball und gehe regelm\\xc3\\xa4\\xc3\\x9fig joggen ist weiterhin ohne probleme m\\xc3\\xb6glich , was zeigt , dass die von ihr verschriebenen medikamente sehr gut bei mir ansprechen . kann frau dr. blau nur weiterempfehlen .',\n",
      "       b'auch mir ging es nach der behandlung bei dr gumpert schlechter als davor und erst bei einem anderen orthop\\xc3\\xa4den verbesserte sich mein zustand',\n",
      "       b'der arzt wei\\xc3\\x9ft nicht wie mit patienten zu sprechen . er war schon vor dem zuh\\xc3\\xb6ren mein problem aggressiv und beleidigend . sowas geht garnicht . \\xc3\\xbcber den behandlung nicht interessiert .',\n",
      "       b'die helferinnen machen ihren job ... aber besonders freundlich .... naja . dann bei der begr\\xc3\\xbc\\xc3\\x9fung mit herrn dr. schulz , verweigerte der mir den handschlag , weil er das grunds\\xc3\\xa4tzlich nicht machen w\\xc3\\xbcrde . seine arroganz ist schon bemerkenswert . mit dem obligatorischen inhalator wurde ich dann entlassen . am darauffolgenden tag meldete ich mich nochmals in der praxis , da es mir mit der atmung nicht besser ging . sp\\xc3\\xa4ter dann bekam ich erkl\\xc3\\xa4rt , dass ich nicht richtig einatmen w\\xc3\\xbcrde . hier \\xc3\\xbcberlege ich mir , was man bei der anwendung \\xc3\\xbcberhaupt falsch machen kann ... ist doch itiotensicher . entsprechend suchte ich ein prof. an der vivantes klinik auf . der wiederum widerlegte den befund von herrn dr. schulz und sagte mir , dass ich unbedingt die inhalation unterlassen solle . never again ! ! ! ! ! !',\n",
      "       b'lustig , charmant , freundlich . leider leichtfertig und sehr unzuverl\\xc3\\xa4ssig . lange , lange wartezeiten , keine berichte , keine diagnose , sondern einfach alles versucht , was f\\xc3\\xbcr die behandlung m\\xc3\\xb6glich ist . rechnungen ohne end . bitte vorsichtig sein . besser w\\xc3\\xa4ren weniger witze , professionellere arbeit .',\n",
      "       b'ich war insgesamt dort und da ich angstpatient bin , habe ich darum gebeten mir jeden schritt zu erkl\\xc3\\xa4ren der gemacht wird . leider hat man dies nicht ber\\xc3\\xbccksichtigt . es wurde schnell behandelt und man wurde weitergeschickt . ebenso unfreundlich war die sprechstundenhilfe die mir , als ich wegen krankheit einen termin absagte , eine standpauke hielt . ich habe absolut kein vertrauen aufbauen k\\xc3\\xb6nnen oder das gef\\xc3\\xbchl gehabt in kompetenten h\\xc3\\xa4nden zu sein . deswegen rate ich von dieser praxis ab !',\n",
      "       b'frau szogas fritsch hat mich als menschen , wie ich bin , \\xc3\\xbcberhaupt nicht gesehen . sie hat mich verbal wie ein kleinkind behandelt und mich herabgew\\xc3\\xbcrdigt . sie wollte mir vermitteln , dass sie mich besser kenne als ich mich selbst . normale verhaltensweisen wie eine anst\\xc3\\xa4ndige begr\\xc3\\xbc\\xc3\\x9fung scheint sie nicht zu kennen . und ich musste vor der t\\xc3\\xbcr warten wie ein hund , obwohl ich nur zwei minuten zu fr\\xc3\\xbch war , und wurde nicht dar\\xc3\\xbcber aufgekl\\xc3\\xa4rt .',\n",
      "       b'dr. zwiehoff ist leider ein sehr schlechter doktor . er hat meine schwere fu\\xc3\\x9fverletzung nicht einmal angesehen . dies f\\xc3\\xbchrte zu einer fehlerhaften behandlung , wodurch sich meine genesung deutlich verz\\xc3\\xb6gert . au\\xc3\\x9ferdem ist das empfangspersonal unfreundlich und wollte mich nicht im warteraum sitzen lassen , ob ich auf kr\\xc3\\xbccken war , weil sie sich noch in der mittagspause befinden . au\\xc3\\x9ferdem ist sehr langes warten . selbst bei einem termin ist zu erwarten , oder mehr !',\n",
      "       b'ein arzt , der wenig bis gar kein einf\\xc3\\xbchlungsverm\\xc3\\xb6gen , wenig fingerspitzengef\\xc3\\xbchl hat und mit wenig engagement arbeitet ! mittlerweile habe ich von vielen anderen schon negative dinge geh\\xc3\\xb6rt , von denen viele dann ihren urologen wechselten .',\n",
      "       b'bin wegen langwierigen bauchschmerzen extra zur internistin gegangen , weil ich dachte , dass sie mehr ahnung hat als ein hausarzt , leider war sie total auf den blinddarm fixiert ... hab so meinen einzigen freien tag unn\\xc3\\xb6tig in der notaufnahme verbracht ... beim . besuch zwecks \\xc3\\xbcberweisung auf rat des notarztes wollte sie mich wo ganz anders hin \\xc3\\xbcberweisen und diskutierte mit mir \\xc3\\xbcber das urteil des notarztes ... hat beim abtasten meines bauches schmerz laute als lachen abgetan ... ? ! sie fragte mich ob ich kitzlig sei , derweil hatte ich schmerzen bei druck . am ende hat sie mir mit ihren verdachtsdiagnosen mehr angst gemacht als geholfen ... au\\xc3\\x9ferdem geht sie auf fragen nicht ein , sondern f\\xc3\\xbchlt sich angegriffen und reagiert gereizt . meiner meinung nach zu alt nicht mehr auf dem stand .',\n",
      "       b'eine bessere behandlung habe ich bisher in keiner klinik oder beim arztbesuch erfahren . vielen dank !',\n",
      "       b'bin sehr zufrieden mit ihr , auch mit den schwestern , sehr h\\xc3\\xb6fflich',\n",
      "       b'ich w\\xc3\\xbcrde nicht behandelt , obwohl ich fieber und schwindel habe , w\\xc3\\xbcrde ich wieder weggeschickt , sie nehmen keine neuen patienten auf , ich wollte kein patient sein , ich wollte nur behandelt werden .',\n",
      "       b'wortkarg , k\\xc3\\xbchl empathie ist ein fremwort f\\xc3\\xbcr sie krebsvorsorge war sehr grob . extra untersuchungen macht sie sehr ungern , geht wahrscheinlich ums geld und bitte nur j\\xc3\\xa4hrlich erscheinen , geht wahrscheinlich auch ums geld kein verst\\xc3\\xa4ndnis f\\xc3\\xbcr probleme gar kein mithef\\xc3\\xbchl die mutter war eine ganz tolle und herzliche \\xc3\\xa4rztin leider f\\xc3\\xbchrt fr dr jepsen dies nicht fort ich werde dort nicht mehr hingehen',\n",
      "       b'ich kann fr dr. sorge nur bestens weiterempfehlen . da ich erst vor kurzem meinen gyn\\xc3\\xa4kologen gewechselt habe und fr . dr. sorge mir selber von einer freundin empfohlen wurde .... ich bin sehr zufrieden mit meinem wechsel und f\\xc3\\xbchle mich gut beraten . sie nimmt sich auch zeit f\\xc3\\xbcr beratungen etc . selten habe ich bei einem gyn\\xc3\\xa4kologen so schnell einen termin bekommen ! alles l\\xc3\\xa4uft sehr unkompliziert ab ... auch die damen am empfang machen einen hammerjob ! weiter so !',\n",
      "       b'stunde wartezeit sind normal und werden nicht erw\\xc3\\xa4hnt oder entschuldigt . die zu behandelnde stelle wurde mehrfach grob gedr\\xc3\\xbcckt und es wurde wortlos zu kenntnis genommen , dass ich starke schmerzen hatte . ebenso wurde ich mehrfach unterbrochen w\\xc3\\xa4hrend des erz\\xc3\\xa4hlens \\xc3\\xbcber den unfallhergang . bei diesem arzt ist man bittsteller und wird wie ein idiot behandelt , wenn man nachfragt wieso man mit termin so lange warten muss . kann ich nicht empfehlen , dort hinzugehen .',\n",
      "       b'frau dr. enssle kann toll mit kindern umgehen ! wir h\\xc3\\xa4tten nach unseren erfahrungen mit einer anderen zahn\\xc3\\xa4rztin nie gedacht , dass unsere dreij\\xc3\\xa4hrige tochter sich ohne narkose behandeln l\\xc3\\xa4sst und sogar gerne zum zahnarzt geht !',\n",
      "       b'ich war wegen einer konkreten untersuchung bei herrn dr. gonsch und hatte ihm gleich zu beginn des termins mit ganz wenigen konkreten angaben mitgeteilt , dass ich durch einen fall schwerer erkrankung in der familie sehr nerv\\xc3\\xb6s und m\\xc3\\xb6glicherweise unkonzentriert sei . der arzt zeigte keinerlei verst\\xc3\\xa4ndnis oder gar mitgef\\xc3\\xbchl , was aber auch nicht der grund f\\xc3\\xbcr meinen hinweis war . kurz danach sagte er ohne kenntnis des falls , mit einer unglaublichen gleichg\\xc3\\xbcltigkeit und ungefragt dass meine verwandte ja nun nicht mehr lange leben werde . bei der verabschiedung w\\xc3\\xbcnschte er mir f\\xc3\\xbcr sie eine gute lebensqualit\\xc3\\xa4t f\\xc3\\xbcr ihre restliche lebenszeit . ich selbst hatte in den letzten monaten einiges mit \\xc3\\xa4rztinnen und \\xc3\\xa4rzten unterschiedlicher fachrichtungen zu tun , konnte immer meine fragen stellen und habe vern\\xc3\\xbcnftige antworten erhalten . vor der untersuchung bei herrn dr. gonsch hatte ich mir viele gedanken gemacht , wie aussagekr\\xc3\\xa4ftig diese methode aufgrund des vorhandenen narbengewebes wohl sein kann . herr dr. gonsch quittierte meine darauf abzielende frage mit einem unangenehmen l\\xc3\\xa4cheln und der gegenfrage , warum er diese methode wohl anwende . herrn dr. gonschs verhalten ist aus meiner sicht vielleicht f\\xc3\\xbcr einen pathologen tragbar , obwohl ich diese fachrichtung nicht abwerten m\\xc3\\xb6chte . f\\xc3\\xbcr einen frauenarzt ist es aber vollkommen unakzeptabel .',\n",
      "       b'bin mit beginnender mandelentz\\xc3\\xbcndung hin , er hat mich nur minuten kurz untersucht , dabei weder in nase geschaut , noch hals abgetastet , und meinte mit einem antibakteriellen spray zur \\xc3\\xa4u\\xc3\\x9feren anwendung sei ich in tagen wieder gesund . das spray brachte nichts und tage sp\\xc3\\xa4ter musste ich mit stark geschwollenen und verweiterten mandeln ins krankenhaus wo sich ganze minuten zeit genommen wurde alle m\\xc3\\xb6glichen symptome zu untersuchen und einzusch\\xc3\\xa4tzen und auf antibiotika gesetzt werden . danke f\\xc3\\xbcr nichts .',\n",
      "       b'tolle zahn\\xc3\\xa4rztin also super . kann ich prozent weiter empfehlen . auch die schwestern sind sehr nett . tolle praxis .',\n",
      "       b'sehr arrogant und unversch\\xc3\\xa4mt ........ verdreht die augen wenn man ein rezept ben\\xc3\\xb6tigt und ist pampig und launisch ....... nie wieder betrete ich diese praxis ...........',\n",
      "       b'macht sich lustig \\xc3\\xbcber schwangere , die meinen im . . monat ihr kind zu sp\\xc3\\xbcren . gibt patienten nicht die gelegenheit fragen zu stellen . sehr unfreundlich und hat mich sogar am empfang dumm angemacht , weil ihr eine frage zu bl\\xc3\\xb6d war keine gelegenheit gehabt im sprechzimmer fragen zu stellen , da sie mich quasi direkt zur t\\xc3\\xbcr gebracht hat , junge arzthelferin hat sich bei mir entschuldigt . nach jedem besuch war ich tats\\xc3\\xa4chlich immer verunsichert ! menschlich f\\xc3\\xbcr mich eine katastrophe !',\n",
      "       b'herr dr. ihle nimmt sich sehr viel zeit f\\xc3\\xbcr seine patienten und wendet eine auf den einzelfall zugeschnittene auswahl verschiedener behandlungen an , um dem speziellen problem gerecht zu werden .',\n",
      "       b'wie hier schon von anderen thematisiert ist die dame am empfang leider oft sehr unfreundlich . sagt meist nicht mal guten tag und auf wiedersehen , ist offensichtlich \\xc3\\xbcberfordert . auch der arzt reagiert leider nicht auf kritik . offenbar meint er das nicht n\\xc3\\xb6tig zu haben . im verschreiben ist er sehr gro\\xc3\\x9fz\\xc3\\xbcgig . sogar diazepam , wo andere z\\xc3\\xb6gern , gibt es schnell . auch das weckt aber im grund kein vertrauen . das kleinkind der arzthelferin verbreitet unruhe in der praxis . das ist alles zu wenig am patienten orientiert .',\n",
      "       b'nach std . wartezeit wurde ich minuten gewohnheitsm\\xc3\\xa4\\xc3\\x9fig untersucht . fragen konnte ich nicht vollst\\xc3\\xa4ndig beantworten , zwei herr doktor ja nicht ausreden l\\xc3\\xa4sst . ct bilder wurden nicht angesehen ich denke er kann sie nicht auswerten . ein von ihm erstelltes r\\xc3\\xb6ntgenbild zeigte die schwere der verletzung abnutzung nicht , nur zu , dass ich andere r\\xc3\\xb6ntgenbilder mit hatte . nein danke , \\xc3\\xbcberheblichkeit gepaart mit desinteresse braucht kein kranker patient !',\n",
      "       b'seit \\xc3\\xbcber einem jahr habe ich in dr. fakhari meinen frauenarzt des vertaruens gefunden . bei egal welchem problem werde ich bei dr. fakhari immer ernst genommen und sehr kompetent beraten und behandelt und immer freundlich empfangen . ich habe mir vor einigen wochen die kuperspirale einsetzen lassen und bin auch damit sehr zurfrieden . anfangs war ich mir unsicher , ob ich mir die spirale auch wirklich einsetzen lassen soll . doch dank der ausf\\xc3\\xbchrlichen beratung von dr. fakhari fiel mir die entscheidung letztendlich leicht . beim einsetzen hatte ich zwar leichte schmerzen , was aber relativ normal ist und bei vielen frauen w\\xc3\\xa4hrend des einsetzens der fall ist . seither ist alles super und ich kann die kupferspirale und die praxis von dr. fakhari nur weiter empfehlen !',\n",
      "       b'so schnell war ich noch nie bei einem arzt nach einer behandlung wieder auf dr stra\\xc3\\x9fe . mit starken r\\xc3\\xbcckenschmerzen in die praxis gekommen ... keine untersuchung , direkt eine spritze , keine fragen , ob krankschreibung n\\xc3\\xb6tig , physio oder krankengymnastik gew\\xc3\\xbcnscht ... nie wieder zu dieser praxis !',\n",
      "       b'wegen tage fehlender au h\\xc3\\xa4tte ich fast meinen job verloren . sie wollte mich nicht bis zum facharzt termin au schreiben der blo\\xc3\\x9f tage sp\\xc3\\xa4ter gewesen ist . die damen hinter der theke sind f\\xc3\\xbcr bl\\xc3\\xb6dsinn gut aber f\\xc3\\xbcr mehr nicht eine katastrophe . als fr . prinz mich immer ins patienten zimmer rief , kam ich mir vor wie im ga\\xc3\\x9fenstall mit ihrem br\\xc3\\xbcllen durch die praxis . nicht die hand geben lass ich durch gehen , aber das br\\xc3\\xbcllen habe ich noch nie bei einem arzt oder \\xc3\\xa4rztin erlebt .',\n",
      "       b'wegen einen ohrenrtz\\xc3\\xbcndung mit meiner , jahren alten tochter dort . nach der sehr kurzen untersuchung meinte er gleich ja die polypen m\\xc3\\xbcssen raus machen wir mal einen termin er wollte sich dann gleich verabschieden ! ! ! ! keine aufkl\\xc3\\xa4rung keine beratung ? es geht schlie\\xc3\\x9flich um eine narkose ! auf meine frage hierzu wurde nur frech geantwortet das wird sie schon \\xc3\\xbcberleben ich habe damals nicht mal eine narkose bekommen ! ich w\\xc3\\xbcrde niemanden empfehlen diesen arzt aufzusuchen',\n",
      "       b'ich bin wegen starken schwierigkeiten beim h\\xc3\\xb6ren nach einer mittelohrentz\\xc3\\xbcndung zu diesem doc . er schaute kurz in mein ohr , meinte wasser eiter schleim w\\xc3\\xa4re drin . er verschrieb ohne einen h\\xc3\\xb6rtest zu machen einfach schleiml\\xc3\\xb6ser und nasentropfen . tage sp\\xc3\\xa4ter ging ich wieder zum arzt , weil meine symptome nicht besser wurden . dann machte er endlich einen h\\xc3\\xb6rtest und stellte fest , dass sich wohl das innenohr mit entzunden h\\xc3\\xa4tte . er verordnete kortison . eine woche sp\\xc3\\xa4ter , bei der kontrolle , schaute er mir nicht in die ohren sondern machte nur einen h\\xc3\\xb6rtest . dann wurde ich in sein behandlungszimmer gerufen und er sagte mir dass ich mich wohl mit der schwerh\\xc3\\xb6rigkeit abfinden sollte . ich bin ! zur regeneration der nerven verschrieb er vitamin .',\n",
      "       b'nach , std . warteprozedur eine min behandlung im eiltempo . sie ist nicht wirklich auf meine fragen eingegangen und war sehr kurz angebunden . insgesammt eine schlechte erfahrung .',\n",
      "       b'leider habe ich sehr schlechte erfahrungen mit dem arzt und der praxis gemacht . ich war mit meinem vater dort um eine krankschreibung zu bekommen , nach dem wir im krankenhaus waren . mein vater war nach einer darmspiegelung und einer durch die nase platzierte sonde im magen nat\\xc3\\xbcrlich nicht in der lage zu arbeiten . mit meinem angeschlagenen vater musste ich dann in die praxis , da krankenh\\xc3\\xa4user keine krankschreibungen ausstellen . mein vater hatte keine beratung oder behandlung gebraucht , dennoch sollten wir weil wir keinen termin hatten warten . dies taten wir auch bis mein vater nicht mehr konnte und daraufhin den arzt in seinem behandlungsraum ansprach , warum das so lange dauern w\\xc3\\xbcrde . daraufhin wurde dieser laut und meinte das er das so nicht machen darf usw . obwohl er das ja nicht machen durfte hatte er nach dieser aktion sofort seine krankschreibung bekommen ! ! ! geht anscheint doch ohne beratung ! ! ! . um einen weiteren konflikt zu vermeiden bin ich sp\\xc3\\xa4ter wieder in die praxis um das ganze zu schlichten , aber statt mit dem arzt reden zu k\\xc3\\xb6nnen wurde ich nur von der sehr inkompetenten arzthelferin angeschrien , was wir uns denn dabei gedacht h\\xc3\\xa4tten den arzt im behandlungsraum ohne patienten wohl gemerkt anzusprechen und das wir als patienten nicht mehr willkommen sind . daraufhin wollte sie mir die vertraulichen patientenantenakten meines vaters in die hand dr\\xc3\\xbccken und mich losschicken . als ich sie darauf hingewiesen habe , dass das strafbar ist was sie da macht hat sie nat\\xc3\\xbcrlich die akten f\\xc3\\xbcr sich behalten . der arzt war leider zu einem gespr\\xc3\\xa4ch nicht bereit . alles im allen ist die praxis nach dr. niemanns abgang nicht mehr weiter zu empfehlen sehr schwach ! ! ! !',\n",
      "       b'falsches antibiotikum verschrieben best\\xc3\\xa4tigung durch andere \\xc3\\xa4rzte krankenhaus bei mittelohrentz\\xc3\\xbcndung . infekt dadurch verschleppt und verschlimmert .',\n",
      "       b'leider ist der arzt extrem unfreundlich und man fuehlt sich als patient nicht ernst genommen . ein rassistischer kommentar hat den besuch noch abgerundet . ich weiss gar nicht wie man sich so ein verhalten heutzutage noch erlauben kann . definitiv war dies der erste und letzte besuch .',\n",
      "       b'routinierte voruntersuchung , erkl\\xc3\\xa4rt die behandlungsschritte leicht verst\\xc3\\xa4ndlich . praxisteam immer freundlich !',\n",
      "       b'auch ich bin bei herrn dr. w\\xc3\\xbcnsch und kann nicht klagen so auch sehr zu frieden und man kann mit dr. w\\xc3\\xbcnsch \\xc3\\xbcber des reden wenn man was hatt auch des mit den strommasagen und so man kann sagen das an bei dr. w\\xc3\\xbcnsch in guten h\\xc3\\xa4nden ist ich w\\xc3\\xbcrde auch dr. w\\xc3\\xbcnsch jeden weiter empfhelen . ,',\n",
      "       b'ich wurde mehrmals von dem dr. . heidlersehr operiert und immer ohne ausnahmen man wurde professionell und kompetent behandelt , einen termin man bekommt ziemlich schnell , und die ganze praxisteam ist nett und freundlich , also ist sehr empfehlenswert',\n",
      "       b'er gibt einem ein gutes gef\\xc3\\xbchl und bei unklarheiten empfiehlt er einem einen facharzt und doktert nicht rum ... als schnittstelle steht er weiterhin zur verf\\xc3\\xbcgung . nur beim thema ungewollte kinderlosigkeit spielt er wie viele \\xc3\\xa4rzte auf zeit ... fatal , denn die krankenkassen gezuschussen nur bis zur vollendung des . lebensjahres frau eine kinderwunsch behandlung .',\n",
      "       b'meine blasenentz\\xc3\\xbcndung wurde vom arzt nicht erkannt . durch nicht gen\\xc3\\xbcgend technische m\\xc3\\xb6glichkeiten wurden keine bakterien in der blase erkannt . meine schmerzen wurden auf menstruationsprobleme geschoben . blasenschmerzen bei menstruationsproblemen ? fehldiagnosen passiren wohl jedem arzt mal . aber die art und weise wie man behandelt wird gef\\xc3\\xa4llt mir gar nicht . es wird keine zeit genommen um genau zu untersuchen . ein urologe best\\xc3\\xa4tigte mir am n\\xc3\\xa4chsten tag nach einer sehr schmerzhaften nacht meine blasenentz\\xc3\\xbcndung und therapierte mich richtig . die ger\\xc3\\xa4tschaften in der praxis sind generell in die jahre gekommen noch aus ddr zeiten .',\n",
      "       b'ich war zur prophylaxe und zahnreinigung mit anschlie\\xc3\\x9fender kontrolle . ich bin wenn man das sagen kann ein angstpatient . dieser zahnarzt hat mir aber die angst vor solchen terminen genommen . die professionelle zahnreinigung wurde schmerzfrei durchgef\\xc3\\xbchrt . ich wurde jederzeit \\xc3\\xbcber alle schritte von der freundlichen und sehr kompetenten , jungen frau die die zahnreinigung durchf\\xc3\\xbchrte aufgekl\\xc3\\xa4rt . die anschlie\\xc3\\x9fende kontrolle durch den arzt verlief ebenso kompetent und ich bin war sehr zufrieden .',\n",
      "       b'wir haben \\xc3\\xbcberwiegend schlechte erfahrungen mit den \\xc3\\xa4rzten dieser praxis gemacht , medizinisch wie auch menschlich . wir wurden schlecht beraten , medizinisch nicht gut betreut und meines erachtens auch falsch therapiert . die \\xc3\\xa4rzte sind sehr auf profit aus . nun sind wir froh , eine gute betreuung in einer anderen praxis gefunden zu haben , das personal nimmt sich sehr viel zeit nehmen f\\xc3\\xbcr die individuelle beratung . fazit schlechte \\xc3\\xa4rzte , die im laufe der jahre verlernt haben auf die paare einzugehen . einziges plus praxis organisation und komfort',\n",
      "       b'praxisteam , super nett . dann die \\xc3\\xa4rztin , gibt mir keinen hand , erkl\\xc3\\xa4rt nichts zu viel und antwortet sehr abgehakt auf fragen . de praxis ist auch in die jahre gekommen und keine parkgelegenheit in der n\\xc3\\xa4he . dort gehe ich nicht noch mal hin !',\n",
      "       b'umfassende information , sehr nett und zuvorkommend',\n",
      "       b'top praxis kompetent , einf\\xc3\\xbchlsam , sehr freundliches personal , moderne ausstattung , sehr sauber , keine wartezeit ich bin seit jahren patientin von fr . dr. peschel und kann sie jedem nur weiterempfehlen !',\n",
      "       b'sehr einf\\xc3\\xbchlsame kinder\\xc3\\xa4rztin , die stets die ruhe bewahrt und sehr gut mit kinder umgehen kann . frau henriquez hat eine super sch\\xc3\\xb6ne neue praxis und ein sehr kompetentes team an mitarbeitern .',\n",
      "       b'ich kann meinen entt\\xc3\\xa4uschten vorrednern nur beipflichten . ich bin neulich zu herrn neuumann zur ultraschalluntersuchung gegangen . w\\xc3\\xa4hrend der einmin\\xc3\\xbctigen untersuchung wurde ich aus verschiedenen gr\\xc3\\xbcnden st\\xc3\\xa4ndig verh\\xc3\\xa4tschelt . egal wie oder was ich auf seine fragen geantwortet habe , er hat immer etwas darin gefunden , was ich angeblich v\\xc3\\xb6llig falsch gemacht habe . warum ich \\xc3\\xbcberhaupt zu ihm gekommen bin , warum ich meine ergebnisse nicht der rezeption vorgelegt habe , wie ich auf die idee gekommen bin , ihn nach einem ergebnis der untersuchung zu befragen .. und , und , und ! zugegeben , es war kein akuter fall f\\xc3\\xbcr mich , aber ich hatte die \\xc3\\xbcberweisung meines hausarztes . es h\\xc3\\xa4tte in zwei bis drei s\\xc3\\xa4tzen gereicht , um mich am ende der untersuchung \\xc3\\xbcber die ergebnisse oder \\xc3\\xa4nderungen meiner letzten untersuchung zu informieren . ich sollte zu meinem hausarzt gehen , er sollte es tun .',\n",
      "       b'sofort hatte ich das gef\\xc3\\xbchl . ein sehr kompeten arzt gefunden zu haben . nach kurzen und verst\\xc3\\xa4ndlichen , ja sogar ueberzeugenden erkl\\xc3\\xa4rungen , habe ich gleich vertrauen entwickelt .',\n",
      "       b'wegen halsschmerzen die andauerten , habe ich noch am gleichen tag einen termin bekommen . eine sehr nette und freundliche assistentin . doktor bell wirkte auf mich kompetent , l\\xc3\\xb6sungsorientiert und keine unn\\xc3\\xb6tigen behandlungen . bei zuk\\xc3\\xbcnftigen beschwerden rund um hals nase ohren w\\xc3\\xbcrde ich wieder dorthin gehen',\n",
      "       b'aufgrund eines sturzes habe ich aufgrund anhaltender starker schmerzen im knie und auf empfehlung diesen arzt aufgesucht . herr dr. kleinhues ist wenig bis gar nicht kommunikativ gewesen . da ich aufgrund von starken schmerzen im knie sichtlich bewegungseingeschr\\xc3\\xa4nkt war und ihn zu beginn darauf hingewiesen habe , inwieweit mir nur eine bewegung m\\xc3\\xb6glich ist , hat er mein knie derart ruppig hin und her hantiert , was ich nicht guthei\\xc3\\x9fen kann und mich von seiner lobgepriesenen kompetenz mehr als entt\\xc3\\xa4uscht hat . \\xc3\\xa4rgerlich auch die langen wartezeiten ich hatte um uhr einen arzttermin fix und war , stunden ! sp\\xc3\\xa4ter in behandlungszimmer .',\n",
      "       b'habe mich sehr ! wohlgef\\xc3\\xbchlt w\\xc3\\xa4hrend der behandlung , sehr gute aufkl\\xc3\\xa4rung , tolle praxis .',\n",
      "       b'mein sohn und ich sind langj\\xc3\\xa4hrige patienten bei frau dr. wiener . es ist bemerkenswert , wie engagiert und freundlich sie sich um ihre patienten k\\xc3\\xbcmmert . auch zu meinem teenager sohn konnte sie ein vertrauensverh\\xc3\\xa4ltnis aufbauen , um ihn zur therapie seiner schilddr\\xc3\\xbcsenkrankheit zu motivieren . mit viel geduld und hoher fachkompetenz gelingt es ihr schnell die richtige diagnose zu stellen und eine entsprechende therapie einzuleiten . man hat als patient immer das gef\\xc3\\xbchl , bei ihr gut aufgehoben zu sein . auch an dieser stelle ganz herzlichen dank daf\\xc3\\xbcr !',\n",
      "       b'frau mei\\xc3\\x9fner war ca . minuten im zimmer , h\\xc3\\xb6rte kaum zu und stelle g\\xc3\\xa4ngige diagnosen . leider half sie mir gar nicht . einzig gut war ihre empfehlung , einen osteopathen auszusuchen . der konnte mir helfen . im nachhinein habe ich der praxis eine mail geschrieben und meine unzufriedenheit geschildert . das interessiert da niemanden , es gab keine r\\xc3\\xbcckmeldung .',\n",
      "       b'hatte einen offenen bruch kniescheibenfraktur sehne gerissen ... zumindest hat sich diese \\xc3\\xa4rztin mein knie und h\\xc3\\xbcfte sprich alles was automatisch damit zusammenh\\xc3\\xa4ngt gr\\xc3\\xbcndlich angesehen ! es wurde erstmalig ein ultraschall gemacht die beweglichkeit getestet der grad der beugung gemessen ect ... das ist mehr als ich im sporthop\\xc3\\xa4dicum je untersucht wurde ! die wartezeit war erstaunlich kurz der termin innerhalb von tagen ! zugegebenerma\\xc3\\x9fen ist frau doktor nicht gerade die smaltalkerin sie war ziemlich reserviert und machte auch ein paar unpassende randbemerkungen zu meinen bisherigen erfahrungen aber was die behandlung angeht f\\xc3\\xbchlte ich mich gut aufgehoben und das ist ja nun mal das wichtigste .',\n",
      "       b'ich bin seit \\xc3\\xbcber jahren beim dr. elmar rademacher , ein sehr netter kompetenter und f\\xc3\\xbcrsorgliche arzt . dankesch\\xc3\\xb6n an dr. rademacher und auch an das team .',\n",
      "       b'ausgesprochen netter arzt nimmt sich zeit , erkl\\xc3\\xa4rt verst\\xc3\\xa4ndlich habe implantate von ihm bekommen und w\\xc3\\xbcrde es jeder zeit wieder von ihm machen lassen .. nur zu empfehlen',\n",
      "       b'frau dr. dornauf behandelt mit dem ziel den maximalen betrag abrechnen zu k\\xc3\\xb6nnen . eine auskunft \\xc3\\xbcber ihre behandlungsstrategie verweigert sie . die gestellte diagnose ist schwach und die vorgeschlagene therapie fahrl\\xc3\\xa4ssig . die veranla\\xc3\\x9ften blutuntersuchungen bei den laboren kosteten mehrere hundert euro ohne in ihrer gesamtheit notwendig gewesen zu sein . ich kann von ihr nur abraten .',\n",
      "       b'wir waren gestern das in der praxis von dr. . und auch das letzte mal ! man wird ich dieser praxis unfreundlich , und forsch abgefertigt ! keine begr\\xc3\\xbc\\xc3\\x9fung , kein augenkontakt auf sorgen und fragen wird genervt frech reagiert . ich kann mich den anderen negativbewertungen nur anschlie\\xc3\\x9fen und diese \\xc3\\xa4rztin nicht empfehlen ! . ich m\\xc3\\xb6chte nicht den kopf gestreichelt bekommen aber ich m\\xc3\\xb6chte die praxis mit einem guten gef\\xc3\\xbchl verlassen k\\xc3\\xb6nnen !',\n",
      "       b'dieser arzt ist das gegenteil von dr . k\\xc3\\xb6themann ! ! am wochenende ist mir leider mal meine medikation ausgegangen , bin ich ins apotheke um mir eviplera zu holen und der apotheker musst das ok vom arzt holen ! , leider war der dr. k\\xc3\\xb6themann nicht erreichbar bzw nicht zust\\xc3\\xa4ndig an dieses wochenende f\\xc3\\xbcr notf\\xc3\\xa4lle , und was war normalerweise hole ich immer eine er pack mit zuzahlung in h\\xc3\\xb6he von , dr. neuwirth lehnte es ab und hat den apotheker nur packung erlaubt . wiedermal nur ans geld denken . also als stamm patient von dr. k\\xc3\\xb6themann , empfehle ich niemals dr . neuwirth ! ! !',\n",
      "       b'ich war das erste mal bei dr. rieger und auch das letzte mal ! er h\\xc3\\xb6rte mir \\xc3\\xbcberhaupt nicht zu , sah mich teilnahmslos an und hatte dann nat\\xc3\\xbcrlich auch nicht viel zu sagen , was mir weitergeholfen h\\xc3\\xa4tte . er ist quasi von v\\xc3\\xb6llig falschen tatsachen ausgegangen und hat konsequent an mir vorbeigeredet ! mir fehlen ehrlich die worte , um dieses verhalten zu beschreiben . nie wieder ! !',\n",
      "       b'\\xc3\\xbcberaus kompetenter arzt und nettes praxisteam .',\n",
      "       b'wartezeit im rahmen , ordentliche beratung ohne fachchinesisch , nachvollziehbare behandlungsschritte und zuvorkommend und freundlich alles in allem eine gute erfahrung der erste termin hier in dieser praxis , werde wiederkommen .',\n",
      "       b'nachher ist man immer schlauer . leider habe ich die vielen negativen bewertungen erst nach meinem termin gelesen , sonst h\\xc3\\xa4tte ich diese praxis nicht erst besucht . viele negative punkte , die bereits von meinen vorrednern angesprochen wurden , kann ich unterschreiben . pro zentrale lage online terminvergabe kontra wartezeit min r\\xc3\\xbcckfragen wenig ausf\\xc3\\xbchrlich beantwortet keine umfassende analyse der beschwerden vor diagnose . keine frage nach essgewohnheiten , lebensstil , rauchen alkohol etc . termin wurde schroff und unfreundlich beendet diagnose behandlungsm\\xc3\\xb6glichkeit . zwischen t\\xc3\\xbcr und angel keine zusammenfassung am ende des termins . n\\xc3\\xa4chste schritte , haben sie noch fragen ? ich habe mich w\\xc3\\xa4hrend der behandlung immer unwohler gef\\xc3\\xbchlt und werde diese praxis nicht mehr besuchen . die positiven bewertungen auf diesem portal kann ich nicht nachvollziehen .',\n",
      "       b'gepflegte moderne hochwertig ausgestattete praxis mit einem tollen \\xc3\\xa4rzteteam war mal wieder begeistert ! ! ! implantat sitzt super keine nachbeschwerden . behandlung war sanft und schmerzlos trotz anf\\xc3\\xa4nglicher angst .',\n",
      "       b'danke f\\xc3\\xbcr die kompetente beratung und behandlung . ich wechsle zu ihnen .',\n",
      "       b'ewig lange wartezeiten trotz termin ziemlich unfreundliches personal',\n",
      "       b'nach einer entz\\xc3\\xbcndung meines schneidezahns ging ich unmittelbar in die praxis , jedoch war dr. alisch auf urlaub und musste mich somit bei herrn dr. lachmann behandeln lassen . nach einer kurzen behandlung verschrieb er mir antibiotika und machte mir einen neuen termin in der kommenden woche . als ich dann zum folgetermin erschien , schaute er sich den entz\\xc3\\xbcndeten f\\xc3\\xbcr einige sekunden an und schlussfolgerte unmittelbar muss gezogen werden . meine frage , ob es denn keine alternativen gab , verneinte er und druckte mir schon gleichzeitig den kostenvoranschlag aus . ich empfand dies als viel zu schnell , unseri\\xc3\\xb6s und machte mich skeptisch . ich habe die papiere sofort in die m\\xc3\\xbclltonne geworfen und einen neuen arzt aufgesucht , der mir den zahn dann wurzelbehandelte und ich seitdem gl\\xc3\\xbccklich mit dem zahn bin . zum gl\\xc3\\xbcck habe ich nicht auf herrn dr. lachmann geh\\xc3\\xb6rt und seit dem vermeide ich die praxis , obwohl ich bei herrn dr. alisch immer zufrieden war .',\n",
      "       b'dr. strasser ist seit jahren mein hausarzt , er ist sehr kompetent , gewissenhaft und einf\\xc3\\xbchlend . ich kenne ihn als guten und freundlichen arzt , dies nicht nur bei sportverletzungen oder magen darmbeschwerden . dr. strasser ist \\xc3\\xbcberdie\\xc3\\x9f ein guter allgemein arzt , der sehr gutes medizinisches fachwissen besitzt . herr dr. strasser kann sehr humovoll sein , wenn es die situation erfordert . ein gutes gef\\xc3\\xbchl vermittelt mir der arzt bei jeder untersuchung . gerade im ultraschall erkennt er schnell eventuelle kleine problem fettleber und wei\\xc3\\x9ft auch bedingungslos darauf hin . jedoch nicht dabei ein gewisses feingef\\xc3\\xbchl f\\xc3\\xbcr den patienten zu verlieren . ein arzt meines vertrauens . familie und freunde teilen inzwischen mit mir diese auffassung .',\n",
      "       b'ich habe telefonisch einen termin bei dr. torsten gieschen meviva \\xc3\\xa4rzteteam vereinbart , auf den ich leider einem monat warten musste . als ich am vereinbarten datum die praxis betrat wurde ich am empfang informiert , dass ich gar keinen termin habe und gar nicht erst im system bin . mir wurde aber angeboten , dass ich um uhr morgens bei der spezialistin dr. elisabeth beese hoffmann einen termin zwei tage sp\\xc3\\xa4ter bekommen kann . wie ich an diesem tag behandelt wurde ist unterste schublade und unversch\\xc3\\xa4mt . nach einer kurzen wartezeit termin werde ich aufgreufen und betrete den untersuchungsraum . folgendes passierte in windeseile begr\\xc3\\xbc\\xc3\\x9fung sekunden dr. elisabeth beese hoffmann steht am pc und fragt ohne mich \\xc3\\xbcberhaupt zu begr\\xc3\\xbc\\xc3\\x9fen oder anzugucken was f\\xc3\\xbcr beschwerden ich habe . schilderung der beschwerden sekunden ich schildere ihr meine beschwerden und werde nach sekunden unterbrochen . sie fragt mich , ob es mein ernst sei ? ! es seien schlie\\xc3\\x9flich viele akutf\\xc3\\xa4lle , die drau\\xc3\\x9fen warten und sie sich jetzt nicht damit auseinandersetzen will ... es sei nichts akutes . untersuchung und verabschiedung sekunden ich erl\\xc3\\xa4utere ihr , dass ich einen termin hatte bei ihrem kollegen auf den ich einen monat gewartet habe , der aber leider nicht im system vermerkt war und mir nun dieser termin gegeben wurde . sie sagt arrogant , dass ich bestimmt was falsch gemacht habe und das das nicht sein kann was ich sage . ich soll aufstehen damit sie sich die f\\xc3\\xbc\\xc3\\x9fe anschauen kann und nachdem ich aufgestanden bin , schreit sie fast und sagt ich solle meine schuhe ausziehen ! sie wirft einen blick auf die f\\xc3\\xbc\\xc3\\x9fe und sagt ich solle andere schuhe tragen und magnesium nehmen , mehr kann sie jetzt nicht machen . anschlie\\xc3\\x9fend sagt sie mir , dass sie keine zeit mehr f\\xc3\\xbcr mich hat und bittet mich zu gehen indem sie auf die t\\xc3\\xbcr zeigt . nach knapp einer minute war ich drau\\xc3\\x9fen . mehr kann man zu dieser unversch\\xc3\\xa4mtheit nicht mehr sagen . nie wieder !',\n",
      "       b'wunderbare \\xc3\\xa4rztin , h\\xc3\\xb6rt gut zu , und fachlich sehr kompetent .',\n",
      "       b'dr. . ist sehr nett , aber unter stunden kommt man da selten raus . die terminvergabe ist verbesserungsw\\xc3\\xbcrdig . ich wurde morgens um zum darmkrebstest bestellt und als ich ankam sagte man mir , dass diese untersuchungen erst um . statt finden . trotzdem kam ich um . immer noch nicht dran das ist nur ein beispiel von vielen .',\n",
      "       b'ich bin der frau dr. leist zur unterst\\xc3\\xbctzung meiner ivf behandlung . frau dr. leist ist eine sehr erfahrene und empathische \\xc3\\xa4rztin . durch die akupunktur und den tee den musste ich ca . monate trinken komme ich bisher ohne gro\\xc3\\x9fe nebenwirkungen durch die hormonbehandlung . ich kann frau dr. leist auch immer fragen , wenn bei mir offene fragen bei der ivf sind . sie war selbst in einem kinderwunschzentrum als gyn\\xc3\\xa4kologin besch\\xc3\\xa4ftigt und kennt sich deshalb sehr gut aus . der kinderwunsch ist eine sehr pers\\xc3\\xb6nliche angelegenheit . frau dr. leist gibt einen trost und muntert einen auf . ich kann sie nur empfehlen . im \\xc3\\xbcbrigen werde ich bestimmt auch nach der kinderwunschbehandlung bei ihr bleiben . sie fr\\xc3\\xa4gt vor der akupunktur auch immer ob man noch weitere beschwerden hat und egal ob halsschmerzen oder r\\xc3\\xbcckenbeschwerden nach der akupunktur ist das besser oder ganz weg !',\n",
      "       b'ich habe manchmal den eindruck , dass meine bemerkungen beschreibungen nicht so verstanden werden , wie ich sie meinte bei anderen \\xc3\\xa4rzten habe ich nicht das problem',\n",
      "       b'meiner meinung nach hat sich herr kau\\xc3\\x9fen leider nicht genug zeit genommen f\\xc3\\xbcr anamnese und untersuchung und hat dann auch eine falsche diagnose gestellt . nat\\xc3\\xbcrlich kann jeder mal einen fehler machen , aber ich denke herr kau\\xc3\\x9fen schlie\\xc3\\x9ft sich einfach zu schnell auf eine bestimmte diagnose ein . man bekommt immer sehr unkompliziert und ohne lange wartezeit einen termin , ich frage mich jedoch , woran es liegt , dass die praxis immer so leer ist ? ? vielleicht waren andere patienten ebenfalls unzufrieden .'],\n",
      "      dtype=object)>}\n",
      "tf.Tensor(\n",
      "[0 1 1 1 1 0 1 0 1 1 0 0 1 0 1 0 0 1 0 1 0 0 1 0 1 1 1 0 1 1 1 1 1 0 0 0 1\n",
      " 0 1 1 1 0 1 1 1 1 1 0 1 0 1 0 1 0 0 1 0 0 0 0 0 0 0 0 0 1 1 0 0 1 0 1 0 0\n",
      " 1 0 0 1 0 0 1 0 0 0 0 0 0 0 0 1 1 1 1 0 1 0 0 1 1 1 0 1 1 0 1 1 0 1 1 1 0\n",
      " 0 0 0 1 1 0 1 1 0 0 1 0 1 1 1 1 0], shape=(128,), dtype=int64)\n"
     ]
    }
   ],
   "source": [
    "for text, labels in dataset_train.take(1):\n",
    "    print(text)\n",
    "    print(labels)"
   ]
  },
  {
   "cell_type": "code",
   "execution_count": 14,
   "metadata": {},
   "outputs": [],
   "source": [
    "def build_model_rnn(params):\n",
    "    \"\"\"Builds a rnn classifier based on the provided params \n",
    "\n",
    "    Parameters\n",
    "    ----------\n",
    "    params: dict\n",
    "        The dictionary containing the parameters\n",
    "    \"\"\"\n",
    "    \n",
    "    from tensorflow import keras\n",
    "    \n",
    "    rnn_activation_function = params.get(\"rnn_activation_function\", \"relu\")\n",
    "    rnn_output_dropout = params.get(\"rnn_output_dropout\", 0.5)\n",
    "    rnn_dropout = params.get(\"rnn_dropout\", 0.2)\n",
    "    # for values > 0 it will not use cuDNN kernels\n",
    "    rnn_recurrent_dropout = params.get(\"rnn_recurrent_dropout\", 0.0)\n",
    "    rnn_units = params.get(\"rnn_units\", 32)\n",
    "    rnn_num_layers = params.get(\"rnn_num_layers\", 1)\n",
    "    rnn_bidirectional = params.get(\"rnn_bidirectional\", True)\n",
    "    rnn_type = params.get(\"rnn_type\", \"LSTM\")\n",
    "    rnn_global_max_pooling = params.get(\"rnn_global_max_pooling\", False)\n",
    "\n",
    "    classification_type = params.get(\"classification_type\", \"binary\") \n",
    "    \n",
    "    computed_objects_column_name = params.get(\"computed_objects_column_name\", \"computed_objects\")\n",
    "    vectorize_layer = params[computed_objects_column_name][\"vectorize_layer\"]\n",
    "    embedding_layer = params[computed_objects_column_name][\"embedding_layer\"]\n",
    "    label_binarizer = params[computed_objects_column_name][\"label_binarizer\"]\n",
    "    output_classes = len(label_binarizer.classes_)\n",
    "    output_classes = output_classes if output_classes > 2 else 1\n",
    "    \n",
    "    model = keras.Sequential(name=\"rnn\")\n",
    "    # A text input\n",
    "    model.add(keras.layers.InputLayer(input_shape=(1,), dtype=tf.string, name=\"text_input\"))\n",
    "    # The first layer in our model is the vectorization layer. After this layer,\n",
    "    # we have a tensor of shape (batch_size, output_sequence_length) containing vocab indices.\n",
    "    model.add(vectorize_layer)\n",
    "    # Next, we add a layer to map those vocab indices into a space of dimensionality 'embedding_dim'. \n",
    "    model.add(embedding_layer)\n",
    "    \n",
    "    for layer in range(rnn_num_layers):\n",
    "        return_sequences = layer + 1 < rnn_num_layers or rnn_global_max_pooling\n",
    "        \n",
    "        if rnn_type == \"LSTM\":\n",
    "            layer = keras.layers.LSTM(rnn_units, return_sequences=return_sequences, dropout=rnn_dropout, recurrent_dropout=rnn_recurrent_dropout)\n",
    "        elif rnn_type == \"GRU\":\n",
    "            layer = keras.layers.GRU(rnn_units, return_sequences=return_sequences, dropout=rnn_dropout, recurrent_dropout=rnn_recurrent_dropout)\n",
    "        elif rnn_type == \"RNN\":\n",
    "            layer = keras.layers.RNN(rnn_units, return_sequences=return_sequences)\n",
    "        else:\n",
    "            raise ValueError(\"Unknown rnn_type \"+rnn_type)\n",
    "        \n",
    "        \n",
    "        if rnn_bidirectional:\n",
    "            layer = keras.layers.Bidirectional(layer)\n",
    "         \n",
    "        model.add(layer)\n",
    "        \n",
    "        rnn_units = int(rnn_units / 2)\n",
    "    \n",
    "    if rnn_global_max_pooling:\n",
    "        model.add(keras.layers.GlobalMaxPool1D())\n",
    "    \n",
    "    model.add(keras.layers.Dense(rnn_units, activation=rnn_activation_function))\n",
    "    \n",
    "    if rnn_output_dropout is not None and rnn_output_dropout > 0:\n",
    "        model.add(keras.layers.Dropout(rnn_output_dropout, name=\"dense_dropout\"))\n",
    "        \n",
    "    if classification_type == \"binary\":\n",
    "        output_activation = \"sigmoid\"\n",
    "    elif classification_type == \"multi-class\":\n",
    "        output_activation = \"softmax\"\n",
    "    elif classification_type == \"multi-label\":\n",
    "        output_activation = \"sigmoid\"\n",
    "    else:\n",
    "        raise ValueError(\"Unknown classification_type \"+classification_type)\n",
    "\n",
    "    model.add(keras.layers.Dense(output_classes, activation=output_activation, name=\"prediction\"))\n",
    "    \n",
    "    return model"
   ]
  },
  {
   "cell_type": "code",
   "execution_count": 15,
   "metadata": {},
   "outputs": [
    {
     "name": "stdout",
     "output_type": "stream",
     "text": [
      "Model: \"rnn\"\n",
      "_________________________________________________________________\n",
      "Layer (type)                 Output Shape              Param #   \n",
      "=================================================================\n",
      "text_vectorization (TextVect (None, None)              0         \n",
      "_________________________________________________________________\n",
      "embedding (Embedding)        (None, None, 300)         61647900  \n",
      "_________________________________________________________________\n",
      "bidirectional (Bidirectional (None, 64)                85248     \n",
      "_________________________________________________________________\n",
      "dense (Dense)                (None, 16)                1040      \n",
      "_________________________________________________________________\n",
      "dense_dropout (Dropout)      (None, 16)                0         \n",
      "_________________________________________________________________\n",
      "prediction (Dense)           (None, 1)                 17        \n",
      "=================================================================\n",
      "Total params: 61,734,205\n",
      "Trainable params: 86,305\n",
      "Non-trainable params: 61,647,900\n",
      "_________________________________________________________________\n"
     ]
    }
   ],
   "source": [
    "model = build_model_rnn(params)\n",
    "model.summary()"
   ]
  },
  {
   "cell_type": "code",
   "execution_count": 16,
   "metadata": {},
   "outputs": [],
   "source": [
    "compile_model(params, model)"
   ]
  },
  {
   "cell_type": "code",
   "execution_count": 17,
   "metadata": {},
   "outputs": [
    {
     "name": "stdout",
     "output_type": "stream",
     "text": [
      "Epoch 1/10\n",
      "3512/3512 [==============================] - 155s 42ms/step - loss: 0.1247 - accuracy: 0.9597 - val_loss: 0.0691 - val_accuracy: 0.9775\n",
      "Epoch 2/10\n",
      "3512/3512 [==============================] - 143s 41ms/step - loss: 0.0772 - accuracy: 0.9761 - val_loss: 0.0553 - val_accuracy: 0.9830\n",
      "Epoch 3/10\n",
      "3512/3512 [==============================] - 145s 41ms/step - loss: 0.0646 - accuracy: 0.9797 - val_loss: 0.0495 - val_accuracy: 0.9850\n",
      "Epoch 4/10\n",
      "3512/3512 [==============================] - 150s 43ms/step - loss: 0.0583 - accuracy: 0.9817 - val_loss: 0.0466 - val_accuracy: 0.9861\n",
      "Epoch 5/10\n",
      "3512/3512 [==============================] - 149s 42ms/step - loss: 0.0546 - accuracy: 0.9832 - val_loss: 0.0477 - val_accuracy: 0.9849\n",
      "Epoch 6/10\n",
      "3512/3512 [==============================] - 143s 41ms/step - loss: 0.0524 - accuracy: 0.9839 - val_loss: 0.0437 - val_accuracy: 0.9875\n",
      "Epoch 7/10\n",
      "3512/3512 [==============================] - 152s 43ms/step - loss: 0.0498 - accuracy: 0.9848 - val_loss: 0.0434 - val_accuracy: 0.9880\n",
      "Epoch 8/10\n",
      "3512/3512 [==============================] - 155s 44ms/step - loss: 0.0493 - accuracy: 0.9851 - val_loss: 0.0438 - val_accuracy: 0.9871\n",
      "Epoch 9/10\n",
      "3512/3512 [==============================] - 155s 44ms/step - loss: 0.0482 - accuracy: 0.9855 - val_loss: 0.0432 - val_accuracy: 0.9877\n",
      "Epoch 10/10\n",
      "3512/3512 [==============================] - 157s 45ms/step - loss: 0.0482 - accuracy: 0.9853 - val_loss: 0.0415 - val_accuracy: 0.9877\n"
     ]
    }
   ],
   "source": [
    "params[\"training_epochs\"] = 10\n",
    "history = train_model(params, model, dataset_train, dataset_val)"
   ]
  },
  {
   "cell_type": "code",
   "execution_count": null,
   "metadata": {},
   "outputs": [],
   "source": []
  },
  {
   "cell_type": "markdown",
   "metadata": {},
   "source": [
    "Let's see if it is possible to further improve the model by unfreezing the embedding layer.\n",
    "\n",
    "Also see https://www.tensorflow.org/guide/keras/transfer_learning"
   ]
  },
  {
   "cell_type": "code",
   "execution_count": 18,
   "metadata": {},
   "outputs": [
    {
     "name": "stdout",
     "output_type": "stream",
     "text": [
      "Model: \"rnn\"\n",
      "_________________________________________________________________\n",
      "Layer (type)                 Output Shape              Param #   \n",
      "=================================================================\n",
      "text_vectorization (TextVect (None, None)              0         \n",
      "_________________________________________________________________\n",
      "embedding (Embedding)        (None, None, 300)         61647900  \n",
      "_________________________________________________________________\n",
      "bidirectional (Bidirectional (None, 64)                85248     \n",
      "_________________________________________________________________\n",
      "dense (Dense)                (None, 16)                1040      \n",
      "_________________________________________________________________\n",
      "dense_dropout (Dropout)      (None, 16)                0         \n",
      "_________________________________________________________________\n",
      "prediction (Dense)           (None, 1)                 17        \n",
      "=================================================================\n",
      "Total params: 61,734,205\n",
      "Trainable params: 61,734,205\n",
      "Non-trainable params: 0\n",
      "_________________________________________________________________\n"
     ]
    }
   ],
   "source": [
    "# Unfreeze all layers (i.e. make embeddings trainable)\n",
    "model.trainable = True\n",
    "model.summary()"
   ]
  },
  {
   "cell_type": "code",
   "execution_count": 19,
   "metadata": {},
   "outputs": [],
   "source": [
    "re_compile_model(params, model)"
   ]
  },
  {
   "cell_type": "code",
   "execution_count": 20,
   "metadata": {},
   "outputs": [
    {
     "name": "stdout",
     "output_type": "stream",
     "text": [
      "Epoch 1/2\n",
      "3512/3512 [==============================] - 1638s 465ms/step - loss: 0.0385 - accuracy: 0.9883 - val_loss: 0.0364 - val_accuracy: 0.9896\n",
      "Epoch 2/2\n",
      "3512/3512 [==============================] - 1622s 462ms/step - loss: 0.0313 - accuracy: 0.9906 - val_loss: 0.0349 - val_accuracy: 0.9905\n"
     ]
    }
   ],
   "source": [
    "params[\"training_epochs\"] = 2\n",
    "history = train_model(params, model, dataset_train, dataset_val)"
   ]
  },
  {
   "cell_type": "code",
   "execution_count": 21,
   "metadata": {},
   "outputs": [
    {
     "name": "stderr",
     "output_type": "stream",
     "text": [
      "WARNING:absl:Found untraced functions such as lstm_cell_1_layer_call_fn, lstm_cell_1_layer_call_and_return_conditional_losses, lstm_cell_2_layer_call_fn, lstm_cell_2_layer_call_and_return_conditional_losses, lstm_cell_1_layer_call_fn while saving (showing 5 of 10). These functions will not be directly callable after loading.\n"
     ]
    },
    {
     "name": "stdout",
     "output_type": "stream",
     "text": [
      "INFO:tensorflow:Assets written to: models/rnn/20210918-164935/model_0.99048/assets\n"
     ]
    },
    {
     "name": "stderr",
     "output_type": "stream",
     "text": [
      "INFO:tensorflow:Assets written to: models/rnn/20210918-164935/model_0.99048/assets\n"
     ]
    }
   ],
   "source": [
    "save_model(params, model, history)"
   ]
  },
  {
   "cell_type": "code",
   "execution_count": 22,
   "metadata": {},
   "outputs": [],
   "source": [
    "#%tensorboard --logdir logs"
   ]
  },
  {
   "cell_type": "code",
   "execution_count": 23,
   "metadata": {},
   "outputs": [],
   "source": [
    "from fhnw.nlp.utils.ploting import report_classification_results"
   ]
  },
  {
   "cell_type": "markdown",
   "metadata": {},
   "source": [
    "Check performance on all data."
   ]
  },
  {
   "cell_type": "code",
   "execution_count": 24,
   "metadata": {},
   "outputs": [
    {
     "name": "stdout",
     "output_type": "stream",
     "text": [
      "Set Population: 331187\n",
      "Accuracy: 0.9872\n"
     ]
    },
    {
     "data": {
      "image/png": "[encoded data removed]",
      "text/plain": [
       "<Figure size 720x576 with 2 Axes>"
      ]
     },
     "metadata": {
      "needs_background": "light"
     },
     "output_type": "display_data"
    },
    {
     "name": "stdout",
     "output_type": "stream",
     "text": [
      "              precision    recall  f1-score   support\n",
      "\n",
      "    negative       0.89      1.00      0.94     33022\n",
      "    positive       1.00      0.99      0.99    298165\n",
      "\n",
      "    accuracy                           0.99    331187\n",
      "   macro avg       0.94      0.99      0.97    331187\n",
      "weighted avg       0.99      0.99      0.99    331187\n",
      "\n",
      "CPU times: user 1min 58s, sys: 1.54 s, total: 1min 59s\n",
      "Wall time: 49 s\n"
     ]
    }
   ],
   "source": [
    "%%time\n",
    "\n",
    "report_classification_results(params, data, model)"
   ]
  },
  {
   "cell_type": "markdown",
   "metadata": {},
   "source": [
    "Check performance on test data."
   ]
  },
  {
   "cell_type": "code",
   "execution_count": 25,
   "metadata": {},
   "outputs": [
    {
     "name": "stdout",
     "output_type": "stream",
     "text": [
      "Set Population: 66238\n",
      "Accuracy: 0.9822\n"
     ]
    },
    {
     "data": {
      "image/png": "[encoded data removed]",
      "text/plain": [
       "<Figure size 720x576 with 2 Axes>"
      ]
     },
     "metadata": {
      "needs_background": "light"
     },
     "output_type": "display_data"
    },
    {
     "name": "stdout",
     "output_type": "stream",
     "text": [
      "              precision    recall  f1-score   support\n",
      "\n",
      "    negative       0.85      1.00      0.92      6604\n",
      "    positive       1.00      0.98      0.99     59634\n",
      "\n",
      "    accuracy                           0.98     66238\n",
      "   macro avg       0.92      0.99      0.95     66238\n",
      "weighted avg       0.98      0.98      0.98     66238\n",
      "\n",
      "CPU times: user 23.2 s, sys: 243 ms, total: 23.4 s\n",
      "Wall time: 9.11 s\n"
     ]
    }
   ],
   "source": [
    "%%time\n",
    "\n",
    "report_classification_results(params, data_test, model)"
   ]
  },
  {
   "cell_type": "code",
   "execution_count": null,
   "metadata": {},
   "outputs": [],
   "source": []
  }
 ],
 "metadata": {
  "kernelspec": {
   "display_name": "Python 3",
   "language": "python",
   "name": "python3"
  },
  "language_info": {
   "codemirror_mode": {
    "name": "ipython",
    "version": 3
   },
   "file_extension": ".py",
   "mimetype": "text/x-python",
   "name": "python",
   "nbconvert_exporter": "python",
   "pygments_lexer": "ipython3",
   "version": "3.6.9"
  }
 },
 "nbformat": 4,
 "nbformat_minor": 2
}
