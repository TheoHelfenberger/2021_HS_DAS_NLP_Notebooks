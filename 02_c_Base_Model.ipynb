{
 "cells": [
  {
   "cell_type": "markdown",
   "metadata": {},
   "source": [
    "<img align=\"right\" width=\"400\" src=\"https://www.fhnw.ch/de/++theme++web16theme/assets/media/img/fachhochschule-nordwestschweiz-fhnw-logo.svg\" alt=\"FHNW Logo\">\n",
    "\n",
    "\n",
    "# Base Model\n",
    "\n",
    "by Fabian Märki\n",
    "\n",
    "## Summary\n",
    "The aim of this notebook is to train a *Base Model* using TF-IDF and a standard ML classifier with default hyperparameters. This builds a *base line* upon which more advanced models (i.e. deep learning ones) should show better performance in order to be considered. Additionally, it also investigate the how much individual features (i.e. words) contribute to the class assignment (feature importance) in order to get an idea if the classifier makes *reasonable* decisions.\n",
    "\n",
    "<a href=\"https://colab.research.google.com/github/markif/2021_HS_DAS_NLP_Notebooks/blob/master/02_c_Base_Model.ipynb\">\n",
    "  <img align=\"left\" src=\"https://colab.research.google.com/assets/colab-badge.svg\" alt=\"Open In Colab\"/>\n",
    "</a>"
   ]
  },
  {
   "cell_type": "code",
   "execution_count": 1,
   "metadata": {},
   "outputs": [
    {
     "name": "stdout",
     "output_type": "stream",
     "text": [
      "Requirement already satisfied: fhnw-nlp-utils>=0.1.3 in /usr/local/lib/python3.6/dist-packages (0.1.3)\n",
      "Requirement already satisfied: gdown in /usr/local/lib/python3.6/dist-packages (from fhnw-nlp-utils>=0.1.3) (4.0.2)\n",
      "Requirement already satisfied: nltk in /usr/local/lib/python3.6/dist-packages (from fhnw-nlp-utils>=0.1.3) (3.6.5)\n",
      "Requirement already satisfied: multiprocess in /usr/local/lib/python3.6/dist-packages (from fhnw-nlp-utils>=0.1.3) (0.70.12.2)\n",
      "Requirement already satisfied: psutil in /usr/local/lib/python3.6/dist-packages (from fhnw-nlp-utils>=0.1.3) (5.8.0)\n",
      "Requirement already satisfied: matplotlib in /usr/local/lib/python3.6/dist-packages (from fhnw-nlp-utils>=0.1.3) (3.3.4)\n",
      "Requirement already satisfied: wordcloud in /usr/local/lib/python3.6/dist-packages (from fhnw-nlp-utils>=0.1.3) (1.8.1)\n",
      "Requirement already satisfied: numpy in /usr/local/lib/python3.6/dist-packages (from fhnw-nlp-utils>=0.1.3) (1.19.5)\n",
      "Requirement already satisfied: pandas in /usr/local/lib/python3.6/dist-packages (from fhnw-nlp-utils>=0.1.3) (1.1.5)\n",
      "Requirement already satisfied: scikit-learn in /usr/local/lib/python3.6/dist-packages (from fhnw-nlp-utils>=0.1.3) (0.24.2)\n",
      "Requirement already satisfied: wget in /usr/local/lib/python3.6/dist-packages (from fhnw-nlp-utils>=0.1.3) (3.2)\n",
      "Requirement already satisfied: six in /usr/local/lib/python3.6/dist-packages (from gdown->fhnw-nlp-utils>=0.1.3) (1.15.0)\n",
      "Requirement already satisfied: filelock in /usr/local/lib/python3.6/dist-packages (from gdown->fhnw-nlp-utils>=0.1.3) (3.3.1)\n",
      "Requirement already satisfied: tqdm in /usr/local/lib/python3.6/dist-packages (from gdown->fhnw-nlp-utils>=0.1.3) (4.62.3)\n",
      "Requirement already satisfied: requests[socks]>=2.12.0 in /usr/local/lib/python3.6/dist-packages (from gdown->fhnw-nlp-utils>=0.1.3) (2.26.0)\n",
      "Requirement already satisfied: click in /usr/local/lib/python3.6/dist-packages (from nltk->fhnw-nlp-utils>=0.1.3) (8.0.3)\n",
      "Requirement already satisfied: joblib in /usr/local/lib/python3.6/dist-packages (from nltk->fhnw-nlp-utils>=0.1.3) (1.1.0)\n",
      "Requirement already satisfied: regex>=2021.8.3 in /usr/local/lib/python3.6/dist-packages (from nltk->fhnw-nlp-utils>=0.1.3) (2021.10.8)\n",
      "Requirement already satisfied: dill>=0.3.4 in /usr/local/lib/python3.6/dist-packages (from multiprocess->fhnw-nlp-utils>=0.1.3) (0.3.4)\n",
      "Requirement already satisfied: pillow>=6.2.0 in /usr/local/lib/python3.6/dist-packages (from matplotlib->fhnw-nlp-utils>=0.1.3) (8.3.1)\n",
      "Requirement already satisfied: cycler>=0.10 in /usr/local/lib/python3.6/dist-packages (from matplotlib->fhnw-nlp-utils>=0.1.3) (0.10.0)\n",
      "Requirement already satisfied: kiwisolver>=1.0.1 in /usr/local/lib/python3.6/dist-packages (from matplotlib->fhnw-nlp-utils>=0.1.3) (1.3.1)\n",
      "Requirement already satisfied: python-dateutil>=2.1 in /usr/local/lib/python3.6/dist-packages (from matplotlib->fhnw-nlp-utils>=0.1.3) (2.8.2)\n",
      "Requirement already satisfied: pyparsing!=2.0.4,!=2.1.2,!=2.1.6,>=2.0.3 in /usr/local/lib/python3.6/dist-packages (from matplotlib->fhnw-nlp-utils>=0.1.3) (2.4.7)\n",
      "Requirement already satisfied: pytz>=2017.2 in /usr/local/lib/python3.6/dist-packages (from pandas->fhnw-nlp-utils>=0.1.3) (2021.3)\n",
      "Requirement already satisfied: scipy>=0.19.1 in /usr/local/lib/python3.6/dist-packages (from scikit-learn->fhnw-nlp-utils>=0.1.3) (1.5.4)\n",
      "Requirement already satisfied: threadpoolctl>=2.0.0 in /usr/local/lib/python3.6/dist-packages (from scikit-learn->fhnw-nlp-utils>=0.1.3) (3.0.0)\n",
      "Requirement already satisfied: idna<4,>=2.5; python_version >= \"3\" in /usr/lib/python3/dist-packages (from requests[socks]>=2.12.0->gdown->fhnw-nlp-utils>=0.1.3) (2.6)\n",
      "Requirement already satisfied: charset-normalizer~=2.0.0; python_version >= \"3\" in /usr/local/lib/python3.6/dist-packages (from requests[socks]>=2.12.0->gdown->fhnw-nlp-utils>=0.1.3) (2.0.4)\n",
      "Requirement already satisfied: certifi>=2017.4.17 in /usr/local/lib/python3.6/dist-packages (from requests[socks]>=2.12.0->gdown->fhnw-nlp-utils>=0.1.3) (2021.5.30)\n",
      "Requirement already satisfied: urllib3<1.27,>=1.21.1 in /usr/local/lib/python3.6/dist-packages (from requests[socks]>=2.12.0->gdown->fhnw-nlp-utils>=0.1.3) (1.26.6)\n",
      "Requirement already satisfied: PySocks!=1.5.7,>=1.5.6; extra == \"socks\" in /usr/local/lib/python3.6/dist-packages (from requests[socks]>=2.12.0->gdown->fhnw-nlp-utils>=0.1.3) (1.7.1)\n",
      "Requirement already satisfied: importlib-metadata; python_version < \"3.8\" in /usr/local/lib/python3.6/dist-packages (from click->nltk->fhnw-nlp-utils>=0.1.3) (4.6.3)\n",
      "Requirement already satisfied: typing-extensions>=3.6.4; python_version < \"3.8\" in /usr/local/lib/python3.6/dist-packages (from importlib-metadata; python_version < \"3.8\"->click->nltk->fhnw-nlp-utils>=0.1.3) (3.7.4.3)\n",
      "Requirement already satisfied: zipp>=0.5 in /usr/local/lib/python3.6/dist-packages (from importlib-metadata; python_version < \"3.8\"->click->nltk->fhnw-nlp-utils>=0.1.3) (3.5.0)\n",
      "\u001b[33mWARNING: You are using pip version 20.2.4; however, version 21.3 is available.\n",
      "You should consider upgrading via the '/usr/bin/python3 -m pip install --upgrade pip' command.\u001b[0m\n"
     ]
    }
   ],
   "source": [
    "!pip install 'fhnw-nlp-utils>=0.1.3'\n",
    "\n",
    "from fhnw.nlp.utils.storage import download\n",
    "from fhnw.nlp.utils.storage import load_dataframe\n",
    "\n",
    "import pandas as pd\n",
    "import numpy as np"
   ]
  },
  {
   "cell_type": "code",
   "execution_count": 2,
   "metadata": {},
   "outputs": [
    {
     "name": "stdout",
     "output_type": "stream",
     "text": [
      "CPU times: user 6.17 s, sys: 1.02 s, total: 7.19 s\n",
      "Wall time: 4.15 s\n"
     ]
    },
    {
     "data": {
      "text/plain": [
       "(350087, 10)"
      ]
     },
     "execution_count": 2,
     "metadata": {},
     "output_type": "execute_result"
    }
   ],
   "source": [
    "%%time\n",
    "download(\"https://drive.google.com/uc?id=19AFeVnOfX8WXU4_3rM7OFoNTWWog_sb_\", \"data/german_doctor_reviews_tokenized.parq\")\n",
    "data = load_dataframe(\"data/german_doctor_reviews_tokenized.parq\")\n",
    "data.shape"
   ]
  },
  {
   "cell_type": "code",
   "execution_count": 3,
   "metadata": {},
   "outputs": [
    {
     "data": {
      "text/html": [
       "<div>\n",
       "<style scoped>\n",
       "    .dataframe tbody tr th:only-of-type {\n",
       "        vertical-align: middle;\n",
       "    }\n",
       "\n",
       "    .dataframe tbody tr th {\n",
       "        vertical-align: top;\n",
       "    }\n",
       "\n",
       "    .dataframe thead th {\n",
       "        text-align: right;\n",
       "    }\n",
       "</style>\n",
       "<table border=\"1\" class=\"dataframe\">\n",
       "  <thead>\n",
       "    <tr style=\"text-align: right;\">\n",
       "      <th></th>\n",
       "      <th>text_original</th>\n",
       "      <th>rating</th>\n",
       "      <th>text</th>\n",
       "      <th>label</th>\n",
       "      <th>sentiment</th>\n",
       "      <th>token_clean</th>\n",
       "      <th>text_clean</th>\n",
       "      <th>token_lemma</th>\n",
       "      <th>token_stem</th>\n",
       "      <th>token_clean_stopwords</th>\n",
       "    </tr>\n",
       "  </thead>\n",
       "  <tbody>\n",
       "    <tr>\n",
       "      <th>0</th>\n",
       "      <td>Ich bin franzose und bin seit ein paar Wochen ...</td>\n",
       "      <td>2.0</td>\n",
       "      <td>Ich bin franzose und bin seit ein paar Wochen ...</td>\n",
       "      <td>positive</td>\n",
       "      <td>1</td>\n",
       "      <td>[ich, bin, franzose, und, bin, seit, ein, paar...</td>\n",
       "      <td>ich bin franzose und bin seit ein paar wochen ...</td>\n",
       "      <td>[franzose, seit, paar, wochen, muenchen, zahn,...</td>\n",
       "      <td>[franzos, seit, paar, woch, muench, ., zahn, s...</td>\n",
       "      <td>[franzose, seit, paar, wochen, muenchen, ., za...</td>\n",
       "    </tr>\n",
       "    <tr>\n",
       "      <th>1</th>\n",
       "      <td>Dieser Arzt ist das unmöglichste was mir in me...</td>\n",
       "      <td>6.0</td>\n",
       "      <td>Dieser Arzt ist das unmöglichste was mir in me...</td>\n",
       "      <td>negative</td>\n",
       "      <td>-1</td>\n",
       "      <td>[dieser, arzt, ist, das, unmöglichste, was, mi...</td>\n",
       "      <td>dieser arzt ist das unmöglichste was mir in me...</td>\n",
       "      <td>[arzt, unmöglichste, leben, je, begegnen, unfr...</td>\n",
       "      <td>[arzt, unmog, leb, je, begegnet, unfreund, ,, ...</td>\n",
       "      <td>[arzt, unmöglichste, leben, je, begegnet, unfr...</td>\n",
       "    </tr>\n",
       "    <tr>\n",
       "      <th>2</th>\n",
       "      <td>Hatte akute Beschwerden am Rücken. Herr Magura...</td>\n",
       "      <td>1.0</td>\n",
       "      <td>Hatte akute Beschwerden am Rücken. Herr Magura...</td>\n",
       "      <td>positive</td>\n",
       "      <td>1</td>\n",
       "      <td>[hatte, akute, beschwerden, am, rücken, ., her...</td>\n",
       "      <td>hatte akute beschwerden am rücken . herr magur...</td>\n",
       "      <td>[akut, beschwerden, rücken, magura, erste, arz...</td>\n",
       "      <td>[akut, beschwerd, ruck, ., magura, erst, arzt,...</td>\n",
       "      <td>[akute, beschwerden, rücken, ., magura, erste,...</td>\n",
       "    </tr>\n",
       "  </tbody>\n",
       "</table>\n",
       "</div>"
      ],
      "text/plain": [
       "                                       text_original  rating  \\\n",
       "0  Ich bin franzose und bin seit ein paar Wochen ...     2.0   \n",
       "1  Dieser Arzt ist das unmöglichste was mir in me...     6.0   \n",
       "2  Hatte akute Beschwerden am Rücken. Herr Magura...     1.0   \n",
       "\n",
       "                                                text     label  sentiment  \\\n",
       "0  Ich bin franzose und bin seit ein paar Wochen ...  positive          1   \n",
       "1  Dieser Arzt ist das unmöglichste was mir in me...  negative         -1   \n",
       "2  Hatte akute Beschwerden am Rücken. Herr Magura...  positive          1   \n",
       "\n",
       "                                         token_clean  \\\n",
       "0  [ich, bin, franzose, und, bin, seit, ein, paar...   \n",
       "1  [dieser, arzt, ist, das, unmöglichste, was, mi...   \n",
       "2  [hatte, akute, beschwerden, am, rücken, ., her...   \n",
       "\n",
       "                                          text_clean  \\\n",
       "0  ich bin franzose und bin seit ein paar wochen ...   \n",
       "1  dieser arzt ist das unmöglichste was mir in me...   \n",
       "2  hatte akute beschwerden am rücken . herr magur...   \n",
       "\n",
       "                                         token_lemma  \\\n",
       "0  [franzose, seit, paar, wochen, muenchen, zahn,...   \n",
       "1  [arzt, unmöglichste, leben, je, begegnen, unfr...   \n",
       "2  [akut, beschwerden, rücken, magura, erste, arz...   \n",
       "\n",
       "                                          token_stem  \\\n",
       "0  [franzos, seit, paar, woch, muench, ., zahn, s...   \n",
       "1  [arzt, unmog, leb, je, begegnet, unfreund, ,, ...   \n",
       "2  [akut, beschwerd, ruck, ., magura, erst, arzt,...   \n",
       "\n",
       "                               token_clean_stopwords  \n",
       "0  [franzose, seit, paar, wochen, muenchen, ., za...  \n",
       "1  [arzt, unmöglichste, leben, je, begegnet, unfr...  \n",
       "2  [akute, beschwerden, rücken, ., magura, erste,...  "
      ]
     },
     "execution_count": 3,
     "metadata": {},
     "output_type": "execute_result"
    }
   ],
   "source": [
    "data.head(3)"
   ]
  },
  {
   "cell_type": "code",
   "execution_count": 3,
   "metadata": {},
   "outputs": [
    {
     "data": {
      "text/plain": [
       "(331187, 10)"
      ]
     },
     "execution_count": 3,
     "metadata": {},
     "output_type": "execute_result"
    }
   ],
   "source": [
    "# remove all neutral sentimens\n",
    "data = data.loc[(data[\"label\"] != \"neutral\")]\n",
    "data.shape"
   ]
  },
  {
   "cell_type": "code",
   "execution_count": null,
   "metadata": {},
   "outputs": [],
   "source": []
  },
  {
   "cell_type": "markdown",
   "metadata": {},
   "source": [
    "Prepare the data (train/test split).Define *random_state* to have the same splits among different runs."
   ]
  },
  {
   "cell_type": "code",
   "execution_count": 4,
   "metadata": {},
   "outputs": [],
   "source": [
    "from sklearn.model_selection import train_test_split\n",
    "\n",
    "# ensure we retain the class weights by using stratify\n",
    "data_train, data_test = train_test_split(data, shuffle=True, random_state=42, stratify=data[\"label\"])"
   ]
  },
  {
   "cell_type": "code",
   "execution_count": 5,
   "metadata": {},
   "outputs": [],
   "source": [
    "X_train, y_train = data_train[\"token_lemma\"], data_train[\"label\"]\n",
    "X_test, y_test = data_test[\"token_lemma\"], data_test[\"label\"]"
   ]
  },
  {
   "cell_type": "code",
   "execution_count": null,
   "metadata": {},
   "outputs": [],
   "source": []
  },
  {
   "cell_type": "markdown",
   "metadata": {},
   "source": [
    "Check if dataset is unbalanced. "
   ]
  },
  {
   "cell_type": "code",
   "execution_count": 6,
   "metadata": {},
   "outputs": [
    {
     "data": {
      "text/plain": [
       "negative     33022\n",
       "positive    298165\n",
       "Name: label, dtype: int64"
      ]
     },
     "execution_count": 6,
     "metadata": {},
     "output_type": "execute_result"
    }
   ],
   "source": [
    "val_counts = data[\"label\"].value_counts().sort_index()\n",
    "val_counts"
   ]
  },
  {
   "cell_type": "code",
   "execution_count": 7,
   "metadata": {},
   "outputs": [
    {
     "name": "stdout",
     "output_type": "stream",
     "text": [
      "negative    0.099708\n",
      "positive    0.900292\n",
      "Name: label, dtype: float64\n"
     ]
    },
    {
     "data": {
      "text/plain": [
       "<AxesSubplot:>"
      ]
     },
     "execution_count": 7,
     "metadata": {},
     "output_type": "execute_result"
    },
    {
     "data": {
      "image/png": "[encoded data removed]",
      "text/plain": [
       "<Figure size 432x288 with 1 Axes>"
      ]
     },
     "metadata": {
      "needs_background": "light"
     },
     "output_type": "display_data"
    }
   ],
   "source": [
    "val_counts = val_counts / np.sum(val_counts)\n",
    "print(val_counts)\n",
    "val_counts.plot(kind='barh')"
   ]
  },
  {
   "cell_type": "markdown",
   "metadata": {},
   "source": [
    "It seems the classes are quite unbalanced. \n",
    "\n",
    "Models often havd difficluties to predict the minor class (in our case, a model that simply predicts the major class already has an accurracy of 90 percent). Methods to deal with unbalanced classes are over- and under-sampling, weighing of classes, data augmentation etc. It turnes out that the classifier works quite good already the minority class already has a lot of observations (even though there are still some improvements possible as we will see later)."
   ]
  },
  {
   "cell_type": "code",
   "execution_count": null,
   "metadata": {},
   "outputs": [],
   "source": []
  },
  {
   "cell_type": "markdown",
   "metadata": {},
   "source": [
    "### Base Model\n",
    "\n",
    "All default values without hyperparameter optimization."
   ]
  },
  {
   "cell_type": "code",
   "execution_count": 8,
   "metadata": {},
   "outputs": [
    {
     "name": "stdout",
     "output_type": "stream",
     "text": [
      "CPU times: user 3.33 s, sys: 892 ms, total: 4.22 s\n",
      "Wall time: 3.19 s\n"
     ]
    },
    {
     "data": {
      "text/plain": [
       "Pipeline(steps=[('vec',\n",
       "                 CountVectorizer(preprocessor=<function <lambda> at 0x7f756e0b6268>,\n",
       "                                 tokenizer=<function <lambda> at 0x7f7577ac8e18>)),\n",
       "                ('tfidf', TfidfTransformer()), ('clf', SGDClassifier())])"
      ]
     },
     "execution_count": 8,
     "metadata": {},
     "output_type": "execute_result"
    }
   ],
   "source": [
    "%%time\n",
    "\n",
    "from sklearn.feature_extraction.text import CountVectorizer\n",
    "from sklearn.feature_extraction.text import TfidfTransformer\n",
    "from sklearn.linear_model import SGDClassifier\n",
    "from sklearn.pipeline import Pipeline\n",
    "\n",
    "pipe = Pipeline([\n",
    "         (\"vec\", CountVectorizer(tokenizer=lambda x: x,preprocessor=lambda x: x, stop_words=None)),\n",
    "         ('tfidf', TfidfTransformer()),\n",
    "         (\"clf\", SGDClassifier())\n",
    "        ])\n",
    "pipe.fit(X_train, y_train)"
   ]
  },
  {
   "cell_type": "code",
   "execution_count": 9,
   "metadata": {},
   "outputs": [],
   "source": [
    "y_train_pred = pipe.predict(X_train)\n",
    "y_test_pred = pipe.predict(X_test)"
   ]
  },
  {
   "cell_type": "code",
   "execution_count": 11,
   "metadata": {},
   "outputs": [
    {
     "name": "stdout",
     "output_type": "stream",
     "text": [
      "Train:\n",
      "              precision    recall  f1-score   support\n",
      "\n",
      "    negative       0.91      0.68      0.78     24766\n",
      "    positive       0.97      0.99      0.98    223624\n",
      "\n",
      "    accuracy                           0.96    248390\n",
      "   macro avg       0.94      0.84      0.88    248390\n",
      "weighted avg       0.96      0.96      0.96    248390\n",
      "\n",
      "Test:\n",
      "              precision    recall  f1-score   support\n",
      "\n",
      "    negative       0.90      0.68      0.77      8256\n",
      "    positive       0.97      0.99      0.98     74541\n",
      "\n",
      "    accuracy                           0.96     82797\n",
      "   macro avg       0.93      0.83      0.87     82797\n",
      "weighted avg       0.96      0.96      0.96     82797\n",
      "\n"
     ]
    }
   ],
   "source": [
    "from sklearn.metrics import classification_report\n",
    "\n",
    "report = classification_report(y_train, y_train_pred)\n",
    "print(\"Train:\")\n",
    "print(report)\n",
    "report = classification_report(y_test, y_test_pred)\n",
    "print(\"Test:\")\n",
    "print(report)"
   ]
  },
  {
   "cell_type": "code",
   "execution_count": 12,
   "metadata": {},
   "outputs": [
    {
     "name": "stdout",
     "output_type": "stream",
     "text": [
      "Set Population: 248390\n",
      "Accuracy: 0.9615\n"
     ]
    },
    {
     "data": {
      "image/png": "[encoded data removed]",
      "text/plain": [
       "<Figure size 720x576 with 2 Axes>"
      ]
     },
     "metadata": {
      "needs_background": "light"
     },
     "output_type": "display_data"
    },
    {
     "name": "stdout",
     "output_type": "stream",
     "text": [
      "Set Population: 82797\n",
      "Accuracy: 0.9601\n"
     ]
    },
    {
     "data": {
      "image/png": "[encoded data removed]",
      "text/plain": [
       "<Figure size 720x576 with 2 Axes>"
      ]
     },
     "metadata": {
      "needs_background": "light"
     },
     "output_type": "display_data"
    }
   ],
   "source": [
    "from fhnw.nlp.utils.ploting import plot_confusion_matrix\n",
    "\n",
    "plot_confusion_matrix(y_train, y_train_pred)\n",
    "plot_confusion_matrix(y_test, y_test_pred)"
   ]
  },
  {
   "cell_type": "code",
   "execution_count": null,
   "metadata": {},
   "outputs": [],
   "source": []
  },
  {
   "cell_type": "markdown",
   "metadata": {},
   "source": [
    "Check feature importance in order to get an idea if the class assignment builds on reasonable words. \n",
    "\n",
    "We can do this because SGDClassifier uses a LinearSVC by default. Recall that a linear SVM creates a hyperplane that uses support vectors to maximise the distance between the two classes. The weights obtained from svm.coef_ represent the vector coordinates which are orthogonal to the hyperplane and their direction indicates the predicted class. The absolute size of the coefficients in relation to each other can then be used to determine feature importance.\n",
    "\n",
    "See also https://aneesha.medium.com/visualising-top-features-in-linear-svm-with-scikit-learn-and-matplotlib-3454ab18a14d"
   ]
  },
  {
   "cell_type": "code",
   "execution_count": 18,
   "metadata": {},
   "outputs": [],
   "source": [
    " def plot_feature_importance(classifier, feature_names, top_features=20):\n",
    "    \"\"\"Plot the feature importance of the top n features of a LinearSVC\n",
    "\n",
    "    Parameters\n",
    "    ----------\n",
    "    classifier : LinearSVC\n",
    "        The classifier\n",
    "    feature_names : iterable\n",
    "        The name of the features\n",
    "    top_features : int\n",
    "        The top n features to plog\n",
    "    \"\"\"\n",
    "      \n",
    "    import matplotlib.pyplot as plt\n",
    "    import numpy as np\n",
    "    \n",
    "    coefs = classifier.coef_\n",
    "    n_coefs = len(coefs)\n",
    "    \n",
    "    for i in range(n_coefs):\n",
    "        # if not binary classification is one-vs-rest\n",
    "        label = classifier.classes_[i] +  (\"/\"+classifier.classes_[1] if n_coefs == 1 else \" vs-rest\")\n",
    "        coef = coefs[i,]\n",
    "    \n",
    "        top_positive_coefficients = np.argsort(coef)[-top_features:]\n",
    "        top_negative_coefficients = np.argsort(coef)[:top_features]\n",
    "        top_coefficients = np.hstack([top_negative_coefficients, top_positive_coefficients])\n",
    " \n",
    "        # create plot\n",
    "        plt.figure(figsize=(15, 5))\n",
    "        colors = [\"red\" if c < 0 else \"green\" for c in coef[top_coefficients]]\n",
    "        plt.bar(np.arange(2 * top_features), coef[top_coefficients], color=colors)\n",
    "        feature_names = np.array(feature_names)\n",
    "        plt.xticks(np.arange(1, 1 + 2 * top_features), feature_names[top_coefficients], rotation=60, ha=\"right\")\n",
    "        plt.title(label)\n",
    "        plt.show()"
   ]
  },
  {
   "cell_type": "code",
   "execution_count": 15,
   "metadata": {},
   "outputs": [
    {
     "name": "stdout",
     "output_type": "stream",
     "text": [
      "(1, 140281)\n"
     ]
    }
   ],
   "source": [
    "vectorizer = pipe.named_steps[\"vec\"]\n",
    "# only works since SGDClassifier uses LinearSVC by default\n",
    "classifier = pipe.named_steps[\"clf\"]\n",
    "print(classifier.coef_.shape)"
   ]
  },
  {
   "cell_type": "code",
   "execution_count": 19,
   "metadata": {},
   "outputs": [
    {
     "data": {
      "image/png": "[encoded data removed]",
      "text/plain": [
       "<Figure size 1080x360 with 1 Axes>"
      ]
     },
     "metadata": {
      "needs_background": "light"
     },
     "output_type": "display_data"
    }
   ],
   "source": [
    "plot_feature_importance(classifier, vectorizer.get_feature_names())"
   ]
  },
  {
   "cell_type": "code",
   "execution_count": null,
   "metadata": {},
   "outputs": [],
   "source": []
  },
  {
   "cell_type": "markdown",
   "metadata": {},
   "source": [
    "Get an impression on texts with wrong prediction."
   ]
  },
  {
   "cell_type": "code",
   "execution_count": 16,
   "metadata": {},
   "outputs": [
    {
     "name": "stderr",
     "output_type": "stream",
     "text": [
      "/usr/local/lib/python3.6/dist-packages/ipykernel_launcher.py:3: SettingWithCopyWarning: \n",
      "A value is trying to be set on a copy of a slice from a DataFrame.\n",
      "Try using .loc[row_indexer,col_indexer] = value instead\n",
      "\n",
      "See the caveats in the documentation: https://pandas.pydata.org/pandas-docs/stable/user_guide/indexing.html#returning-a-view-versus-a-copy\n",
      "  This is separate from the ipykernel package so we can avoid doing imports until\n"
     ]
    },
    {
     "data": {
      "text/html": [
       "<div>\n",
       "<style scoped>\n",
       "    .dataframe tbody tr th:only-of-type {\n",
       "        vertical-align: middle;\n",
       "    }\n",
       "\n",
       "    .dataframe tbody tr th {\n",
       "        vertical-align: top;\n",
       "    }\n",
       "\n",
       "    .dataframe thead th {\n",
       "        text-align: right;\n",
       "    }\n",
       "</style>\n",
       "<table border=\"1\" class=\"dataframe\">\n",
       "  <thead>\n",
       "    <tr style=\"text-align: right;\">\n",
       "      <th></th>\n",
       "      <th>text</th>\n",
       "      <th>label</th>\n",
       "      <th>prediction</th>\n",
       "    </tr>\n",
       "  </thead>\n",
       "  <tbody>\n",
       "    <tr>\n",
       "      <th>2943</th>\n",
       "      <td>Meine fast jährige Mutter kam zur Nachsorge nach einer gerichteten Oberschenkelfraktur zu Herrn Dr. Schallehn. Bei der Röntgenkontrolle Wochen nach der OP wurde ihr gesagt, dass sie nun voll belasten dürfe. Nach weiteren Wochen erfolgt eine weitere Röntgenkontrolle es sei alles in Ordnung. Eine Woche später bricht die implantierte Platte. Bei der ernauten OP stellt sich heraus, dass die Oberschenkelknochen nie verheilt war.</td>\n",
       "      <td>negative</td>\n",
       "      <td>positive</td>\n",
       "    </tr>\n",
       "    <tr>\n",
       "      <th>85355</th>\n",
       "      <td>Den negativen Bewertungen muß ich mich anschließen. Während das Team der Schwestern freundlich ist, wirkt die Ärztin reserviert und abweisend. Fragen beantwortet sie nur widerwillig oder verweist darauf, daß sie keine Zeit habe. Ein Vertrauensverhältnis, welches zwischen Arzt und Patient bestehen sollte, läßt sich so nicht herstellen.</td>\n",
       "      <td>negative</td>\n",
       "      <td>positive</td>\n",
       "    </tr>\n",
       "    <tr>\n",
       "      <th>192073</th>\n",
       "      <td>Habe mir hier die Weisheitszähne raus nehmen lassen. Ich hatte vorher total Panik weshalb ich mich für eine Vollnarkose entschieden hatte. Es wurden alle auf einmal entfernt. Tage nach der OP konnte ich wieder normal essen. Tage nach der OP war ich auf einem Konzert. Es ist kaum angeschwollen und IBU hat vollkommen gereicht. Nach Tagen heute wurden mir die Fäden gezogen inkl. Drainagen. Nach min war ich wieder raus und es tat überhaupt nicht weh. Es war eher ein angenehmes Gefühl als die Fäden gezogen wurden. Am ersten Tag nach der OP Samstag wurde ich von Dr. Hilden angerufen und gefragt wie es mir geht er sagte ich solle mich behandeln wie ein rohes ei Und am . oder . Tag nach der OP wurde ich von einer Schwester angerufen die noch mal gefragt hat wie es mir geht. Sehr fürsorglich! Alles in allem nur zu empfehlen. Bei niemandem mit dem ich gesprochen habe war es so einfach wie bei mir! Wäre ich doch nur nicht die letzte gewesen, dann hätten auch meine Freunde davon profitieren können</td>\n",
       "      <td>positive</td>\n",
       "      <td>negative</td>\n",
       "    </tr>\n",
       "    <tr>\n",
       "      <th>253925</th>\n",
       "      <td>vorher telefonisch erfragt wann ich am besten vorbei kommen soll. Akuten Beschwerden am nächsten Tag pünktlichst Vorort an der Praxis erschienen. Wartezeit eingeplant. ohne Termin, weil krank jedes kommen und gehen der Patienten mitbekommen. nach höflichen erfragen der noch kommenden Wartezeit, gesagt bekommen das der Arzt entscheidet wann wer rein kommt und nochmal gesagt bekommen, dass man keinen Termin hätte. unbehandelt und krank wieder gegangen.</td>\n",
       "      <td>negative</td>\n",
       "      <td>positive</td>\n",
       "    </tr>\n",
       "    <tr>\n",
       "      <th>273247</th>\n",
       "      <td>Herr Nagel ist ein guter Arzt, wenn man dringend einen Krankenschein benötigt. Wenn man ein etwas komplexeres Krankheitsbild hat, versagt er leider völlig. Auf eine Überweisung zum HNO von ihm musste ich mehrere Monate warten. Im Endeffekt war das Krankheitsbild so chronifiziert, dass ich eine stationäre OP brauchte. Ich kann Herrn Nagel leider nicht empfehlen.</td>\n",
       "      <td>negative</td>\n",
       "      <td>positive</td>\n",
       "    </tr>\n",
       "    <tr>\n",
       "      <th>...</th>\n",
       "      <td>...</td>\n",
       "      <td>...</td>\n",
       "      <td>...</td>\n",
       "    </tr>\n",
       "    <tr>\n",
       "      <th>281901</th>\n",
       "      <td>Ich ging zu Dr. Fuchs um meinen Tetanus Schutz auf Grund einer Fußverletzung aufzufrischen! Alles wurde besprochen und wir entschieden uns für eine Tetanus diphtherie komobi Impfung. Ich habe ausdrücklich klar gemacht das ich nicht mehr möchte, der Dr. Stimmte zu um mir dann doch hinterrücks eine andere mehrfach Impfung zu geben! Ich habe noch nie so etwas erlebt! Bin zutiefst schockiert und kann jeden nur warnen zu diesem Arzt zu gehen.</td>\n",
       "      <td>negative</td>\n",
       "      <td>positive</td>\n",
       "    </tr>\n",
       "    <tr>\n",
       "      <th>116945</th>\n",
       "      <td>Eltern bekommen auch eine Krankschreibung an der Rezeption ohne das der Arzt das Kind gesehen hat. Diagnosen werden von den Praxis Mitarbeiterinnen am Telefon gestellt deshalb sind die Wartezeiten sehr kurz und Kleinkinder werden bei Fieber erst nach tagen richtig untersucht weil man der Auffassung ist es könnte sich um ein tage fieber handeln</td>\n",
       "      <td>negative</td>\n",
       "      <td>positive</td>\n",
       "    </tr>\n",
       "    <tr>\n",
       "      <th>217999</th>\n",
       "      <td>Aufgrund eines freien Gelenkkörpers im Knie, der mir seit Monaten Beschwerden gemacht hat, habe ich Herrn Dr. König aufgesucht, um eine Arthroskopie durchführen zu lassen. Herr Dr. König hat das abgelehnt, da im Knie bereits Arthrose sei! Ich habe dann einen anderen Arzt gefunden, der mich innerhalb kürzester Zeit operiert hat. Dadurch kann ich jetzt endlich wieder beschwerdefrei laufen.</td>\n",
       "      <td>negative</td>\n",
       "      <td>positive</td>\n",
       "    </tr>\n",
       "    <tr>\n",
       "      <th>220968</th>\n",
       "      <td>Die Ärtzin selber ist der kompetent und freundlich, sie hat sich viel Zeit genommen und die Untersuchung war gründlich. Allerdings ist die Organisation in der Praxis wirklich eine Katastrophe. Ich musste trotz Termin über anderthalb Stunden warten. Die Sprechstundenhilfe war durchgehend sehr unfreundlich, auf Nachfragen reagierte sie sehr genervt und man bekam dass Gefühl vermittelt, dass die eigene Anwesenheit ausschließlich störend ist. Wohl gefühlt hat man sich definitiv nicht.</td>\n",
       "      <td>positive</td>\n",
       "      <td>negative</td>\n",
       "    </tr>\n",
       "    <tr>\n",
       "      <th>288932</th>\n",
       "      <td>Es wird alles sehr schnell besprochen kaum Zeit um eine ausführliche Besprechung und Beratung durchzuführen.</td>\n",
       "      <td>negative</td>\n",
       "      <td>positive</td>\n",
       "    </tr>\n",
       "  </tbody>\n",
       "</table>\n",
       "<p>9557 rows × 3 columns</p>\n",
       "</div>"
      ],
      "text/plain": [
       "                                                                                                                                                                                                                                                                                                                                                                                                                                                                                                                                                                                                                                                                                                                                                                                                                                                                                                                                                                                                                                             text  \\\n",
       "2943                                                                                                                                                                                                                                                                                                                                                                                                                                                                                                                                                                                                  Meine fast jährige Mutter kam zur Nachsorge nach einer gerichteten Oberschenkelfraktur zu Herrn Dr. Schallehn. Bei der Röntgenkontrolle Wochen nach der OP wurde ihr gesagt, dass sie nun voll belasten dürfe. Nach weiteren Wochen erfolgt eine weitere Röntgenkontrolle es sei alles in Ordnung. Eine Woche später bricht die implantierte Platte. Bei der ernauten OP stellt sich heraus, dass die Oberschenkelknochen nie verheilt war.   \n",
       "85355                                                                                                                                                                                                                                                                                                                                                                                                                                                                                                                                                                                                                                                                                            Den negativen Bewertungen muß ich mich anschließen. Während das Team der Schwestern freundlich ist, wirkt die Ärztin reserviert und abweisend. Fragen beantwortet sie nur widerwillig oder verweist darauf, daß sie keine Zeit habe. Ein Vertrauensverhältnis, welches zwischen Arzt und Patient bestehen sollte, läßt sich so nicht herstellen.   \n",
       "192073  Habe mir hier die Weisheitszähne raus nehmen lassen. Ich hatte vorher total Panik weshalb ich mich für eine Vollnarkose entschieden hatte. Es wurden alle auf einmal entfernt. Tage nach der OP konnte ich wieder normal essen. Tage nach der OP war ich auf einem Konzert. Es ist kaum angeschwollen und IBU hat vollkommen gereicht. Nach Tagen heute wurden mir die Fäden gezogen inkl. Drainagen. Nach min war ich wieder raus und es tat überhaupt nicht weh. Es war eher ein angenehmes Gefühl als die Fäden gezogen wurden. Am ersten Tag nach der OP Samstag wurde ich von Dr. Hilden angerufen und gefragt wie es mir geht er sagte ich solle mich behandeln wie ein rohes ei Und am . oder . Tag nach der OP wurde ich von einer Schwester angerufen die noch mal gefragt hat wie es mir geht. Sehr fürsorglich! Alles in allem nur zu empfehlen. Bei niemandem mit dem ich gesprochen habe war es so einfach wie bei mir! Wäre ich doch nur nicht die letzte gewesen, dann hätten auch meine Freunde davon profitieren können    \n",
       "253925                                                                                                                                                                                                                                                                                                                                                                                                                                                                                                                                                                     vorher telefonisch erfragt wann ich am besten vorbei kommen soll. Akuten Beschwerden am nächsten Tag pünktlichst Vorort an der Praxis erschienen. Wartezeit eingeplant. ohne Termin, weil krank jedes kommen und gehen der Patienten mitbekommen. nach höflichen erfragen der noch kommenden Wartezeit, gesagt bekommen das der Arzt entscheidet wann wer rein kommt und nochmal gesagt bekommen, dass man keinen Termin hätte. unbehandelt und krank wieder gegangen.   \n",
       "273247                                                                                                                                                                                                                                                                                                                                                                                                                                                                                                                                                                                                                                                                Herr Nagel ist ein guter Arzt, wenn man dringend einen Krankenschein benötigt. Wenn man ein etwas komplexeres Krankheitsbild hat, versagt er leider völlig. Auf eine Überweisung zum HNO von ihm musste ich mehrere Monate warten. Im Endeffekt war das Krankheitsbild so chronifiziert, dass ich eine stationäre OP brauchte. Ich kann Herrn Nagel leider nicht empfehlen.   \n",
       "...                                                                                                                                                                                                                                                                                                                                                                                                                                                                                                                                                                                                                                                                                                                                                                                                                                                                                                                                                                                                                                           ...   \n",
       "281901                                                                                                                                                                                                                                                                                                                                                                                                                                                                                                                                                                                  Ich ging zu Dr. Fuchs um meinen Tetanus Schutz auf Grund einer Fußverletzung aufzufrischen! Alles wurde besprochen und wir entschieden uns für eine Tetanus diphtherie komobi Impfung. Ich habe ausdrücklich klar gemacht das ich nicht mehr möchte, der Dr. Stimmte zu um mir dann doch hinterrücks eine andere mehrfach Impfung zu geben! Ich habe noch nie so etwas erlebt! Bin zutiefst schockiert und kann jeden nur warnen zu diesem Arzt zu gehen.   \n",
       "116945                                                                                                                                                                                                                                                                                                                                                                                                                                                                                                                                                                                                                                                                                  Eltern bekommen auch eine Krankschreibung an der Rezeption ohne das der Arzt das Kind gesehen hat. Diagnosen werden von den Praxis Mitarbeiterinnen am Telefon gestellt deshalb sind die Wartezeiten sehr kurz und Kleinkinder werden bei Fieber erst nach tagen richtig untersucht weil man der Auffassung ist es könnte sich um ein tage fieber handeln   \n",
       "217999                                                                                                                                                                                                                                                                                                                                                                                                                                                                                                                                                                                                                                     Aufgrund eines freien Gelenkkörpers im Knie, der mir seit Monaten Beschwerden gemacht hat, habe ich Herrn Dr. König aufgesucht, um eine Arthroskopie durchführen zu lassen. Herr Dr. König hat das abgelehnt, da im Knie bereits Arthrose sei! Ich habe dann einen anderen Arzt gefunden, der mich innerhalb kürzester Zeit operiert hat. Dadurch kann ich jetzt endlich wieder beschwerdefrei laufen.   \n",
       "220968                                                                                                                                                                                                                                                                                                                                                                                                                                                                                                                                      Die Ärtzin selber ist der kompetent und freundlich, sie hat sich viel Zeit genommen und die Untersuchung war gründlich. Allerdings ist die Organisation in der Praxis wirklich eine Katastrophe. Ich musste trotz Termin über anderthalb Stunden warten. Die Sprechstundenhilfe war durchgehend sehr unfreundlich, auf Nachfragen reagierte sie sehr genervt und man bekam dass Gefühl vermittelt, dass die eigene Anwesenheit ausschließlich störend ist. Wohl gefühlt hat man sich definitiv nicht.   \n",
       "288932                                                                                                                                                                                                                                                                                                                                                                                                                                                                                                                                                                                                                                                                                                                                                                                                                                                                                                                               Es wird alles sehr schnell besprochen kaum Zeit um eine ausführliche Besprechung und Beratung durchzuführen.   \n",
       "\n",
       "           label prediction  \n",
       "2943    negative   positive  \n",
       "85355   negative   positive  \n",
       "192073  positive   negative  \n",
       "253925  negative   positive  \n",
       "273247  negative   positive  \n",
       "...          ...        ...  \n",
       "281901  negative   positive  \n",
       "116945  negative   positive  \n",
       "217999  negative   positive  \n",
       "220968  positive   negative  \n",
       "288932  negative   positive  \n",
       "\n",
       "[9557 rows x 3 columns]"
      ]
     },
     "execution_count": 16,
     "metadata": {},
     "output_type": "execute_result"
    }
   ],
   "source": [
    "pd.set_option('display.max_colwidth', None)\n",
    "\n",
    "data_train[\"prediction\"] = y_train_pred\n",
    "\n",
    "data_train[data_train[\"label\"] != data_train[\"prediction\"]][[\"text\", \"label\", \"prediction\"]]"
   ]
  },
  {
   "cell_type": "code",
   "execution_count": null,
   "metadata": {},
   "outputs": [],
   "source": []
  }
 ],
 "metadata": {
  "kernelspec": {
   "display_name": "Python 3",
   "language": "python",
   "name": "python3"
  },
  "language_info": {
   "codemirror_mode": {
    "name": "ipython",
    "version": 3
   },
   "file_extension": ".py",
   "mimetype": "text/x-python",
   "name": "python",
   "nbconvert_exporter": "python",
   "pygments_lexer": "ipython3",
   "version": "3.6.9"
  }
 },
 "nbformat": 4,
 "nbformat_minor": 2
}
