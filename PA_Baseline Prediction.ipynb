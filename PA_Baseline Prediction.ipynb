{
 "cells": [
  {
   "cell_type": "markdown",
   "metadata": {},
   "source": [
    "## Baseline\n",
    "\n",
    "In this Notebook the baseline will be established. All other models will be compared to this results.\n",
    "We will use SGDClassifier without any optimization.\n",
    "\n",
    "### At the end of this notebook \n",
    "\n",
    "you will find a summary of the F1-Score comparision of different models vs this baseline."
   ]
  },
  {
   "cell_type": "code",
   "execution_count": null,
   "metadata": {},
   "outputs": [],
   "source": [
    "!pip install 'fhnw-nlp-utils>=0.1.3'\n",
    "!pip install pyarrow fastparquet\n",
    "\n",
    "from fhnw.nlp.utils.processing import parallelize_dataframe\n",
    "from fhnw.nlp.utils.processing import is_iterable\n",
    "from fhnw.nlp.utils.storage import download\n",
    "from fhnw.nlp.utils.storage import save_dataframe\n",
    "from fhnw.nlp.utils.storage import load_dataframe\n",
    "\n",
    "import pandas as pd\n",
    "import numpy as np"
   ]
  },
  {
   "cell_type": "code",
   "execution_count": 2,
   "metadata": {},
   "outputs": [],
   "source": [
    "# Create in Data cleaning\n",
    "file = \"data/german_news_articles_original_train_and_test_tokenized.parq\"\n",
    "data_all = load_dataframe(file)"
   ]
  },
  {
   "cell_type": "code",
   "execution_count": 3,
   "metadata": {},
   "outputs": [
    {
     "data": {
      "text/html": [
       "<div>\n",
       "<style scoped>\n",
       "    .dataframe tbody tr th:only-of-type {\n",
       "        vertical-align: middle;\n",
       "    }\n",
       "\n",
       "    .dataframe tbody tr th {\n",
       "        vertical-align: top;\n",
       "    }\n",
       "\n",
       "    .dataframe thead th {\n",
       "        text-align: right;\n",
       "    }\n",
       "</style>\n",
       "<table border=\"1\" class=\"dataframe\">\n",
       "  <thead>\n",
       "    <tr style=\"text-align: right;\">\n",
       "      <th></th>\n",
       "      <th>text_original</th>\n",
       "      <th>label</th>\n",
       "      <th>split</th>\n",
       "      <th>text_clean</th>\n",
       "      <th>token_clean</th>\n",
       "      <th>token_lemma</th>\n",
       "      <th>token_stem</th>\n",
       "      <th>token_clean_stopwords</th>\n",
       "    </tr>\n",
       "  </thead>\n",
       "  <tbody>\n",
       "    <tr>\n",
       "      <th>8052</th>\n",
       "      <td>Frankreichs Präsident unterzeichnet bei China-...</td>\n",
       "      <td>International</td>\n",
       "      <td>train</td>\n",
       "      <td>Frankreichs Präsident unterzeichnet bei China ...</td>\n",
       "      <td>[frankreichs, präsident, unterzeichnet, china,...</td>\n",
       "      <td>[frankreich, präsident, unterzeichnen, china, ...</td>\n",
       "      <td>[frankreich, prasident, unterzeichnet, china, ...</td>\n",
       "      <td>[frankreichs, präsident, unterzeichnet, china,...</td>\n",
       "    </tr>\n",
       "    <tr>\n",
       "      <th>4658</th>\n",
       "      <td>44-jähriger Boxer will Reformen fortführen. Ki...</td>\n",
       "      <td>International</td>\n",
       "      <td>train</td>\n",
       "      <td>jähriger Boxer will Reformen fortführen Kiew ...</td>\n",
       "      <td>[jähriger, boxer, reformen, fortführen, kiew, ...</td>\n",
       "      <td>[jährig, boxer, reform, fortführen, kiew, star...</td>\n",
       "      <td>[jahrig, box, reform, fortfuhr, kiew, star, bo...</td>\n",
       "      <td>[jähriger, boxer, reformen, fortführen, kiew, ...</td>\n",
       "    </tr>\n",
       "    <tr>\n",
       "      <th>6125</th>\n",
       "      <td>Ashleymadison.com wurde bereits im Juli gehack...</td>\n",
       "      <td>Web</td>\n",
       "      <td>train</td>\n",
       "      <td>Ashleymadison com wurde bereits im Juli gehack...</td>\n",
       "      <td>[ashleymadison, com, wurde, bereits, juli, geh...</td>\n",
       "      <td>[ashleymadison, com, bereits, juli, hacken, se...</td>\n",
       "      <td>[ashleymadison, com, wurd, bereit, juli, gehac...</td>\n",
       "      <td>[ashleymadison, com, wurde, bereits, juli, geh...</td>\n",
       "    </tr>\n",
       "  </tbody>\n",
       "</table>\n",
       "</div>"
      ],
      "text/plain": [
       "                                          text_original          label  split  \\\n",
       "8052  Frankreichs Präsident unterzeichnet bei China-...  International  train   \n",
       "4658  44-jähriger Boxer will Reformen fortführen. Ki...  International  train   \n",
       "6125  Ashleymadison.com wurde bereits im Juli gehack...            Web  train   \n",
       "\n",
       "                                             text_clean  \\\n",
       "8052  Frankreichs Präsident unterzeichnet bei China ...   \n",
       "4658   jähriger Boxer will Reformen fortführen Kiew ...   \n",
       "6125  Ashleymadison com wurde bereits im Juli gehack...   \n",
       "\n",
       "                                            token_clean  \\\n",
       "8052  [frankreichs, präsident, unterzeichnet, china,...   \n",
       "4658  [jähriger, boxer, reformen, fortführen, kiew, ...   \n",
       "6125  [ashleymadison, com, wurde, bereits, juli, geh...   \n",
       "\n",
       "                                            token_lemma  \\\n",
       "8052  [frankreich, präsident, unterzeichnen, china, ...   \n",
       "4658  [jährig, boxer, reform, fortführen, kiew, star...   \n",
       "6125  [ashleymadison, com, bereits, juli, hacken, se...   \n",
       "\n",
       "                                             token_stem  \\\n",
       "8052  [frankreich, prasident, unterzeichnet, china, ...   \n",
       "4658  [jahrig, box, reform, fortfuhr, kiew, star, bo...   \n",
       "6125  [ashleymadison, com, wurd, bereit, juli, gehac...   \n",
       "\n",
       "                                  token_clean_stopwords  \n",
       "8052  [frankreichs, präsident, unterzeichnet, china,...  \n",
       "4658  [jähriger, boxer, reformen, fortführen, kiew, ...  \n",
       "6125  [ashleymadison, com, wurde, bereits, juli, geh...  "
      ]
     },
     "execution_count": 3,
     "metadata": {},
     "output_type": "execute_result"
    }
   ],
   "source": [
    "data_all.sample(3)"
   ]
  },
  {
   "cell_type": "markdown",
   "metadata": {},
   "source": [
    "Once more have a look at the dataset. It is rather small with only 10K entries.\n",
    "Also some categories are much more popular than other (web and panorama)."
   ]
  },
  {
   "cell_type": "markdown",
   "metadata": {},
   "source": [
    "Implement the original split train/test again which was proposed by the authors of the dataset by using the column split.\n",
    "Also split the train set further into train and validation."
   ]
  },
  {
   "cell_type": "code",
   "execution_count": 4,
   "metadata": {},
   "outputs": [],
   "source": [
    "from sklearn.model_selection import train_test_split\n",
    "\n",
    "data_train_orig = data_all.loc[(data_all[\"split\"] == \"train\")]\n",
    "data_test_orig = data_all.loc[(data_all[\"split\"] == \"test\")]\n",
    "\n",
    "X_train, y_train = data_train_orig[\"token_lemma\"], data_train_orig[\"label\"]\n",
    "X_test, y_test = data_test_orig[\"token_lemma\"], data_test_orig[\"label\"]"
   ]
  },
  {
   "cell_type": "code",
   "execution_count": 5,
   "metadata": {},
   "outputs": [
    {
     "name": "stdout",
     "output_type": "stream",
     "text": [
      "CPU times: user 2.8 s, sys: 5.52 s, total: 8.33 s\n",
      "Wall time: 1.3 s\n"
     ]
    },
    {
     "data": {
      "text/plain": [
       "Pipeline(steps=[('vec',\n",
       "                 CountVectorizer(preprocessor=<function <lambda> at 0x7f0bef93cc80>,\n",
       "                                 tokenizer=<function <lambda> at 0x7f0bf1596950>)),\n",
       "                ('tfidf', TfidfTransformer()), ('clf', SGDClassifier())])"
      ]
     },
     "execution_count": 5,
     "metadata": {},
     "output_type": "execute_result"
    }
   ],
   "source": [
    "%%time\n",
    "# Basic Baseline model\n",
    "# Noting to do in CountVectorizer as we already did tokenize and used stopwords -> use identity lambda\n",
    "from sklearn.feature_extraction.text import CountVectorizer\n",
    "from sklearn.feature_extraction.text import TfidfTransformer\n",
    "from sklearn.linear_model import SGDClassifier\n",
    "from sklearn.pipeline import Pipeline\n",
    "\n",
    "pipe = Pipeline([\n",
    "         (\"vec\", CountVectorizer(ngram_range=(1, 1), tokenizer=lambda x: x,preprocessor=lambda x: x, stop_words=None)),\n",
    "         ('tfidf', TfidfTransformer()),\n",
    "         (\"clf\", SGDClassifier())\n",
    "        ])\n",
    "pipe.fit(X_train, y_train)"
   ]
  },
  {
   "cell_type": "code",
   "execution_count": 6,
   "metadata": {},
   "outputs": [],
   "source": [
    "# Predict on test set for baseline evaluation\n",
    "y_test_pred = pipe.predict(X_test)"
   ]
  },
  {
   "cell_type": "code",
   "execution_count": 22,
   "metadata": {},
   "outputs": [
    {
     "name": "stdout",
     "output_type": "stream",
     "text": [
      "               precision    recall  f1-score   support\n",
      "\n",
      "         Etat       0.92      0.82      0.87        67\n",
      "       Inland       0.85      0.84      0.85       102\n",
      "International       0.89      0.81      0.85       151\n",
      "       Kultur       0.84      0.87      0.85        54\n",
      "     Panorama       0.82      0.84      0.83       168\n",
      "        Sport       0.99      0.99      0.99       120\n",
      "          Web       0.91      0.91      0.91       168\n",
      "   Wirtschaft       0.82      0.88      0.85       141\n",
      " Wissenschaft       0.90      0.96      0.93        57\n",
      "\n",
      "     accuracy                           0.88      1028\n",
      "    macro avg       0.88      0.88      0.88      1028\n",
      " weighted avg       0.88      0.88      0.88      1028\n",
      "\n"
     ]
    }
   ],
   "source": [
    "import class_result\n",
    "import os\n",
    "from sklearn.metrics import classification_report\n",
    "\n",
    "print(classification_report(y_test, y_test_pred, output_dict=False))"
   ]
  },
  {
   "cell_type": "markdown",
   "metadata": {},
   "source": [
    "Actually the results are quiet good. The larger the class the better the result (to be expected).\n"
   ]
  },
  {
   "cell_type": "code",
   "execution_count": 10,
   "metadata": {},
   "outputs": [
    {
     "name": "stdout",
     "output_type": "stream",
     "text": [
      "Set Population: 1028\n",
      "Accuracy: 0.8784\n"
     ]
    },
    {
     "data": {
      "image/png": "[encoded data removed]",
      "text/plain": [
       "<Figure size 720x576 with 2 Axes>"
      ]
     },
     "metadata": {
      "needs_background": "light"
     },
     "output_type": "display_data"
    }
   ],
   "source": [
    "from fhnw.nlp.utils.ploting import plot_confusion_matrix\n",
    "\n",
    "plot_confusion_matrix(y_test, y_test_pred)"
   ]
  },
  {
   "attachments": {},
   "cell_type": "markdown",
   "metadata": {},
   "source": [
    "## Baseline Result vs other classifiers\n",
    "\n",
    "Here you find a table which compares different F1-Scores calculated with CountVectorizer and TfidfTransformer using\n",
    "different Classifiers, Params and Lemmatization and Stemming.\n",
    "\n",
    "The **winner is SGDClassifier on Stemmed tokens after optimization with BayesSearchCV**. But the different to the baseline above is just marginal\n",
    "\n",
    "- As as Classifier SGDClassifier seems to be the winner. It is surprising how good the above baseline without any tweaking or optimization is performing. \n",
    "- Stemming seems to deliver slightly improved results than Lemmatization\n",
    "- 2 Gram always seems to be worse than 1 Gram\n",
    "\n",
    "\n",
    "The calculation of the other models can be found in \n",
    "[PA_Classification_Expermiments](PA_Classification_Expermiments.ipynb)\n",
    "\n",
    "Here the description of the different columns\n",
    "- f1- baseline: SGD Classifier 1 Gram on token_lemma (see this notebook)\n",
    "- f1-one vs one: OneVsOneClassifier  Gram on token_lemma\n",
    "- f1-baseline 2 Gram: SGD Classifier 1 and 2 Gram on token_lemma\n",
    "- f1-kNN: K-Nearest Neighbours Classifier 1 Gram on token_lemma\n",
    "- f1-Random Forest: Random Forest Classifier  1 Gram on token_lemma\n",
    "- f1-Naiv Bayes: Naive Bayes Classifier  1 Gram on token_lemma\n",
    "- f1-baseline stemming: SGD Classifier 1 Gram on on token_stem (Stemming tokens)\n",
    "- **f1-baseline stemming optimized**: SGD Classifier 1 Gram on on token_stem (Stemming tokens) using BayesSearchCV\n",
    "- f1-dummy-clf: Dummy classifier stratified\n",
    "\n",
    "The following table shows the F1 Score of the different models.\n",
    "\n",
    "\n",
    "![classification_results.png.png](classification_results.png)\n",
    "\n",
    "\n",
    "I also used the data to train on **Google Vertex AI (Auto ML)**. \n",
    "\n",
    "See steps in [PA_AutoML Data Prep](PA_AutoML Data Prep.ipynb)\n",
    "\n",
    "Had some difficulties to compare the result with the result above. \n",
    "But it seems that Auto ML is doing worse than the baseline. I assume that the average \n",
    "\n",
    "F1-Score at confidence 50% is 0.8754308"
   ]
  },
  {
   "cell_type": "code",
   "execution_count": 23,
   "metadata": {},
   "outputs": [
    {
     "name": "stdout",
     "output_type": "stream",
     "text": [
      "All F1 Score - Maximum highlighted\n"
     ]
    },
    {
     "data": {
      "text/html": [
       "<style  type=\"text/css\" >\n",
       "#T_ffbe192e_447c_11ec_aaad_0242ac110002row0_col7,#T_ffbe192e_447c_11ec_aaad_0242ac110002row1_col7,#T_ffbe192e_447c_11ec_aaad_0242ac110002row2_col0,#T_ffbe192e_447c_11ec_aaad_0242ac110002row3_col2,#T_ffbe192e_447c_11ec_aaad_0242ac110002row4_col6,#T_ffbe192e_447c_11ec_aaad_0242ac110002row5_col0,#T_ffbe192e_447c_11ec_aaad_0242ac110002row5_col2,#T_ffbe192e_447c_11ec_aaad_0242ac110002row5_col7,#T_ffbe192e_447c_11ec_aaad_0242ac110002row6_col6,#T_ffbe192e_447c_11ec_aaad_0242ac110002row7_col6,#T_ffbe192e_447c_11ec_aaad_0242ac110002row8_col0,#T_ffbe192e_447c_11ec_aaad_0242ac110002row9_col7,#T_ffbe192e_447c_11ec_aaad_0242ac110002row10_col7,#T_ffbe192e_447c_11ec_aaad_0242ac110002row11_col7{\n",
       "            background-color:  lightblue;\n",
       "        }</style><table id=\"T_ffbe192e_447c_11ec_aaad_0242ac110002\" ><thead>    <tr>        <th class=\"blank level0\" ></th>        <th class=\"col_heading level0 col0\" >f1-baseline</th>        <th class=\"col_heading level0 col1\" >f1-one vs one</th>        <th class=\"col_heading level0 col2\" >f1-baseline 2 Gram</th>        <th class=\"col_heading level0 col3\" >f1-kNN</th>        <th class=\"col_heading level0 col4\" >f1-Random Forest</th>        <th class=\"col_heading level0 col5\" >f1-Naiv Bayes</th>        <th class=\"col_heading level0 col6\" >f1-baseline stemming</th>        <th class=\"col_heading level0 col7\" >f1-baseline stemming optimized</th>        <th class=\"col_heading level0 col8\" >f1-dummy clf</th>    </tr></thead><tbody>\n",
       "                <tr>\n",
       "                        <th id=\"T_ffbe192e_447c_11ec_aaad_0242ac110002level0_row0\" class=\"row_heading level0 row0\" >Etat</th>\n",
       "                        <td id=\"T_ffbe192e_447c_11ec_aaad_0242ac110002row0_col0\" class=\"data row0 col0\" >0.850394</td>\n",
       "                        <td id=\"T_ffbe192e_447c_11ec_aaad_0242ac110002row0_col1\" class=\"data row0 col1\" >0.848000</td>\n",
       "                        <td id=\"T_ffbe192e_447c_11ec_aaad_0242ac110002row0_col2\" class=\"data row0 col2\" >0.806723</td>\n",
       "                        <td id=\"T_ffbe192e_447c_11ec_aaad_0242ac110002row0_col3\" class=\"data row0 col3\" >0.753846</td>\n",
       "                        <td id=\"T_ffbe192e_447c_11ec_aaad_0242ac110002row0_col4\" class=\"data row0 col4\" >0.568421</td>\n",
       "                        <td id=\"T_ffbe192e_447c_11ec_aaad_0242ac110002row0_col5\" class=\"data row0 col5\" >0.029412</td>\n",
       "                        <td id=\"T_ffbe192e_447c_11ec_aaad_0242ac110002row0_col6\" class=\"data row0 col6\" >0.852713</td>\n",
       "                        <td id=\"T_ffbe192e_447c_11ec_aaad_0242ac110002row0_col7\" class=\"data row0 col7\" >0.859375</td>\n",
       "                        <td id=\"T_ffbe192e_447c_11ec_aaad_0242ac110002row0_col8\" class=\"data row0 col8\" >0.031746</td>\n",
       "            </tr>\n",
       "            <tr>\n",
       "                        <th id=\"T_ffbe192e_447c_11ec_aaad_0242ac110002level0_row1\" class=\"row_heading level0 row1\" >Inland</th>\n",
       "                        <td id=\"T_ffbe192e_447c_11ec_aaad_0242ac110002row1_col0\" class=\"data row1 col0\" >0.835821</td>\n",
       "                        <td id=\"T_ffbe192e_447c_11ec_aaad_0242ac110002row1_col1\" class=\"data row1 col1\" >0.827586</td>\n",
       "                        <td id=\"T_ffbe192e_447c_11ec_aaad_0242ac110002row1_col2\" class=\"data row1 col2\" >0.831683</td>\n",
       "                        <td id=\"T_ffbe192e_447c_11ec_aaad_0242ac110002row1_col3\" class=\"data row1 col3\" >0.770563</td>\n",
       "                        <td id=\"T_ffbe192e_447c_11ec_aaad_0242ac110002row1_col4\" class=\"data row1 col4\" >0.780488</td>\n",
       "                        <td id=\"T_ffbe192e_447c_11ec_aaad_0242ac110002row1_col5\" class=\"data row1 col5\" >0.717647</td>\n",
       "                        <td id=\"T_ffbe192e_447c_11ec_aaad_0242ac110002row1_col6\" class=\"data row1 col6\" >0.848485</td>\n",
       "                        <td id=\"T_ffbe192e_447c_11ec_aaad_0242ac110002row1_col7\" class=\"data row1 col7\" >0.869565</td>\n",
       "                        <td id=\"T_ffbe192e_447c_11ec_aaad_0242ac110002row1_col8\" class=\"data row1 col8\" >0.040201</td>\n",
       "            </tr>\n",
       "            <tr>\n",
       "                        <th id=\"T_ffbe192e_447c_11ec_aaad_0242ac110002level0_row2\" class=\"row_heading level0 row2\" >International</th>\n",
       "                        <td id=\"T_ffbe192e_447c_11ec_aaad_0242ac110002row2_col0\" class=\"data row2 col0\" >0.855172</td>\n",
       "                        <td id=\"T_ffbe192e_447c_11ec_aaad_0242ac110002row2_col1\" class=\"data row2 col1\" >0.849123</td>\n",
       "                        <td id=\"T_ffbe192e_447c_11ec_aaad_0242ac110002row2_col2\" class=\"data row2 col2\" >0.823529</td>\n",
       "                        <td id=\"T_ffbe192e_447c_11ec_aaad_0242ac110002row2_col3\" class=\"data row2 col3\" >0.813115</td>\n",
       "                        <td id=\"T_ffbe192e_447c_11ec_aaad_0242ac110002row2_col4\" class=\"data row2 col4\" >0.788274</td>\n",
       "                        <td id=\"T_ffbe192e_447c_11ec_aaad_0242ac110002row2_col5\" class=\"data row2 col5\" >0.830450</td>\n",
       "                        <td id=\"T_ffbe192e_447c_11ec_aaad_0242ac110002row2_col6\" class=\"data row2 col6\" >0.851351</td>\n",
       "                        <td id=\"T_ffbe192e_447c_11ec_aaad_0242ac110002row2_col7\" class=\"data row2 col7\" >0.851351</td>\n",
       "                        <td id=\"T_ffbe192e_447c_11ec_aaad_0242ac110002row2_col8\" class=\"data row2 col8\" >0.190184</td>\n",
       "            </tr>\n",
       "            <tr>\n",
       "                        <th id=\"T_ffbe192e_447c_11ec_aaad_0242ac110002level0_row3\" class=\"row_heading level0 row3\" >Kultur</th>\n",
       "                        <td id=\"T_ffbe192e_447c_11ec_aaad_0242ac110002row3_col0\" class=\"data row3 col0\" >0.854545</td>\n",
       "                        <td id=\"T_ffbe192e_447c_11ec_aaad_0242ac110002row3_col1\" class=\"data row3 col1\" >0.811321</td>\n",
       "                        <td id=\"T_ffbe192e_447c_11ec_aaad_0242ac110002row3_col2\" class=\"data row3 col2\" >0.890909</td>\n",
       "                        <td id=\"T_ffbe192e_447c_11ec_aaad_0242ac110002row3_col3\" class=\"data row3 col3\" >0.742268</td>\n",
       "                        <td id=\"T_ffbe192e_447c_11ec_aaad_0242ac110002row3_col4\" class=\"data row3 col4\" >0.804124</td>\n",
       "                        <td id=\"T_ffbe192e_447c_11ec_aaad_0242ac110002row3_col5\" class=\"data row3 col5\" >0.000000</td>\n",
       "                        <td id=\"T_ffbe192e_447c_11ec_aaad_0242ac110002row3_col6\" class=\"data row3 col6\" >0.859813</td>\n",
       "                        <td id=\"T_ffbe192e_447c_11ec_aaad_0242ac110002row3_col7\" class=\"data row3 col7\" >0.878505</td>\n",
       "                        <td id=\"T_ffbe192e_447c_11ec_aaad_0242ac110002row3_col8\" class=\"data row3 col8\" >0.055556</td>\n",
       "            </tr>\n",
       "            <tr>\n",
       "                        <th id=\"T_ffbe192e_447c_11ec_aaad_0242ac110002level0_row4\" class=\"row_heading level0 row4\" >Panorama</th>\n",
       "                        <td id=\"T_ffbe192e_447c_11ec_aaad_0242ac110002row4_col0\" class=\"data row4 col0\" >0.829412</td>\n",
       "                        <td id=\"T_ffbe192e_447c_11ec_aaad_0242ac110002row4_col1\" class=\"data row4 col1\" >0.802228</td>\n",
       "                        <td id=\"T_ffbe192e_447c_11ec_aaad_0242ac110002row4_col2\" class=\"data row4 col2\" >0.804598</td>\n",
       "                        <td id=\"T_ffbe192e_447c_11ec_aaad_0242ac110002row4_col3\" class=\"data row4 col3\" >0.738028</td>\n",
       "                        <td id=\"T_ffbe192e_447c_11ec_aaad_0242ac110002row4_col4\" class=\"data row4 col4\" >0.717087</td>\n",
       "                        <td id=\"T_ffbe192e_447c_11ec_aaad_0242ac110002row4_col5\" class=\"data row4 col5\" >0.631791</td>\n",
       "                        <td id=\"T_ffbe192e_447c_11ec_aaad_0242ac110002row4_col6\" class=\"data row4 col6\" >0.838150</td>\n",
       "                        <td id=\"T_ffbe192e_447c_11ec_aaad_0242ac110002row4_col7\" class=\"data row4 col7\" >0.826347</td>\n",
       "                        <td id=\"T_ffbe192e_447c_11ec_aaad_0242ac110002row4_col8\" class=\"data row4 col8\" >0.197015</td>\n",
       "            </tr>\n",
       "            <tr>\n",
       "                        <th id=\"T_ffbe192e_447c_11ec_aaad_0242ac110002level0_row5\" class=\"row_heading level0 row5\" >Sport</th>\n",
       "                        <td id=\"T_ffbe192e_447c_11ec_aaad_0242ac110002row5_col0\" class=\"data row5 col0\" >0.991667</td>\n",
       "                        <td id=\"T_ffbe192e_447c_11ec_aaad_0242ac110002row5_col1\" class=\"data row5 col1\" >0.978903</td>\n",
       "                        <td id=\"T_ffbe192e_447c_11ec_aaad_0242ac110002row5_col2\" class=\"data row5 col2\" >0.991667</td>\n",
       "                        <td id=\"T_ffbe192e_447c_11ec_aaad_0242ac110002row5_col3\" class=\"data row5 col3\" >0.962343</td>\n",
       "                        <td id=\"T_ffbe192e_447c_11ec_aaad_0242ac110002row5_col4\" class=\"data row5 col4\" >0.970464</td>\n",
       "                        <td id=\"T_ffbe192e_447c_11ec_aaad_0242ac110002row5_col5\" class=\"data row5 col5\" >0.948718</td>\n",
       "                        <td id=\"T_ffbe192e_447c_11ec_aaad_0242ac110002row5_col6\" class=\"data row5 col6\" >0.987448</td>\n",
       "                        <td id=\"T_ffbe192e_447c_11ec_aaad_0242ac110002row5_col7\" class=\"data row5 col7\" >0.991667</td>\n",
       "                        <td id=\"T_ffbe192e_447c_11ec_aaad_0242ac110002row5_col8\" class=\"data row5 col8\" >0.150794</td>\n",
       "            </tr>\n",
       "            <tr>\n",
       "                        <th id=\"T_ffbe192e_447c_11ec_aaad_0242ac110002level0_row6\" class=\"row_heading level0 row6\" >Web</th>\n",
       "                        <td id=\"T_ffbe192e_447c_11ec_aaad_0242ac110002row6_col0\" class=\"data row6 col0\" >0.908012</td>\n",
       "                        <td id=\"T_ffbe192e_447c_11ec_aaad_0242ac110002row6_col1\" class=\"data row6 col1\" >0.900901</td>\n",
       "                        <td id=\"T_ffbe192e_447c_11ec_aaad_0242ac110002row6_col2\" class=\"data row6 col2\" >0.908012</td>\n",
       "                        <td id=\"T_ffbe192e_447c_11ec_aaad_0242ac110002row6_col3\" class=\"data row6 col3\" >0.835913</td>\n",
       "                        <td id=\"T_ffbe192e_447c_11ec_aaad_0242ac110002row6_col4\" class=\"data row6 col4\" >0.850000</td>\n",
       "                        <td id=\"T_ffbe192e_447c_11ec_aaad_0242ac110002row6_col5\" class=\"data row6 col5\" >0.756219</td>\n",
       "                        <td id=\"T_ffbe192e_447c_11ec_aaad_0242ac110002row6_col6\" class=\"data row6 col6\" >0.925373</td>\n",
       "                        <td id=\"T_ffbe192e_447c_11ec_aaad_0242ac110002row6_col7\" class=\"data row6 col7\" >0.923077</td>\n",
       "                        <td id=\"T_ffbe192e_447c_11ec_aaad_0242ac110002row6_col8\" class=\"data row6 col8\" >0.127796</td>\n",
       "            </tr>\n",
       "            <tr>\n",
       "                        <th id=\"T_ffbe192e_447c_11ec_aaad_0242ac110002level0_row7\" class=\"row_heading level0 row7\" >Wirtschaft</th>\n",
       "                        <td id=\"T_ffbe192e_447c_11ec_aaad_0242ac110002row7_col0\" class=\"data row7 col0\" >0.849315</td>\n",
       "                        <td id=\"T_ffbe192e_447c_11ec_aaad_0242ac110002row7_col1\" class=\"data row7 col1\" >0.813559</td>\n",
       "                        <td id=\"T_ffbe192e_447c_11ec_aaad_0242ac110002row7_col2\" class=\"data row7 col2\" >0.823129</td>\n",
       "                        <td id=\"T_ffbe192e_447c_11ec_aaad_0242ac110002row7_col3\" class=\"data row7 col3\" >0.747253</td>\n",
       "                        <td id=\"T_ffbe192e_447c_11ec_aaad_0242ac110002row7_col4\" class=\"data row7 col4\" >0.719723</td>\n",
       "                        <td id=\"T_ffbe192e_447c_11ec_aaad_0242ac110002row7_col5\" class=\"data row7 col5\" >0.785965</td>\n",
       "                        <td id=\"T_ffbe192e_447c_11ec_aaad_0242ac110002row7_col6\" class=\"data row7 col6\" >0.851211</td>\n",
       "                        <td id=\"T_ffbe192e_447c_11ec_aaad_0242ac110002row7_col7\" class=\"data row7 col7\" >0.844291</td>\n",
       "                        <td id=\"T_ffbe192e_447c_11ec_aaad_0242ac110002row7_col8\" class=\"data row7 col8\" >0.141343</td>\n",
       "            </tr>\n",
       "            <tr>\n",
       "                        <th id=\"T_ffbe192e_447c_11ec_aaad_0242ac110002level0_row8\" class=\"row_heading level0 row8\" >Wissenschaft</th>\n",
       "                        <td id=\"T_ffbe192e_447c_11ec_aaad_0242ac110002row8_col0\" class=\"data row8 col0\" >0.924370</td>\n",
       "                        <td id=\"T_ffbe192e_447c_11ec_aaad_0242ac110002row8_col1\" class=\"data row8 col1\" >0.902655</td>\n",
       "                        <td id=\"T_ffbe192e_447c_11ec_aaad_0242ac110002row8_col2\" class=\"data row8 col2\" >0.905983</td>\n",
       "                        <td id=\"T_ffbe192e_447c_11ec_aaad_0242ac110002row8_col3\" class=\"data row8 col3\" >0.796117</td>\n",
       "                        <td id=\"T_ffbe192e_447c_11ec_aaad_0242ac110002row8_col4\" class=\"data row8 col4\" >0.844037</td>\n",
       "                        <td id=\"T_ffbe192e_447c_11ec_aaad_0242ac110002row8_col5\" class=\"data row8 col5\" >0.000000</td>\n",
       "                        <td id=\"T_ffbe192e_447c_11ec_aaad_0242ac110002row8_col6\" class=\"data row8 col6\" >0.905983</td>\n",
       "                        <td id=\"T_ffbe192e_447c_11ec_aaad_0242ac110002row8_col7\" class=\"data row8 col7\" >0.905983</td>\n",
       "                        <td id=\"T_ffbe192e_447c_11ec_aaad_0242ac110002row8_col8\" class=\"data row8 col8\" >0.052632</td>\n",
       "            </tr>\n",
       "            <tr>\n",
       "                        <th id=\"T_ffbe192e_447c_11ec_aaad_0242ac110002level0_row9\" class=\"row_heading level0 row9\" >accuracy</th>\n",
       "                        <td id=\"T_ffbe192e_447c_11ec_aaad_0242ac110002row9_col0\" class=\"data row9 col0\" >0.876459</td>\n",
       "                        <td id=\"T_ffbe192e_447c_11ec_aaad_0242ac110002row9_col1\" class=\"data row9 col1\" >0.857977</td>\n",
       "                        <td id=\"T_ffbe192e_447c_11ec_aaad_0242ac110002row9_col2\" class=\"data row9 col2\" >0.861868</td>\n",
       "                        <td id=\"T_ffbe192e_447c_11ec_aaad_0242ac110002row9_col3\" class=\"data row9 col3\" >0.799611</td>\n",
       "                        <td id=\"T_ffbe192e_447c_11ec_aaad_0242ac110002row9_col4\" class=\"data row9 col4\" >0.790856</td>\n",
       "                        <td id=\"T_ffbe192e_447c_11ec_aaad_0242ac110002row9_col5\" class=\"data row9 col5\" >0.694553</td>\n",
       "                        <td id=\"T_ffbe192e_447c_11ec_aaad_0242ac110002row9_col6\" class=\"data row9 col6\" >0.880350</td>\n",
       "                        <td id=\"T_ffbe192e_447c_11ec_aaad_0242ac110002row9_col7\" class=\"data row9 col7\" >0.881323</td>\n",
       "                        <td id=\"T_ffbe192e_447c_11ec_aaad_0242ac110002row9_col8\" class=\"data row9 col8\" >0.131323</td>\n",
       "            </tr>\n",
       "            <tr>\n",
       "                        <th id=\"T_ffbe192e_447c_11ec_aaad_0242ac110002level0_row10\" class=\"row_heading level0 row10\" >macro avg</th>\n",
       "                        <td id=\"T_ffbe192e_447c_11ec_aaad_0242ac110002row10_col0\" class=\"data row10 col0\" >0.877634</td>\n",
       "                        <td id=\"T_ffbe192e_447c_11ec_aaad_0242ac110002row10_col1\" class=\"data row10 col1\" >0.859364</td>\n",
       "                        <td id=\"T_ffbe192e_447c_11ec_aaad_0242ac110002row10_col2\" class=\"data row10 col2\" >0.865137</td>\n",
       "                        <td id=\"T_ffbe192e_447c_11ec_aaad_0242ac110002row10_col3\" class=\"data row10 col3\" >0.795494</td>\n",
       "                        <td id=\"T_ffbe192e_447c_11ec_aaad_0242ac110002row10_col4\" class=\"data row10 col4\" >0.782513</td>\n",
       "                        <td id=\"T_ffbe192e_447c_11ec_aaad_0242ac110002row10_col5\" class=\"data row10 col5\" >0.522245</td>\n",
       "                        <td id=\"T_ffbe192e_447c_11ec_aaad_0242ac110002row10_col6\" class=\"data row10 col6\" >0.880059</td>\n",
       "                        <td id=\"T_ffbe192e_447c_11ec_aaad_0242ac110002row10_col7\" class=\"data row10 col7\" >0.883351</td>\n",
       "                        <td id=\"T_ffbe192e_447c_11ec_aaad_0242ac110002row10_col8\" class=\"data row10 col8\" >0.109696</td>\n",
       "            </tr>\n",
       "            <tr>\n",
       "                        <th id=\"T_ffbe192e_447c_11ec_aaad_0242ac110002level0_row11\" class=\"row_heading level0 row11\" >weighted avg</th>\n",
       "                        <td id=\"T_ffbe192e_447c_11ec_aaad_0242ac110002row11_col0\" class=\"data row11 col0\" >0.876300</td>\n",
       "                        <td id=\"T_ffbe192e_447c_11ec_aaad_0242ac110002row11_col1\" class=\"data row11 col1\" >0.858965</td>\n",
       "                        <td id=\"T_ffbe192e_447c_11ec_aaad_0242ac110002row11_col2\" class=\"data row11 col2\" >0.861639</td>\n",
       "                        <td id=\"T_ffbe192e_447c_11ec_aaad_0242ac110002row11_col3\" class=\"data row11 col3\" >0.800207</td>\n",
       "                        <td id=\"T_ffbe192e_447c_11ec_aaad_0242ac110002row11_col4\" class=\"data row11 col4\" >0.787416</td>\n",
       "                        <td id=\"T_ffbe192e_447c_11ec_aaad_0242ac110002row11_col5\" class=\"data row11 col5\" >0.640488</td>\n",
       "                        <td id=\"T_ffbe192e_447c_11ec_aaad_0242ac110002row11_col6\" class=\"data row11 col6\" >0.880436</td>\n",
       "                        <td id=\"T_ffbe192e_447c_11ec_aaad_0242ac110002row11_col7\" class=\"data row11 col7\" >0.881183</td>\n",
       "                        <td id=\"T_ffbe192e_447c_11ec_aaad_0242ac110002row11_col8\" class=\"data row11 col8\" >0.129901</td>\n",
       "            </tr>\n",
       "    </tbody></table>"
      ],
      "text/plain": [
       "<pandas.io.formats.style.Styler at 0x7f0d2fcf5c50>"
      ]
     },
     "execution_count": 23,
     "metadata": {},
     "output_type": "execute_result"
    }
   ],
   "source": [
    "# This is how the above image was created\n",
    "import os\n",
    "import class_result\n",
    "\n",
    "filename = 'data/overview_classification_results.csv'\n",
    "df_classification_results = pd.read_csv(filename, index_col=0)\n",
    "print(\"All F1 Score - Maximum highlighted\")\n",
    "df_classification_results.style.highlight_max(color = 'lightblue', axis = 1)"
   ]
  }
 ],
 "metadata": {
  "kernelspec": {
   "display_name": "Python 3",
   "language": "python",
   "name": "python3"
  },
  "language_info": {
   "codemirror_mode": {
    "name": "ipython",
    "version": 3
   },
   "file_extension": ".py",
   "mimetype": "text/x-python",
   "name": "python",
   "nbconvert_exporter": "python",
   "pygments_lexer": "ipython3",
   "version": "3.6.9"
  }
 },
 "nbformat": 4,
 "nbformat_minor": 2
}
